{
 "cells": [
  {
   "cell_type": "markdown",
   "id": "8605dfd2",
   "metadata": {},
   "source": [
    "# Подгрузка библиотек и данных"
   ]
  },
  {
   "cell_type": "code",
   "execution_count": 100,
   "id": "6bb65771",
   "metadata": {},
   "outputs": [],
   "source": [
    "from utils.support import *\n",
    "\n",
    "from sklearn import model_selection, ensemble, linear_model, tree, \\\n",
    "    naive_bayes, neighbors, preprocessing, cluster, mixture, svm, decomposition\n",
    "from sklearn.metrics import roc_curve, recall_score, make_scorer\n",
    "from sklearn.model_selection import train_test_split\n",
    "# from sklearn.pipeline import Pipeline\n",
    "from imblearn import over_sampling\n",
    "from imblearn.pipeline import Pipeline\n",
    "\n",
    "import lightgbm as lgbm\n",
    "import catboost as cat\n",
    "\n",
    "import warnings\n",
    "warnings.filterwarnings('ignore')"
   ]
  },
  {
   "cell_type": "code",
   "execution_count": 101,
   "id": "2c97834e",
   "metadata": {},
   "outputs": [],
   "source": [
    "data = open_data('data/bank_data_final_2.csv')\n",
    "lin_features = open_list('logs/top_linear_features.txt')\n",
    "tree_features = open_list('logs/top_non_linear_features.txt')\n",
    "cat_features = open_list('logs/top_cat_features_list.txt')\n",
    "kbest_features = open_list('logs/best_k_features.txt')"
   ]
  },
  {
   "cell_type": "code",
   "execution_count": 102,
   "id": "48e20c91",
   "metadata": {},
   "outputs": [],
   "source": [
    "df_lin = data[lin_features]\n",
    "df = data[tree_features]\n",
    "new_list_rf = ['name_email_similarity',\n",
    " 'current_address_months_count',\n",
    " 'email_is_free',\n",
    " 'bank_months_count',\n",
    " 'keep_alive_session',\n",
    " 'CA_AC',\n",
    " 'payment_type_AC',\n",
    " 'windows_AC',\n",
    " 'windows_AB',\n",
    " 'AC_BA',\n",
    " 'AB_BA',\n",
    " 'n_e_cat_similarity',\n",
    " 'cur_address_months_binned_first_spike',\n",
    " 'cur_address_fraud_zone',\n",
    " 'cur_address_months_binned_end_spike',\n",
    " 'is_credit_limit_high',\n",
    " 'new_email_entrance']\n",
    "\n"
   ]
  },
  {
   "cell_type": "code",
   "execution_count": 103,
   "id": "5aa8287c",
   "metadata": {},
   "outputs": [
    {
     "data": {
      "text/plain": [
       "fraud_bool\n",
       "0    0.988971\n",
       "1    0.011029\n",
       "Name: proportion, dtype: float64"
      ]
     },
     "execution_count": 103,
     "metadata": {},
     "output_type": "execute_result"
    }
   ],
   "source": [
    "data['fraud_bool'].value_counts(normalize=True)"
   ]
  },
  {
   "cell_type": "code",
   "execution_count": 104,
   "id": "1ea9d550",
   "metadata": {},
   "outputs": [
    {
     "data": {
      "text/html": [
       "<div>\n",
       "<style scoped>\n",
       "    .dataframe tbody tr th:only-of-type {\n",
       "        vertical-align: middle;\n",
       "    }\n",
       "\n",
       "    .dataframe tbody tr th {\n",
       "        vertical-align: top;\n",
       "    }\n",
       "\n",
       "    .dataframe thead th {\n",
       "        text-align: right;\n",
       "    }\n",
       "</style>\n",
       "<table border=\"1\" class=\"dataframe\">\n",
       "  <thead>\n",
       "    <tr style=\"text-align: right;\">\n",
       "      <th></th>\n",
       "      <th>fraud_bool</th>\n",
       "      <th>income</th>\n",
       "      <th>name_email_similarity</th>\n",
       "      <th>current_address_months_count</th>\n",
       "      <th>customer_age</th>\n",
       "      <th>days_since_request</th>\n",
       "      <th>intended_balcon_amount</th>\n",
       "      <th>payment_type</th>\n",
       "      <th>zip_count_4w</th>\n",
       "      <th>velocity_6h</th>\n",
       "      <th>...</th>\n",
       "      <th>zip_peak</th>\n",
       "      <th>bank_branch_count_8w</th>\n",
       "      <th>bank_branch_peak</th>\n",
       "      <th>zip_transaction_ratio</th>\n",
       "      <th>max_zip_sum</th>\n",
       "      <th>zip_sum_ratio</th>\n",
       "      <th>vel_1</th>\n",
       "      <th>vel_2</th>\n",
       "      <th>vel_3</th>\n",
       "      <th>vel_4</th>\n",
       "    </tr>\n",
       "  </thead>\n",
       "  <tbody>\n",
       "    <tr>\n",
       "      <th>634102</th>\n",
       "      <td>0</td>\n",
       "      <td>7</td>\n",
       "      <td>0.546775</td>\n",
       "      <td>375</td>\n",
       "      <td>3</td>\n",
       "      <td>0.027343</td>\n",
       "      <td>-0.654816</td>\n",
       "      <td>AB</td>\n",
       "      <td>1455</td>\n",
       "      <td>3871.735367</td>\n",
       "      <td>...</td>\n",
       "      <td>1</td>\n",
       "      <td>14</td>\n",
       "      <td>1</td>\n",
       "      <td>194.000000</td>\n",
       "      <td>291000.0</td>\n",
       "      <td>7.275</td>\n",
       "      <td>-2114.180477</td>\n",
       "      <td>-1776.742716</td>\n",
       "      <td>107.040705</td>\n",
       "      <td>-0.011601</td>\n",
       "    </tr>\n",
       "    <tr>\n",
       "      <th>173005</th>\n",
       "      <td>0</td>\n",
       "      <td>8</td>\n",
       "      <td>0.715285</td>\n",
       "      <td>379</td>\n",
       "      <td>4</td>\n",
       "      <td>0.007504</td>\n",
       "      <td>18.068853</td>\n",
       "      <td>AA</td>\n",
       "      <td>1086</td>\n",
       "      <td>9501.114204</td>\n",
       "      <td>...</td>\n",
       "      <td>1</td>\n",
       "      <td>748</td>\n",
       "      <td>0</td>\n",
       "      <td>2.899866</td>\n",
       "      <td>217200.0</td>\n",
       "      <td>5.430</td>\n",
       "      <td>5708.831358</td>\n",
       "      <td>1203.137209</td>\n",
       "      <td>-235.726930</td>\n",
       "      <td>-0.124511</td>\n",
       "    </tr>\n",
       "  </tbody>\n",
       "</table>\n",
       "<p>2 rows × 83 columns</p>\n",
       "</div>"
      ],
      "text/plain": [
       "        fraud_bool  income  name_email_similarity  \\\n",
       "634102           0       7               0.546775   \n",
       "173005           0       8               0.715285   \n",
       "\n",
       "        current_address_months_count  customer_age  days_since_request  \\\n",
       "634102                           375             3            0.027343   \n",
       "173005                           379             4            0.007504   \n",
       "\n",
       "        intended_balcon_amount payment_type  zip_count_4w  velocity_6h  ...  \\\n",
       "634102               -0.654816           AB          1455  3871.735367  ...   \n",
       "173005               18.068853           AA          1086  9501.114204  ...   \n",
       "\n",
       "        zip_peak  bank_branch_count_8w  bank_branch_peak  \\\n",
       "634102         1                    14                 1   \n",
       "173005         1                   748                 0   \n",
       "\n",
       "       zip_transaction_ratio  max_zip_sum  zip_sum_ratio        vel_1  \\\n",
       "634102            194.000000     291000.0          7.275 -2114.180477   \n",
       "173005              2.899866     217200.0          5.430  5708.831358   \n",
       "\n",
       "              vel_2       vel_3     vel_4  \n",
       "634102 -1776.742716  107.040705 -0.011601  \n",
       "173005  1203.137209 -235.726930 -0.124511  \n",
       "\n",
       "[2 rows x 83 columns]"
      ]
     },
     "execution_count": 104,
     "metadata": {},
     "output_type": "execute_result"
    }
   ],
   "source": [
    "data.head(2)"
   ]
  },
  {
   "cell_type": "code",
   "execution_count": 105,
   "id": "ade3666b",
   "metadata": {},
   "outputs": [],
   "source": [
    "drop_list = []\n",
    "\n",
    "# преобразование data для экономии памяти\n",
    "for col in data.columns:\n",
    "    # если признак имеет менее 128 уникальных значений\n",
    "    if data[col].dtype == 'O':\n",
    "        drop_list.append(col)\n",
    "    elif data[col].nunique() < 128:\n",
    "        # преобразуем формат\n",
    "        data[col] = data[col].astype('uint8')\n",
    "        \n",
    "data.drop(drop_list, axis=1, inplace=True)"
   ]
  },
  {
   "cell_type": "code",
   "execution_count": 106,
   "id": "1874f372",
   "metadata": {},
   "outputs": [
    {
     "name": "stdout",
     "output_type": "stream",
     "text": [
      "<class 'pandas.core.frame.DataFrame'>\n",
      "Index: 750000 entries, 634102 to 471855\n",
      "Data columns (total 79 columns):\n",
      " #   Column                                  Non-Null Count   Dtype  \n",
      "---  ------                                  --------------   -----  \n",
      " 0   fraud_bool                              750000 non-null  uint8  \n",
      " 1   income                                  750000 non-null  uint8  \n",
      " 2   name_email_similarity                   750000 non-null  float64\n",
      " 3   current_address_months_count            750000 non-null  int64  \n",
      " 4   customer_age                            750000 non-null  uint8  \n",
      " 5   days_since_request                      750000 non-null  float64\n",
      " 6   intended_balcon_amount                  750000 non-null  float64\n",
      " 7   zip_count_4w                            750000 non-null  int64  \n",
      " 8   velocity_6h                             750000 non-null  float64\n",
      " 9   velocity_24h                            750000 non-null  float64\n",
      " 10  velocity_4w                             750000 non-null  float64\n",
      " 11  date_of_birth_distinct_emails_4w        750000 non-null  uint8  \n",
      " 12  credit_risk_score                       750000 non-null  int64  \n",
      " 13  email_is_free                           750000 non-null  uint8  \n",
      " 14  phone_home_valid                        750000 non-null  uint8  \n",
      " 15  phone_mobile_valid                      750000 non-null  uint8  \n",
      " 16  bank_months_count                       750000 non-null  float64\n",
      " 17  has_other_cards                         750000 non-null  uint8  \n",
      " 18  proposed_credit_limit                   750000 non-null  uint8  \n",
      " 19  foreign_request                         750000 non-null  uint8  \n",
      " 20  source                                  750000 non-null  uint8  \n",
      " 21  session_length_in_minutes               750000 non-null  float64\n",
      " 22  keep_alive_session                      750000 non-null  uint8  \n",
      " 23  device_distinct_emails_8w               750000 non-null  uint8  \n",
      " 24  month                                   750000 non-null  uint8  \n",
      " 25  only_one_valid                          750000 non-null  uint8  \n",
      " 26  velocity_day_change                     750000 non-null  float64\n",
      " 27  velocity_day_month_change               750000 non-null  float64\n",
      " 28  velocity_term_month_change              750000 non-null  float64\n",
      " 29  velocity_day_ratio                      750000 non-null  float64\n",
      " 30  velocity_day_month_ratio                750000 non-null  float64\n",
      " 31  velocity_term_month_ratio               750000 non-null  float64\n",
      " 32  housing_status_BA                       750000 non-null  uint8  \n",
      " 33  CA_BA                                   750000 non-null  uint8  \n",
      " 34  housing_status_BE                       750000 non-null  uint8  \n",
      " 35  CA_AC                                   750000 non-null  uint8  \n",
      " 36  payment_type_AA                         750000 non-null  uint8  \n",
      " 37  payment_type_AC                         750000 non-null  uint8  \n",
      " 38  device_os_windows                       750000 non-null  uint8  \n",
      " 39  windows_AC                              750000 non-null  uint8  \n",
      " 40  device_os_linux                         750000 non-null  uint8  \n",
      " 41  device_os_other                         750000 non-null  uint8  \n",
      " 42  windows_AB                              750000 non-null  uint8  \n",
      " 43  AC_BA                                   750000 non-null  uint8  \n",
      " 44  AB_BA                                   750000 non-null  uint8  \n",
      " 45  BA_windows                              750000 non-null  uint8  \n",
      " 46  n_e_cat_similarity                      750000 non-null  uint8  \n",
      " 47  n_e_norm_similarity                     750000 non-null  float64\n",
      " 48  danger_spike                            750000 non-null  uint8  \n",
      " 49  cur_address_months_binned_first_spike   750000 non-null  uint8  \n",
      " 50  cur_address_months_binned_danger_spike  750000 non-null  uint8  \n",
      " 51  cur_address_months_binned_end_drop      750000 non-null  uint8  \n",
      " 52  cur_address                             750000 non-null  float64\n",
      " 53  cur_address_fraud_zone                  750000 non-null  uint8  \n",
      " 54  recency_to_lifetime_ratio               750000 non-null  float64\n",
      " 55  is_recent_request                       750000 non-null  uint8  \n",
      " 56  bank_months_count_qt                    750000 non-null  float64\n",
      " 57  bank_months_0_2                         750000 non-null  uint8  \n",
      " 58  bank_months_strong_peak                 750000 non-null  uint8  \n",
      " 59  cur_address_months_binned_end_spike     750000 non-null  uint8  \n",
      " 60  births_danger_zone                      750000 non-null  uint8  \n",
      " 61  birth_distinct_emails_logged            750000 non-null  uint8  \n",
      " 62  is_credit_limit_high                    750000 non-null  uint8  \n",
      " 63  max_account_sum                         750000 non-null  float64\n",
      " 64  account_sum_by_month                    750000 non-null  float64\n",
      " 65  intended_balcon_peak_1                  750000 non-null  uint8  \n",
      " 66  has_entered_website_recently            750000 non-null  uint8  \n",
      " 67  new_email_entrance                      750000 non-null  uint8  \n",
      " 68  zip_logged                              750000 non-null  float64\n",
      " 69  zip_peak                                750000 non-null  uint8  \n",
      " 70  bank_branch_count_8w                    750000 non-null  int64  \n",
      " 71  bank_branch_peak                        750000 non-null  uint8  \n",
      " 72  zip_transaction_ratio                   750000 non-null  float64\n",
      " 73  max_zip_sum                             750000 non-null  float64\n",
      " 74  zip_sum_ratio                           750000 non-null  float64\n",
      " 75  vel_1                                   750000 non-null  float64\n",
      " 76  vel_2                                   750000 non-null  float64\n",
      " 77  vel_3                                   750000 non-null  float64\n",
      " 78  vel_4                                   750000 non-null  float64\n",
      "dtypes: float64(28), int64(4), uint8(47)\n",
      "memory usage: 222.4 MB\n"
     ]
    }
   ],
   "source": [
    "data.info()"
   ]
  },
  {
   "cell_type": "code",
   "execution_count": 107,
   "id": "01c93e19",
   "metadata": {},
   "outputs": [
    {
     "data": {
      "text/plain": [
       "32"
      ]
     },
     "execution_count": 107,
     "metadata": {},
     "output_type": "execute_result"
    }
   ],
   "source": [
    "len(lin_features)"
   ]
  },
  {
   "cell_type": "code",
   "execution_count": 108,
   "id": "a0352855",
   "metadata": {},
   "outputs": [],
   "source": [
    "# tree_features"
   ]
  },
  {
   "cell_type": "code",
   "execution_count": 109,
   "id": "112d7368",
   "metadata": {},
   "outputs": [
    {
     "data": {
      "text/plain": [
       "634102    0.005236\n",
       "173005    0.005236\n",
       "40774     0.005236\n",
       "606711    0.424084\n",
       "429877    0.005236\n",
       "            ...   \n",
       "187743    0.005236\n",
       "126160    0.418848\n",
       "941678    0.005236\n",
       "903476    0.005236\n",
       "471855    0.685864\n",
       "Name: proposed_credit_limit, Length: 750000, dtype: float64"
      ]
     },
     "execution_count": 109,
     "metadata": {},
     "output_type": "execute_result"
    }
   ],
   "source": [
    "mm_scaler = preprocessing.MinMaxScaler((0, 1))\n",
    "df_lin['proposed_credit_limit'] = mm_scaler.fit_transform(df_lin[['proposed_credit_limit']])\n",
    "df['proposed_credit_limit'] = mm_scaler.fit_transform(df[['proposed_credit_limit']])\n",
    "df['proposed_credit_limit']"
   ]
  },
  {
   "cell_type": "code",
   "execution_count": 110,
   "id": "67c4f55e",
   "metadata": {},
   "outputs": [],
   "source": [
    "scaler = preprocessing.RobustScaler()\n",
    "\n",
    "features_to_scale_lin = [\n",
    "    feature for feature in lin_features\n",
    "    if feature not in cat_features\n",
    "]\n",
    "\n",
    "features_to_scale_tree = [\n",
    "    feature for feature in tree_features\n",
    "    if feature not in cat_features\n",
    "]\n",
    "\n",
    "df_lin[features_to_scale_lin] = scaler.fit_transform(df_lin[features_to_scale_lin])\n",
    "df[features_to_scale_tree] = scaler.fit_transform(df[features_to_scale_tree])"
   ]
  },
  {
   "cell_type": "markdown",
   "id": "7ff14217",
   "metadata": {},
   "source": [
    "Что ж, данные почти отмасштабированы, осталась одна проблема - дисбаланс классов. Его будем решать оверсемплингом с помощью алгоритма ADASYN, т.к. в процессе изучения данных обнаружили, что довольно часто примеры пересекаются между собой, а значит, нужно создавать больше примеров на границе классов.\n",
    "<br>Но загвоздка в том, что хотелось использовать кросс-валидацию, т.к. данных не так много. Поэтому обучать будем пайплайн, а его первый шаг для удобства сохраним:"
   ]
  },
  {
   "cell_type": "code",
   "execution_count": 111,
   "id": "e07b713b",
   "metadata": {},
   "outputs": [],
   "source": [
    "# ada = ('ADASYN', over_sampling.ADASYN(n_neighbors=80, random_state=rs))"
   ]
  },
  {
   "cell_type": "markdown",
   "id": "27355b51",
   "metadata": {},
   "source": [
    "*P.S. хотел сделать все очень новомодно: кроссвалидацию с пайплайном, в котором сначала данные оверсемплируются ADASYN, а затем применяется уже модель и по ней происходит GridSearchCV, но это чоень затратно по времени: обычная логистическая регрессия обучалась более 15 минут. Поэтому просто создадим валидационную выборку и сразу же к ней применим ADASYN:*"
   ]
  },
  {
   "cell_type": "code",
   "execution_count": 112,
   "id": "850c3454",
   "metadata": {},
   "outputs": [
    {
     "data": {
      "text/plain": [
       "(525000, 32)"
      ]
     },
     "execution_count": 112,
     "metadata": {},
     "output_type": "execute_result"
    }
   ],
   "source": [
    "# разделяем выборку для линейных моделей на тренировочную и валидационную\n",
    "X_train_lin, X_val_lin, y_train_lin, y_val_lin = train_test_split(df_lin, data['fraud_bool'], \n",
    "                                                  test_size=0.3,\n",
    "                                                  stratify=data['fraud_bool'], \n",
    "                                                  random_state=rs)\n",
    "# разделяем выборку для деревьев на тренировочную и валидационную\n",
    "X_train, X_val, y_train, y_val = train_test_split(df, data['fraud_bool'], \n",
    "                                                  test_size=0.3,\n",
    "                                                  stratify=data['fraud_bool'], \n",
    "                                                  random_state=rs)\n",
    "X_train.shape"
   ]
  },
  {
   "cell_type": "code",
   "execution_count": 113,
   "id": "3bf145f7",
   "metadata": {},
   "outputs": [
    {
     "data": {
      "text/html": [
       "<div>\n",
       "<style scoped>\n",
       "    .dataframe tbody tr th:only-of-type {\n",
       "        vertical-align: middle;\n",
       "    }\n",
       "\n",
       "    .dataframe tbody tr th {\n",
       "        vertical-align: top;\n",
       "    }\n",
       "\n",
       "    .dataframe thead th {\n",
       "        text-align: right;\n",
       "    }\n",
       "</style>\n",
       "<table border=\"1\" class=\"dataframe\">\n",
       "  <thead>\n",
       "    <tr style=\"text-align: right;\">\n",
       "      <th></th>\n",
       "      <th>credit_risk_score</th>\n",
       "      <th>max_account_sum</th>\n",
       "      <th>max_zip_sum</th>\n",
       "      <th>cur_address</th>\n",
       "      <th>n_e_norm_similarity</th>\n",
       "      <th>zip_transaction_ratio</th>\n",
       "      <th>device_distinct_emails_8w</th>\n",
       "      <th>birth_distinct_emails_logged</th>\n",
       "      <th>zip_sum_ratio</th>\n",
       "      <th>intended_balcon_amount</th>\n",
       "      <th>...</th>\n",
       "      <th>payment_type_AA</th>\n",
       "      <th>device_os_windows</th>\n",
       "      <th>device_os_linux</th>\n",
       "      <th>device_os_other</th>\n",
       "      <th>cur_address_months_binned_danger_spike</th>\n",
       "      <th>intended_balcon_peak_1</th>\n",
       "      <th>bank_branch_peak</th>\n",
       "      <th>income</th>\n",
       "      <th>proposed_credit_limit</th>\n",
       "      <th>BA_windows</th>\n",
       "    </tr>\n",
       "  </thead>\n",
       "  <tbody>\n",
       "    <tr>\n",
       "      <th>135932</th>\n",
       "      <td>0.212766</td>\n",
       "      <td>-0.221088</td>\n",
       "      <td>0.341147</td>\n",
       "      <td>-0.212345</td>\n",
       "      <td>-0.392089</td>\n",
       "      <td>0.544353</td>\n",
       "      <td>0.0</td>\n",
       "      <td>-1.321928</td>\n",
       "      <td>-0.334191</td>\n",
       "      <td>3.883488</td>\n",
       "      <td>...</td>\n",
       "      <td>1</td>\n",
       "      <td>0</td>\n",
       "      <td>1</td>\n",
       "      <td>0</td>\n",
       "      <td>1</td>\n",
       "      <td>1</td>\n",
       "      <td>0</td>\n",
       "      <td>6</td>\n",
       "      <td>0.162304</td>\n",
       "      <td>0</td>\n",
       "    </tr>\n",
       "    <tr>\n",
       "      <th>989262</th>\n",
       "      <td>-0.074468</td>\n",
       "      <td>0.564627</td>\n",
       "      <td>-0.515228</td>\n",
       "      <td>0.613348</td>\n",
       "      <td>0.351951</td>\n",
       "      <td>-0.230274</td>\n",
       "      <td>0.0</td>\n",
       "      <td>-0.736966</td>\n",
       "      <td>-0.525635</td>\n",
       "      <td>-0.043334</td>\n",
       "      <td>...</td>\n",
       "      <td>0</td>\n",
       "      <td>1</td>\n",
       "      <td>0</td>\n",
       "      <td>0</td>\n",
       "      <td>1</td>\n",
       "      <td>0</td>\n",
       "      <td>1</td>\n",
       "      <td>8</td>\n",
       "      <td>0.005236</td>\n",
       "      <td>0</td>\n",
       "    </tr>\n",
       "    <tr>\n",
       "      <th>952350</th>\n",
       "      <td>1.489362</td>\n",
       "      <td>0.126532</td>\n",
       "      <td>0.244521</td>\n",
       "      <td>0.463542</td>\n",
       "      <td>-0.038725</td>\n",
       "      <td>-0.179410</td>\n",
       "      <td>0.0</td>\n",
       "      <td>-0.321928</td>\n",
       "      <td>-0.676333</td>\n",
       "      <td>0.039174</td>\n",
       "      <td>...</td>\n",
       "      <td>0</td>\n",
       "      <td>1</td>\n",
       "      <td>0</td>\n",
       "      <td>0</td>\n",
       "      <td>1</td>\n",
       "      <td>0</td>\n",
       "      <td>1</td>\n",
       "      <td>7</td>\n",
       "      <td>0.418848</td>\n",
       "      <td>1</td>\n",
       "    </tr>\n",
       "    <tr>\n",
       "      <th>649430</th>\n",
       "      <td>0.829787</td>\n",
       "      <td>-0.102040</td>\n",
       "      <td>0.657659</td>\n",
       "      <td>0.694247</td>\n",
       "      <td>0.055866</td>\n",
       "      <td>-0.242091</td>\n",
       "      <td>0.0</td>\n",
       "      <td>0.137504</td>\n",
       "      <td>-0.712039</td>\n",
       "      <td>0.055657</td>\n",
       "      <td>...</td>\n",
       "      <td>0</td>\n",
       "      <td>0</td>\n",
       "      <td>0</td>\n",
       "      <td>0</td>\n",
       "      <td>1</td>\n",
       "      <td>0</td>\n",
       "      <td>0</td>\n",
       "      <td>5</td>\n",
       "      <td>0.685864</td>\n",
       "      <td>0</td>\n",
       "    </tr>\n",
       "    <tr>\n",
       "      <th>167870</th>\n",
       "      <td>-0.712766</td>\n",
       "      <td>0.517008</td>\n",
       "      <td>-0.313974</td>\n",
       "      <td>0.698521</td>\n",
       "      <td>-1.347515</td>\n",
       "      <td>-0.163581</td>\n",
       "      <td>0.0</td>\n",
       "      <td>0.678072</td>\n",
       "      <td>0.066803</td>\n",
       "      <td>-0.020554</td>\n",
       "      <td>...</td>\n",
       "      <td>0</td>\n",
       "      <td>0</td>\n",
       "      <td>1</td>\n",
       "      <td>0</td>\n",
       "      <td>1</td>\n",
       "      <td>0</td>\n",
       "      <td>1</td>\n",
       "      <td>8</td>\n",
       "      <td>0.005236</td>\n",
       "      <td>0</td>\n",
       "    </tr>\n",
       "    <tr>\n",
       "      <th>...</th>\n",
       "      <td>...</td>\n",
       "      <td>...</td>\n",
       "      <td>...</td>\n",
       "      <td>...</td>\n",
       "      <td>...</td>\n",
       "      <td>...</td>\n",
       "      <td>...</td>\n",
       "      <td>...</td>\n",
       "      <td>...</td>\n",
       "      <td>...</td>\n",
       "      <td>...</td>\n",
       "      <td>...</td>\n",
       "      <td>...</td>\n",
       "      <td>...</td>\n",
       "      <td>...</td>\n",
       "      <td>...</td>\n",
       "      <td>...</td>\n",
       "      <td>...</td>\n",
       "      <td>...</td>\n",
       "      <td>...</td>\n",
       "      <td>...</td>\n",
       "    </tr>\n",
       "    <tr>\n",
       "      <th>964248</th>\n",
       "      <td>1.010638</td>\n",
       "      <td>5.850341</td>\n",
       "      <td>1.996865</td>\n",
       "      <td>0.622733</td>\n",
       "      <td>0.126343</td>\n",
       "      <td>-0.067999</td>\n",
       "      <td>0.0</td>\n",
       "      <td>-0.152003</td>\n",
       "      <td>-0.472017</td>\n",
       "      <td>-0.040787</td>\n",
       "      <td>...</td>\n",
       "      <td>0</td>\n",
       "      <td>0</td>\n",
       "      <td>0</td>\n",
       "      <td>1</td>\n",
       "      <td>1</td>\n",
       "      <td>0</td>\n",
       "      <td>1</td>\n",
       "      <td>0</td>\n",
       "      <td>0.424084</td>\n",
       "      <td>0</td>\n",
       "    </tr>\n",
       "    <tr>\n",
       "      <th>4425</th>\n",
       "      <td>-0.606383</td>\n",
       "      <td>-0.292516</td>\n",
       "      <td>-0.171245</td>\n",
       "      <td>0.584535</td>\n",
       "      <td>-0.959653</td>\n",
       "      <td>0.032397</td>\n",
       "      <td>0.0</td>\n",
       "      <td>1.263034</td>\n",
       "      <td>0.486959</td>\n",
       "      <td>-0.069029</td>\n",
       "      <td>...</td>\n",
       "      <td>1</td>\n",
       "      <td>0</td>\n",
       "      <td>0</td>\n",
       "      <td>1</td>\n",
       "      <td>1</td>\n",
       "      <td>0</td>\n",
       "      <td>0</td>\n",
       "      <td>4</td>\n",
       "      <td>0.005236</td>\n",
       "      <td>0</td>\n",
       "    </tr>\n",
       "    <tr>\n",
       "      <th>158743</th>\n",
       "      <td>-0.819149</td>\n",
       "      <td>0.421770</td>\n",
       "      <td>-0.183786</td>\n",
       "      <td>1.110188</td>\n",
       "      <td>0.632191</td>\n",
       "      <td>-0.242316</td>\n",
       "      <td>0.0</td>\n",
       "      <td>0.584963</td>\n",
       "      <td>0.450042</td>\n",
       "      <td>-0.016127</td>\n",
       "      <td>...</td>\n",
       "      <td>1</td>\n",
       "      <td>0</td>\n",
       "      <td>0</td>\n",
       "      <td>1</td>\n",
       "      <td>0</td>\n",
       "      <td>0</td>\n",
       "      <td>0</td>\n",
       "      <td>0</td>\n",
       "      <td>0.005236</td>\n",
       "      <td>0</td>\n",
       "    </tr>\n",
       "    <tr>\n",
       "      <th>251481</th>\n",
       "      <td>-1.372340</td>\n",
       "      <td>0.421770</td>\n",
       "      <td>0.616154</td>\n",
       "      <td>-0.308187</td>\n",
       "      <td>-0.026334</td>\n",
       "      <td>-0.269932</td>\n",
       "      <td>0.0</td>\n",
       "      <td>0.263034</td>\n",
       "      <td>2.804851</td>\n",
       "      <td>-0.105998</td>\n",
       "      <td>...</td>\n",
       "      <td>0</td>\n",
       "      <td>0</td>\n",
       "      <td>0</td>\n",
       "      <td>1</td>\n",
       "      <td>1</td>\n",
       "      <td>0</td>\n",
       "      <td>0</td>\n",
       "      <td>4</td>\n",
       "      <td>0.005236</td>\n",
       "      <td>0</td>\n",
       "    </tr>\n",
       "    <tr>\n",
       "      <th>380185</th>\n",
       "      <td>-0.829787</td>\n",
       "      <td>-0.102040</td>\n",
       "      <td>-0.239325</td>\n",
       "      <td>0.983356</td>\n",
       "      <td>-1.146037</td>\n",
       "      <td>0.015682</td>\n",
       "      <td>0.0</td>\n",
       "      <td>-0.152003</td>\n",
       "      <td>0.286550</td>\n",
       "      <td>-0.036052</td>\n",
       "      <td>...</td>\n",
       "      <td>0</td>\n",
       "      <td>0</td>\n",
       "      <td>1</td>\n",
       "      <td>0</td>\n",
       "      <td>0</td>\n",
       "      <td>0</td>\n",
       "      <td>0</td>\n",
       "      <td>4</td>\n",
       "      <td>0.005236</td>\n",
       "      <td>0</td>\n",
       "    </tr>\n",
       "  </tbody>\n",
       "</table>\n",
       "<p>525000 rows × 32 columns</p>\n",
       "</div>"
      ],
      "text/plain": [
       "        credit_risk_score  max_account_sum  max_zip_sum  cur_address  \\\n",
       "135932           0.212766        -0.221088     0.341147    -0.212345   \n",
       "989262          -0.074468         0.564627    -0.515228     0.613348   \n",
       "952350           1.489362         0.126532     0.244521     0.463542   \n",
       "649430           0.829787        -0.102040     0.657659     0.694247   \n",
       "167870          -0.712766         0.517008    -0.313974     0.698521   \n",
       "...                   ...              ...          ...          ...   \n",
       "964248           1.010638         5.850341     1.996865     0.622733   \n",
       "4425            -0.606383        -0.292516    -0.171245     0.584535   \n",
       "158743          -0.819149         0.421770    -0.183786     1.110188   \n",
       "251481          -1.372340         0.421770     0.616154    -0.308187   \n",
       "380185          -0.829787        -0.102040    -0.239325     0.983356   \n",
       "\n",
       "        n_e_norm_similarity  zip_transaction_ratio  device_distinct_emails_8w  \\\n",
       "135932            -0.392089               0.544353                        0.0   \n",
       "989262             0.351951              -0.230274                        0.0   \n",
       "952350            -0.038725              -0.179410                        0.0   \n",
       "649430             0.055866              -0.242091                        0.0   \n",
       "167870            -1.347515              -0.163581                        0.0   \n",
       "...                     ...                    ...                        ...   \n",
       "964248             0.126343              -0.067999                        0.0   \n",
       "4425              -0.959653               0.032397                        0.0   \n",
       "158743             0.632191              -0.242316                        0.0   \n",
       "251481            -0.026334              -0.269932                        0.0   \n",
       "380185            -1.146037               0.015682                        0.0   \n",
       "\n",
       "        birth_distinct_emails_logged  zip_sum_ratio  intended_balcon_amount  \\\n",
       "135932                     -1.321928      -0.334191                3.883488   \n",
       "989262                     -0.736966      -0.525635               -0.043334   \n",
       "952350                     -0.321928      -0.676333                0.039174   \n",
       "649430                      0.137504      -0.712039                0.055657   \n",
       "167870                      0.678072       0.066803               -0.020554   \n",
       "...                              ...            ...                     ...   \n",
       "964248                     -0.152003      -0.472017               -0.040787   \n",
       "4425                        1.263034       0.486959               -0.069029   \n",
       "158743                      0.584963       0.450042               -0.016127   \n",
       "251481                      0.263034       2.804851               -0.105998   \n",
       "380185                     -0.152003       0.286550               -0.036052   \n",
       "\n",
       "        ...  payment_type_AA  device_os_windows  device_os_linux  \\\n",
       "135932  ...                1                  0                1   \n",
       "989262  ...                0                  1                0   \n",
       "952350  ...                0                  1                0   \n",
       "649430  ...                0                  0                0   \n",
       "167870  ...                0                  0                1   \n",
       "...     ...              ...                ...              ...   \n",
       "964248  ...                0                  0                0   \n",
       "4425    ...                1                  0                0   \n",
       "158743  ...                1                  0                0   \n",
       "251481  ...                0                  0                0   \n",
       "380185  ...                0                  0                1   \n",
       "\n",
       "        device_os_other  cur_address_months_binned_danger_spike  \\\n",
       "135932                0                                       1   \n",
       "989262                0                                       1   \n",
       "952350                0                                       1   \n",
       "649430                0                                       1   \n",
       "167870                0                                       1   \n",
       "...                 ...                                     ...   \n",
       "964248                1                                       1   \n",
       "4425                  1                                       1   \n",
       "158743                1                                       0   \n",
       "251481                1                                       1   \n",
       "380185                0                                       0   \n",
       "\n",
       "        intended_balcon_peak_1  bank_branch_peak  income  \\\n",
       "135932                       1                 0       6   \n",
       "989262                       0                 1       8   \n",
       "952350                       0                 1       7   \n",
       "649430                       0                 0       5   \n",
       "167870                       0                 1       8   \n",
       "...                        ...               ...     ...   \n",
       "964248                       0                 1       0   \n",
       "4425                         0                 0       4   \n",
       "158743                       0                 0       0   \n",
       "251481                       0                 0       4   \n",
       "380185                       0                 0       4   \n",
       "\n",
       "        proposed_credit_limit  BA_windows  \n",
       "135932               0.162304           0  \n",
       "989262               0.005236           0  \n",
       "952350               0.418848           1  \n",
       "649430               0.685864           0  \n",
       "167870               0.005236           0  \n",
       "...                       ...         ...  \n",
       "964248               0.424084           0  \n",
       "4425                 0.005236           0  \n",
       "158743               0.005236           0  \n",
       "251481               0.005236           0  \n",
       "380185               0.005236           0  \n",
       "\n",
       "[525000 rows x 32 columns]"
      ]
     },
     "execution_count": 113,
     "metadata": {},
     "output_type": "execute_result"
    }
   ],
   "source": [
    "X_train_lin"
   ]
  },
  {
   "cell_type": "code",
   "execution_count": 114,
   "id": "744adf87",
   "metadata": {},
   "outputs": [],
   "source": [
    "# применяем к ним ADASYN\n",
    "adasyn = over_sampling.ADASYN(n_neighbors=32)\n",
    "X_train_lin_resampled, y_train_lin_resampled = adasyn.fit_resample(X_train_lin, y_train_lin)\n",
    "X_train_resampled, y_train_resampled = adasyn.fit_resample(X_train, y_train)"
   ]
  },
  {
   "cell_type": "code",
   "execution_count": 115,
   "id": "a34b55fc",
   "metadata": {},
   "outputs": [
    {
     "data": {
      "text/plain": [
       "(1038580, 32)"
      ]
     },
     "execution_count": 115,
     "metadata": {},
     "output_type": "execute_result"
    }
   ],
   "source": [
    "X_train_resampled.shape"
   ]
  },
  {
   "cell_type": "code",
   "execution_count": 116,
   "id": "669dde61",
   "metadata": {},
   "outputs": [
    {
     "data": {
      "text/plain": [
       "(1037315, 32)"
      ]
     },
     "execution_count": 116,
     "metadata": {},
     "output_type": "execute_result"
    }
   ],
   "source": [
    "X_train_lin_resampled.shape"
   ]
  },
  {
   "cell_type": "markdown",
   "id": "32936c34",
   "metadata": {},
   "source": [
    "(Жесть, теперь понятно, почему обучение так много времени занимало)"
   ]
  },
  {
   "cell_type": "markdown",
   "id": "8692ef3c",
   "metadata": {},
   "source": [
    "Последний шаг - выбор метрики. Компания feedzai предложила следующий подход: считаем ROC кривую, находим на этой кривой точку со значением FPR 5%, берем ее как пороговое значение и так бинаризуем результат. Напишем функцию под это:"
   ]
  },
  {
   "cell_type": "code",
   "execution_count": 117,
   "id": "6e025e76",
   "metadata": {},
   "outputs": [],
   "source": [
    "# функция, возвращающая recall для данного fpr\n",
    "def get_recall(y_true, y_pred, target_fpr=0.05, is_probabilities_in=True):\n",
    "    classes = np.unique(y_true)\n",
    "    if len(classes) < 2:\n",
    "        return 0.0\n",
    "\n",
    "    try:\n",
    "        fpr, tpr, thresholds = roc_curve(y_true, y_pred[:, 1])\n",
    "        if len(fpr) == 0:\n",
    "            return 0.0\n",
    "\n",
    "        idx = np.abs(fpr - target_fpr).argmin()\n",
    "        thresh = thresholds[idx]\n",
    "        if is_probabilities_in:\n",
    "            y_pred = (y_pred[:, 1] >= thresh).astype('uint8')\n",
    "\n",
    "        return recall_score(y_true, y_pred)\n",
    "    except Exception:\n",
    "        return 0.0\n",
    "\n",
    "recall_at_5_fpr = make_scorer(get_recall)"
   ]
  },
  {
   "cell_type": "markdown",
   "id": "d55c3ca6",
   "metadata": {},
   "source": [
    "Наконец - к моделям!"
   ]
  },
  {
   "cell_type": "markdown",
   "id": "11347c20",
   "metadata": {},
   "source": [
    "# 4. Построение модели (baseline)"
   ]
  },
  {
   "cell_type": "markdown",
   "id": "d40305fc",
   "metadata": {},
   "source": [
    "## 1. LogReg"
   ]
  },
  {
   "cell_type": "markdown",
   "id": "e66c859f",
   "metadata": {},
   "source": [
    "Итак, начинаем от базовой логистической регрессии:"
   ]
  },
  {
   "cell_type": "code",
   "execution_count": 19,
   "id": "7499a36a",
   "metadata": {},
   "outputs": [
    {
     "name": "stdout",
     "output_type": "stream",
     "text": [
      "Recall for best LogReg: 42 %\n"
     ]
    }
   ],
   "source": [
    "log_reg = linear_model.LogisticRegression(random_state=rs, max_iter=1200, solver='saga', penalty='l2',\n",
    "                                          C=0.5)\n",
    "log_reg.fit(X_train_lin, y_train_lin)\n",
    "y_pred = log_reg.predict_proba(X_val_lin)\n",
    "print('Recall for best LogReg: {} %'\\\n",
    "    .format(round(get_recall(y_val_lin, y_pred)*100)))"
   ]
  },
  {
   "cell_type": "markdown",
   "id": "82c10c28",
   "metadata": {},
   "source": [
    "Попробовал разные параметры и обучающие выборки. Результат с оверсемплингом постоянная: 33% (ADASYN показал себя лучше, чем SMOTE). А вот если обучать на обычных данных, то получается 42%. В любом случае, довольно низкий показатель, попробуем решающее дерево!"
   ]
  },
  {
   "cell_type": "markdown",
   "id": "9b61846c",
   "metadata": {},
   "source": [
    "*P.S. ниже пытался подобрать гиперпараметры с помощью GridSearchCV, но резульатт был довольно времязатратный.*"
   ]
  },
  {
   "cell_type": "code",
   "execution_count": null,
   "id": "e9e1b2e1",
   "metadata": {},
   "outputs": [
    {
     "name": "stdout",
     "output_type": "stream",
     "text": [
      "Fitting 3 folds for each of 8 candidates, totalling 24 fits\n",
      "[CV] END .........................C=1, penalty=l2, tol=1e-05; total time=  42.1s\n",
      "[CV] END .........................C=1, penalty=l2, tol=1e-05; total time=  35.1s\n",
      "[CV] END .........................C=1, penalty=l2, tol=1e-05; total time=  35.6s\n",
      "[CV] END .........................C=2, penalty=l1, tol=1e-05; total time=  45.4s\n",
      "[CV] END .........................C=2, penalty=l1, tol=1e-05; total time=  40.3s\n",
      "[CV] END .........................C=2, penalty=l1, tol=1e-05; total time=  40.5s\n",
      "[CV] END .....................C=0.25, penalty=l1, tol=0.0001; total time=  34.0s\n",
      "[CV] END .....................C=0.25, penalty=l1, tol=0.0001; total time=  32.1s\n",
      "[CV] END .....................C=0.25, penalty=l1, tol=0.0001; total time=  31.3s\n",
      "[CV] END .....................C=0.25, penalty=l2, tol=0.0001; total time=  32.3s\n",
      "[CV] END .....................C=0.25, penalty=l2, tol=0.0001; total time=  28.1s\n",
      "[CV] END .....................C=0.25, penalty=l2, tol=0.0001; total time=  28.2s\n",
      "[CV] END ........................C=2, penalty=l2, tol=0.0001; total time=  32.1s\n",
      "[CV] END ........................C=2, penalty=l2, tol=0.0001; total time=  25.4s\n",
      "[CV] END ........................C=2, penalty=l2, tol=0.0001; total time=  25.9s\n",
      "[CV] END ......................C=0.5, penalty=l2, tol=0.0001; total time=  27.9s\n",
      "[CV] END ......................C=0.5, penalty=l2, tol=0.0001; total time=  24.6s\n",
      "[CV] END ......................C=0.5, penalty=l2, tol=0.0001; total time=  24.6s\n",
      "[CV] END ......................C=0.25, penalty=l2, tol=1e-05; total time=  37.4s\n",
      "[CV] END ......................C=0.25, penalty=l2, tol=1e-05; total time=  33.9s\n",
      "[CV] END ......................C=0.25, penalty=l2, tol=1e-05; total time=  33.7s\n",
      "[CV] END .........................C=1, penalty=l1, tol=1e-05; total time=  43.5s\n",
      "[CV] END .........................C=1, penalty=l1, tol=1e-05; total time=  38.6s\n",
      "[CV] END .........................C=1, penalty=l1, tol=1e-05; total time=  40.1s\n"
     ]
    },
    {
     "data": {
      "text/html": [
       "<style>#sk-container-id-1 {\n",
       "  /* Definition of color scheme common for light and dark mode */\n",
       "  --sklearn-color-text: #000;\n",
       "  --sklearn-color-text-muted: #666;\n",
       "  --sklearn-color-line: gray;\n",
       "  /* Definition of color scheme for unfitted estimators */\n",
       "  --sklearn-color-unfitted-level-0: #fff5e6;\n",
       "  --sklearn-color-unfitted-level-1: #f6e4d2;\n",
       "  --sklearn-color-unfitted-level-2: #ffe0b3;\n",
       "  --sklearn-color-unfitted-level-3: chocolate;\n",
       "  /* Definition of color scheme for fitted estimators */\n",
       "  --sklearn-color-fitted-level-0: #f0f8ff;\n",
       "  --sklearn-color-fitted-level-1: #d4ebff;\n",
       "  --sklearn-color-fitted-level-2: #b3dbfd;\n",
       "  --sklearn-color-fitted-level-3: cornflowerblue;\n",
       "\n",
       "  /* Specific color for light theme */\n",
       "  --sklearn-color-text-on-default-background: var(--sg-text-color, var(--theme-code-foreground, var(--jp-content-font-color1, black)));\n",
       "  --sklearn-color-background: var(--sg-background-color, var(--theme-background, var(--jp-layout-color0, white)));\n",
       "  --sklearn-color-border-box: var(--sg-text-color, var(--theme-code-foreground, var(--jp-content-font-color1, black)));\n",
       "  --sklearn-color-icon: #696969;\n",
       "\n",
       "  @media (prefers-color-scheme: dark) {\n",
       "    /* Redefinition of color scheme for dark theme */\n",
       "    --sklearn-color-text-on-default-background: var(--sg-text-color, var(--theme-code-foreground, var(--jp-content-font-color1, white)));\n",
       "    --sklearn-color-background: var(--sg-background-color, var(--theme-background, var(--jp-layout-color0, #111)));\n",
       "    --sklearn-color-border-box: var(--sg-text-color, var(--theme-code-foreground, var(--jp-content-font-color1, white)));\n",
       "    --sklearn-color-icon: #878787;\n",
       "  }\n",
       "}\n",
       "\n",
       "#sk-container-id-1 {\n",
       "  color: var(--sklearn-color-text);\n",
       "}\n",
       "\n",
       "#sk-container-id-1 pre {\n",
       "  padding: 0;\n",
       "}\n",
       "\n",
       "#sk-container-id-1 input.sk-hidden--visually {\n",
       "  border: 0;\n",
       "  clip: rect(1px 1px 1px 1px);\n",
       "  clip: rect(1px, 1px, 1px, 1px);\n",
       "  height: 1px;\n",
       "  margin: -1px;\n",
       "  overflow: hidden;\n",
       "  padding: 0;\n",
       "  position: absolute;\n",
       "  width: 1px;\n",
       "}\n",
       "\n",
       "#sk-container-id-1 div.sk-dashed-wrapped {\n",
       "  border: 1px dashed var(--sklearn-color-line);\n",
       "  margin: 0 0.4em 0.5em 0.4em;\n",
       "  box-sizing: border-box;\n",
       "  padding-bottom: 0.4em;\n",
       "  background-color: var(--sklearn-color-background);\n",
       "}\n",
       "\n",
       "#sk-container-id-1 div.sk-container {\n",
       "  /* jupyter's `normalize.less` sets `[hidden] { display: none; }`\n",
       "     but bootstrap.min.css set `[hidden] { display: none !important; }`\n",
       "     so we also need the `!important` here to be able to override the\n",
       "     default hidden behavior on the sphinx rendered scikit-learn.org.\n",
       "     See: https://github.com/scikit-learn/scikit-learn/issues/21755 */\n",
       "  display: inline-block !important;\n",
       "  position: relative;\n",
       "}\n",
       "\n",
       "#sk-container-id-1 div.sk-text-repr-fallback {\n",
       "  display: none;\n",
       "}\n",
       "\n",
       "div.sk-parallel-item,\n",
       "div.sk-serial,\n",
       "div.sk-item {\n",
       "  /* draw centered vertical line to link estimators */\n",
       "  background-image: linear-gradient(var(--sklearn-color-text-on-default-background), var(--sklearn-color-text-on-default-background));\n",
       "  background-size: 2px 100%;\n",
       "  background-repeat: no-repeat;\n",
       "  background-position: center center;\n",
       "}\n",
       "\n",
       "/* Parallel-specific style estimator block */\n",
       "\n",
       "#sk-container-id-1 div.sk-parallel-item::after {\n",
       "  content: \"\";\n",
       "  width: 100%;\n",
       "  border-bottom: 2px solid var(--sklearn-color-text-on-default-background);\n",
       "  flex-grow: 1;\n",
       "}\n",
       "\n",
       "#sk-container-id-1 div.sk-parallel {\n",
       "  display: flex;\n",
       "  align-items: stretch;\n",
       "  justify-content: center;\n",
       "  background-color: var(--sklearn-color-background);\n",
       "  position: relative;\n",
       "}\n",
       "\n",
       "#sk-container-id-1 div.sk-parallel-item {\n",
       "  display: flex;\n",
       "  flex-direction: column;\n",
       "}\n",
       "\n",
       "#sk-container-id-1 div.sk-parallel-item:first-child::after {\n",
       "  align-self: flex-end;\n",
       "  width: 50%;\n",
       "}\n",
       "\n",
       "#sk-container-id-1 div.sk-parallel-item:last-child::after {\n",
       "  align-self: flex-start;\n",
       "  width: 50%;\n",
       "}\n",
       "\n",
       "#sk-container-id-1 div.sk-parallel-item:only-child::after {\n",
       "  width: 0;\n",
       "}\n",
       "\n",
       "/* Serial-specific style estimator block */\n",
       "\n",
       "#sk-container-id-1 div.sk-serial {\n",
       "  display: flex;\n",
       "  flex-direction: column;\n",
       "  align-items: center;\n",
       "  background-color: var(--sklearn-color-background);\n",
       "  padding-right: 1em;\n",
       "  padding-left: 1em;\n",
       "}\n",
       "\n",
       "\n",
       "/* Toggleable style: style used for estimator/Pipeline/ColumnTransformer box that is\n",
       "clickable and can be expanded/collapsed.\n",
       "- Pipeline and ColumnTransformer use this feature and define the default style\n",
       "- Estimators will overwrite some part of the style using the `sk-estimator` class\n",
       "*/\n",
       "\n",
       "/* Pipeline and ColumnTransformer style (default) */\n",
       "\n",
       "#sk-container-id-1 div.sk-toggleable {\n",
       "  /* Default theme specific background. It is overwritten whether we have a\n",
       "  specific estimator or a Pipeline/ColumnTransformer */\n",
       "  background-color: var(--sklearn-color-background);\n",
       "}\n",
       "\n",
       "/* Toggleable label */\n",
       "#sk-container-id-1 label.sk-toggleable__label {\n",
       "  cursor: pointer;\n",
       "  display: flex;\n",
       "  width: 100%;\n",
       "  margin-bottom: 0;\n",
       "  padding: 0.5em;\n",
       "  box-sizing: border-box;\n",
       "  text-align: center;\n",
       "  align-items: start;\n",
       "  justify-content: space-between;\n",
       "  gap: 0.5em;\n",
       "}\n",
       "\n",
       "#sk-container-id-1 label.sk-toggleable__label .caption {\n",
       "  font-size: 0.6rem;\n",
       "  font-weight: lighter;\n",
       "  color: var(--sklearn-color-text-muted);\n",
       "}\n",
       "\n",
       "#sk-container-id-1 label.sk-toggleable__label-arrow:before {\n",
       "  /* Arrow on the left of the label */\n",
       "  content: \"▸\";\n",
       "  float: left;\n",
       "  margin-right: 0.25em;\n",
       "  color: var(--sklearn-color-icon);\n",
       "}\n",
       "\n",
       "#sk-container-id-1 label.sk-toggleable__label-arrow:hover:before {\n",
       "  color: var(--sklearn-color-text);\n",
       "}\n",
       "\n",
       "/* Toggleable content - dropdown */\n",
       "\n",
       "#sk-container-id-1 div.sk-toggleable__content {\n",
       "  max-height: 0;\n",
       "  max-width: 0;\n",
       "  overflow: hidden;\n",
       "  text-align: left;\n",
       "  /* unfitted */\n",
       "  background-color: var(--sklearn-color-unfitted-level-0);\n",
       "}\n",
       "\n",
       "#sk-container-id-1 div.sk-toggleable__content.fitted {\n",
       "  /* fitted */\n",
       "  background-color: var(--sklearn-color-fitted-level-0);\n",
       "}\n",
       "\n",
       "#sk-container-id-1 div.sk-toggleable__content pre {\n",
       "  margin: 0.2em;\n",
       "  border-radius: 0.25em;\n",
       "  color: var(--sklearn-color-text);\n",
       "  /* unfitted */\n",
       "  background-color: var(--sklearn-color-unfitted-level-0);\n",
       "}\n",
       "\n",
       "#sk-container-id-1 div.sk-toggleable__content.fitted pre {\n",
       "  /* unfitted */\n",
       "  background-color: var(--sklearn-color-fitted-level-0);\n",
       "}\n",
       "\n",
       "#sk-container-id-1 input.sk-toggleable__control:checked~div.sk-toggleable__content {\n",
       "  /* Expand drop-down */\n",
       "  max-height: 200px;\n",
       "  max-width: 100%;\n",
       "  overflow: auto;\n",
       "}\n",
       "\n",
       "#sk-container-id-1 input.sk-toggleable__control:checked~label.sk-toggleable__label-arrow:before {\n",
       "  content: \"▾\";\n",
       "}\n",
       "\n",
       "/* Pipeline/ColumnTransformer-specific style */\n",
       "\n",
       "#sk-container-id-1 div.sk-label input.sk-toggleable__control:checked~label.sk-toggleable__label {\n",
       "  color: var(--sklearn-color-text);\n",
       "  background-color: var(--sklearn-color-unfitted-level-2);\n",
       "}\n",
       "\n",
       "#sk-container-id-1 div.sk-label.fitted input.sk-toggleable__control:checked~label.sk-toggleable__label {\n",
       "  background-color: var(--sklearn-color-fitted-level-2);\n",
       "}\n",
       "\n",
       "/* Estimator-specific style */\n",
       "\n",
       "/* Colorize estimator box */\n",
       "#sk-container-id-1 div.sk-estimator input.sk-toggleable__control:checked~label.sk-toggleable__label {\n",
       "  /* unfitted */\n",
       "  background-color: var(--sklearn-color-unfitted-level-2);\n",
       "}\n",
       "\n",
       "#sk-container-id-1 div.sk-estimator.fitted input.sk-toggleable__control:checked~label.sk-toggleable__label {\n",
       "  /* fitted */\n",
       "  background-color: var(--sklearn-color-fitted-level-2);\n",
       "}\n",
       "\n",
       "#sk-container-id-1 div.sk-label label.sk-toggleable__label,\n",
       "#sk-container-id-1 div.sk-label label {\n",
       "  /* The background is the default theme color */\n",
       "  color: var(--sklearn-color-text-on-default-background);\n",
       "}\n",
       "\n",
       "/* On hover, darken the color of the background */\n",
       "#sk-container-id-1 div.sk-label:hover label.sk-toggleable__label {\n",
       "  color: var(--sklearn-color-text);\n",
       "  background-color: var(--sklearn-color-unfitted-level-2);\n",
       "}\n",
       "\n",
       "/* Label box, darken color on hover, fitted */\n",
       "#sk-container-id-1 div.sk-label.fitted:hover label.sk-toggleable__label.fitted {\n",
       "  color: var(--sklearn-color-text);\n",
       "  background-color: var(--sklearn-color-fitted-level-2);\n",
       "}\n",
       "\n",
       "/* Estimator label */\n",
       "\n",
       "#sk-container-id-1 div.sk-label label {\n",
       "  font-family: monospace;\n",
       "  font-weight: bold;\n",
       "  display: inline-block;\n",
       "  line-height: 1.2em;\n",
       "}\n",
       "\n",
       "#sk-container-id-1 div.sk-label-container {\n",
       "  text-align: center;\n",
       "}\n",
       "\n",
       "/* Estimator-specific */\n",
       "#sk-container-id-1 div.sk-estimator {\n",
       "  font-family: monospace;\n",
       "  border: 1px dotted var(--sklearn-color-border-box);\n",
       "  border-radius: 0.25em;\n",
       "  box-sizing: border-box;\n",
       "  margin-bottom: 0.5em;\n",
       "  /* unfitted */\n",
       "  background-color: var(--sklearn-color-unfitted-level-0);\n",
       "}\n",
       "\n",
       "#sk-container-id-1 div.sk-estimator.fitted {\n",
       "  /* fitted */\n",
       "  background-color: var(--sklearn-color-fitted-level-0);\n",
       "}\n",
       "\n",
       "/* on hover */\n",
       "#sk-container-id-1 div.sk-estimator:hover {\n",
       "  /* unfitted */\n",
       "  background-color: var(--sklearn-color-unfitted-level-2);\n",
       "}\n",
       "\n",
       "#sk-container-id-1 div.sk-estimator.fitted:hover {\n",
       "  /* fitted */\n",
       "  background-color: var(--sklearn-color-fitted-level-2);\n",
       "}\n",
       "\n",
       "/* Specification for estimator info (e.g. \"i\" and \"?\") */\n",
       "\n",
       "/* Common style for \"i\" and \"?\" */\n",
       "\n",
       ".sk-estimator-doc-link,\n",
       "a:link.sk-estimator-doc-link,\n",
       "a:visited.sk-estimator-doc-link {\n",
       "  float: right;\n",
       "  font-size: smaller;\n",
       "  line-height: 1em;\n",
       "  font-family: monospace;\n",
       "  background-color: var(--sklearn-color-background);\n",
       "  border-radius: 1em;\n",
       "  height: 1em;\n",
       "  width: 1em;\n",
       "  text-decoration: none !important;\n",
       "  margin-left: 0.5em;\n",
       "  text-align: center;\n",
       "  /* unfitted */\n",
       "  border: var(--sklearn-color-unfitted-level-1) 1pt solid;\n",
       "  color: var(--sklearn-color-unfitted-level-1);\n",
       "}\n",
       "\n",
       ".sk-estimator-doc-link.fitted,\n",
       "a:link.sk-estimator-doc-link.fitted,\n",
       "a:visited.sk-estimator-doc-link.fitted {\n",
       "  /* fitted */\n",
       "  border: var(--sklearn-color-fitted-level-1) 1pt solid;\n",
       "  color: var(--sklearn-color-fitted-level-1);\n",
       "}\n",
       "\n",
       "/* On hover */\n",
       "div.sk-estimator:hover .sk-estimator-doc-link:hover,\n",
       ".sk-estimator-doc-link:hover,\n",
       "div.sk-label-container:hover .sk-estimator-doc-link:hover,\n",
       ".sk-estimator-doc-link:hover {\n",
       "  /* unfitted */\n",
       "  background-color: var(--sklearn-color-unfitted-level-3);\n",
       "  color: var(--sklearn-color-background);\n",
       "  text-decoration: none;\n",
       "}\n",
       "\n",
       "div.sk-estimator.fitted:hover .sk-estimator-doc-link.fitted:hover,\n",
       ".sk-estimator-doc-link.fitted:hover,\n",
       "div.sk-label-container:hover .sk-estimator-doc-link.fitted:hover,\n",
       ".sk-estimator-doc-link.fitted:hover {\n",
       "  /* fitted */\n",
       "  background-color: var(--sklearn-color-fitted-level-3);\n",
       "  color: var(--sklearn-color-background);\n",
       "  text-decoration: none;\n",
       "}\n",
       "\n",
       "/* Span, style for the box shown on hovering the info icon */\n",
       ".sk-estimator-doc-link span {\n",
       "  display: none;\n",
       "  z-index: 9999;\n",
       "  position: relative;\n",
       "  font-weight: normal;\n",
       "  right: .2ex;\n",
       "  padding: .5ex;\n",
       "  margin: .5ex;\n",
       "  width: min-content;\n",
       "  min-width: 20ex;\n",
       "  max-width: 50ex;\n",
       "  color: var(--sklearn-color-text);\n",
       "  box-shadow: 2pt 2pt 4pt #999;\n",
       "  /* unfitted */\n",
       "  background: var(--sklearn-color-unfitted-level-0);\n",
       "  border: .5pt solid var(--sklearn-color-unfitted-level-3);\n",
       "}\n",
       "\n",
       ".sk-estimator-doc-link.fitted span {\n",
       "  /* fitted */\n",
       "  background: var(--sklearn-color-fitted-level-0);\n",
       "  border: var(--sklearn-color-fitted-level-3);\n",
       "}\n",
       "\n",
       ".sk-estimator-doc-link:hover span {\n",
       "  display: block;\n",
       "}\n",
       "\n",
       "/* \"?\"-specific style due to the `<a>` HTML tag */\n",
       "\n",
       "#sk-container-id-1 a.estimator_doc_link {\n",
       "  float: right;\n",
       "  font-size: 1rem;\n",
       "  line-height: 1em;\n",
       "  font-family: monospace;\n",
       "  background-color: var(--sklearn-color-background);\n",
       "  border-radius: 1rem;\n",
       "  height: 1rem;\n",
       "  width: 1rem;\n",
       "  text-decoration: none;\n",
       "  /* unfitted */\n",
       "  color: var(--sklearn-color-unfitted-level-1);\n",
       "  border: var(--sklearn-color-unfitted-level-1) 1pt solid;\n",
       "}\n",
       "\n",
       "#sk-container-id-1 a.estimator_doc_link.fitted {\n",
       "  /* fitted */\n",
       "  border: var(--sklearn-color-fitted-level-1) 1pt solid;\n",
       "  color: var(--sklearn-color-fitted-level-1);\n",
       "}\n",
       "\n",
       "/* On hover */\n",
       "#sk-container-id-1 a.estimator_doc_link:hover {\n",
       "  /* unfitted */\n",
       "  background-color: var(--sklearn-color-unfitted-level-3);\n",
       "  color: var(--sklearn-color-background);\n",
       "  text-decoration: none;\n",
       "}\n",
       "\n",
       "#sk-container-id-1 a.estimator_doc_link.fitted:hover {\n",
       "  /* fitted */\n",
       "  background-color: var(--sklearn-color-fitted-level-3);\n",
       "}\n",
       "</style><div id=\"sk-container-id-1\" class=\"sk-top-container\"><div class=\"sk-text-repr-fallback\"><pre>RandomizedSearchCV(cv=3, error_score=&#x27;raise&#x27;,\n",
       "                   estimator=LogisticRegression(max_iter=1200, random_state=42,\n",
       "                                                solver=&#x27;saga&#x27;),\n",
       "                   n_iter=8,\n",
       "                   param_distributions={&#x27;C&#x27;: [1, 2, 0.5, 0.25],\n",
       "                                        &#x27;penalty&#x27;: [&#x27;l1&#x27;, &#x27;l2&#x27;],\n",
       "                                        &#x27;tol&#x27;: [0.0001, 1e-05]},\n",
       "                   scoring=make_scorer(get_recall, response_method=&#x27;predict&#x27;),\n",
       "                   verbose=2)</pre><b>In a Jupyter environment, please rerun this cell to show the HTML representation or trust the notebook. <br />On GitHub, the HTML representation is unable to render, please try loading this page with nbviewer.org.</b></div><div class=\"sk-container\" hidden><div class=\"sk-item sk-dashed-wrapped\"><div class=\"sk-label-container\"><div class=\"sk-label fitted sk-toggleable\"><input class=\"sk-toggleable__control sk-hidden--visually\" id=\"sk-estimator-id-1\" type=\"checkbox\" ><label for=\"sk-estimator-id-1\" class=\"sk-toggleable__label fitted sk-toggleable__label-arrow\"><div><div>RandomizedSearchCV</div></div><div><a class=\"sk-estimator-doc-link fitted\" rel=\"noreferrer\" target=\"_blank\" href=\"https://scikit-learn.org/1.6/modules/generated/sklearn.model_selection.RandomizedSearchCV.html\">?<span>Documentation for RandomizedSearchCV</span></a><span class=\"sk-estimator-doc-link fitted\">i<span>Fitted</span></span></div></label><div class=\"sk-toggleable__content fitted\"><pre>RandomizedSearchCV(cv=3, error_score=&#x27;raise&#x27;,\n",
       "                   estimator=LogisticRegression(max_iter=1200, random_state=42,\n",
       "                                                solver=&#x27;saga&#x27;),\n",
       "                   n_iter=8,\n",
       "                   param_distributions={&#x27;C&#x27;: [1, 2, 0.5, 0.25],\n",
       "                                        &#x27;penalty&#x27;: [&#x27;l1&#x27;, &#x27;l2&#x27;],\n",
       "                                        &#x27;tol&#x27;: [0.0001, 1e-05]},\n",
       "                   scoring=make_scorer(get_recall, response_method=&#x27;predict&#x27;),\n",
       "                   verbose=2)</pre></div> </div></div><div class=\"sk-parallel\"><div class=\"sk-parallel-item\"><div class=\"sk-item\"><div class=\"sk-label-container\"><div class=\"sk-label fitted sk-toggleable\"><input class=\"sk-toggleable__control sk-hidden--visually\" id=\"sk-estimator-id-2\" type=\"checkbox\" ><label for=\"sk-estimator-id-2\" class=\"sk-toggleable__label fitted sk-toggleable__label-arrow\"><div><div>best_estimator_: LogisticRegression</div></div></label><div class=\"sk-toggleable__content fitted\"><pre>LogisticRegression(C=1, max_iter=1200, random_state=42, solver=&#x27;saga&#x27;,\n",
       "                   tol=1e-05)</pre></div> </div></div><div class=\"sk-serial\"><div class=\"sk-item\"><div class=\"sk-estimator fitted sk-toggleable\"><input class=\"sk-toggleable__control sk-hidden--visually\" id=\"sk-estimator-id-3\" type=\"checkbox\" ><label for=\"sk-estimator-id-3\" class=\"sk-toggleable__label fitted sk-toggleable__label-arrow\"><div><div>LogisticRegression</div></div><div><a class=\"sk-estimator-doc-link fitted\" rel=\"noreferrer\" target=\"_blank\" href=\"https://scikit-learn.org/1.6/modules/generated/sklearn.linear_model.LogisticRegression.html\">?<span>Documentation for LogisticRegression</span></a></div></label><div class=\"sk-toggleable__content fitted\"><pre>LogisticRegression(C=1, max_iter=1200, random_state=42, solver=&#x27;saga&#x27;,\n",
       "                   tol=1e-05)</pre></div> </div></div></div></div></div></div></div></div></div>"
      ],
      "text/plain": [
       "RandomizedSearchCV(cv=3, error_score='raise',\n",
       "                   estimator=LogisticRegression(max_iter=1200, random_state=42,\n",
       "                                                solver='saga'),\n",
       "                   n_iter=8,\n",
       "                   param_distributions={'C': [1, 2, 0.5, 0.25],\n",
       "                                        'penalty': ['l1', 'l2'],\n",
       "                                        'tol': [0.0001, 1e-05]},\n",
       "                   scoring=make_scorer(get_recall, response_method='predict'),\n",
       "                   verbose=2)"
      ]
     },
     "execution_count": 22,
     "metadata": {},
     "output_type": "execute_result"
    }
   ],
   "source": [
    "# # базовая логистическая регрессия\n",
    "# log_reg = linear_model.LogisticRegression(random_state=42, max_iter=1200, solver='saga')\n",
    "# # список параметров, которые нужно перебрать\n",
    "# param_grid = {\n",
    "#     'penalty': ['l1', 'l2'],\n",
    "#     # # учитываем, что у нас много образцов, два клаcса и 32 фичи\n",
    "#     # 'solver': ['saga', 'lbfgs'],\n",
    "#     'tol': [1e-4, 1e-5],\n",
    "#     'C': [1, 2, 0.5, 0.25] \n",
    "# }\n",
    "# # # пайплайн с оверсемплингом\n",
    "# # pipe = Pipeline([\n",
    "# #     ada,\n",
    "# #     ('lr_model', log_reg)\n",
    "# # ])\n",
    "# # поиск параметров\n",
    "# grid_search = model_selection.RandomizedSearchCV(\n",
    "#     log_reg, param_grid, scoring=recall_at_5_fpr, cv=3,\n",
    "#     verbose=2, n_iter=8, error_score='raise'\n",
    "# )\n",
    "\n",
    "# grid_search.fit(X_train_lin_resampled, y_train_lin_resampled)"
   ]
  },
  {
   "cell_type": "code",
   "execution_count": null,
   "id": "c930fb07",
   "metadata": {},
   "outputs": [
    {
     "name": "stdout",
     "output_type": "stream",
     "text": [
      "Recall for best LogReg: 0 %\n"
     ]
    }
   ],
   "source": [
    "print('Recall for best LogReg: {} %'\\\n",
    "    .format(round(get_recall(grid_search.best_estimator_, X_val_lin, y_val_lin)*100)))"
   ]
  },
  {
   "cell_type": "markdown",
   "id": "10986919",
   "metadata": {},
   "source": [
    "## 2. Decision Tree"
   ]
  },
  {
   "cell_type": "markdown",
   "id": "dd5acbee",
   "metadata": {},
   "source": [
    "Теперь переходим к деревьям, и заодно - более \"информативному\" датасету.\n",
    "<br><br>В гиперпараметрах сразу очевидны две вези: class_weight нужно ставить на balanced (чтобы вес меньшего класса был больше), критерий информативности - log_loss или entropy, т.к. нас интересуют точные значения вероятностей для метрики recall_at_5_fpr."
   ]
  },
  {
   "cell_type": "code",
   "execution_count": 31,
   "id": "135074a9",
   "metadata": {},
   "outputs": [
    {
     "name": "stdout",
     "output_type": "stream",
     "text": [
      "Recall for best Decision Tree: 25 %\n"
     ]
    }
   ],
   "source": [
    "decision_tree = tree.DecisionTreeClassifier(random_state=rs, class_weight='balanced', criterion='gini',\n",
    "                                            max_depth=100, min_samples_split=250, min_impurity_decrease=0.0001)\n",
    "decision_tree.fit(X_train_resampled, y_train_resampled)\n",
    "y_pred = decision_tree.predict_proba(X_val)\n",
    "print('Recall for best Decision Tree: {} %'\\\n",
    "    .format(round(get_recall(y_val, y_pred)*100)))"
   ]
  },
  {
   "cell_type": "markdown",
   "id": "d998b61c",
   "metadata": {},
   "source": [
    "Без оверсемплинга 35%, с ним - максимум 30."
   ]
  },
  {
   "cell_type": "markdown",
   "id": "89e150cc",
   "metadata": {},
   "source": [
    "*P.S. здесь перепробовал разные методы: и SMOTE с k_neighbours 18, 30 и 500, и ADASYN с теми же показателями - ничего не помогает. Синтетические данные приносят шум, который ухудшает метрику.*"
   ]
  },
  {
   "cell_type": "code",
   "execution_count": null,
   "id": "c7200732",
   "metadata": {},
   "outputs": [],
   "source": [
    "decision_tree = tree.DecisionTreeClassifier(random_state=rs, class_weight='balanced', criterion='entropy')\n",
    "\n",
    "# # Создаём пайплайн\n",
    "# pipe = Pipeline([\n",
    "#     ('smote', over_sampling.SMOTE(random_state=rs)),\n",
    "#     ('tree', tree.DecisionTreeClassifier(\n",
    "#         random_state=rs, \n",
    "#         class_weight='balanced', \n",
    "#         criterion='entropy'\n",
    "#     ))\n",
    "# ])\n",
    "\n",
    "# Обновите param_grid для пайплайна\n",
    "param_grid = {\n",
    "    'max_depth': np.arange(15, 500, 60),\n",
    "    'min_samples_split': np.arange(40, 120, 20),\n",
    "    'min_impurity_decrease': np.linspace(0.01, 0.1, 4)\n",
    "}\n",
    "\n",
    "grid_search = model_selection.RandomizedSearchCV(\n",
    "    decision_tree, param_grid, scoring=recall_at_5_fpr, cv=3,\n",
    "    verbose=2, n_iter=12, return_train_score=True, error_score='raise'\n",
    ")\n",
    "\n",
    "grid_search.fit(X_train_resampled, y_train_resampled)"
   ]
  },
  {
   "cell_type": "code",
   "execution_count": null,
   "id": "15a25a7e",
   "metadata": {},
   "outputs": [
    {
     "data": {
      "text/html": [
       "<style>#sk-container-id-13 {\n",
       "  /* Definition of color scheme common for light and dark mode */\n",
       "  --sklearn-color-text: #000;\n",
       "  --sklearn-color-text-muted: #666;\n",
       "  --sklearn-color-line: gray;\n",
       "  /* Definition of color scheme for unfitted estimators */\n",
       "  --sklearn-color-unfitted-level-0: #fff5e6;\n",
       "  --sklearn-color-unfitted-level-1: #f6e4d2;\n",
       "  --sklearn-color-unfitted-level-2: #ffe0b3;\n",
       "  --sklearn-color-unfitted-level-3: chocolate;\n",
       "  /* Definition of color scheme for fitted estimators */\n",
       "  --sklearn-color-fitted-level-0: #f0f8ff;\n",
       "  --sklearn-color-fitted-level-1: #d4ebff;\n",
       "  --sklearn-color-fitted-level-2: #b3dbfd;\n",
       "  --sklearn-color-fitted-level-3: cornflowerblue;\n",
       "\n",
       "  /* Specific color for light theme */\n",
       "  --sklearn-color-text-on-default-background: var(--sg-text-color, var(--theme-code-foreground, var(--jp-content-font-color1, black)));\n",
       "  --sklearn-color-background: var(--sg-background-color, var(--theme-background, var(--jp-layout-color0, white)));\n",
       "  --sklearn-color-border-box: var(--sg-text-color, var(--theme-code-foreground, var(--jp-content-font-color1, black)));\n",
       "  --sklearn-color-icon: #696969;\n",
       "\n",
       "  @media (prefers-color-scheme: dark) {\n",
       "    /* Redefinition of color scheme for dark theme */\n",
       "    --sklearn-color-text-on-default-background: var(--sg-text-color, var(--theme-code-foreground, var(--jp-content-font-color1, white)));\n",
       "    --sklearn-color-background: var(--sg-background-color, var(--theme-background, var(--jp-layout-color0, #111)));\n",
       "    --sklearn-color-border-box: var(--sg-text-color, var(--theme-code-foreground, var(--jp-content-font-color1, white)));\n",
       "    --sklearn-color-icon: #878787;\n",
       "  }\n",
       "}\n",
       "\n",
       "#sk-container-id-13 {\n",
       "  color: var(--sklearn-color-text);\n",
       "}\n",
       "\n",
       "#sk-container-id-13 pre {\n",
       "  padding: 0;\n",
       "}\n",
       "\n",
       "#sk-container-id-13 input.sk-hidden--visually {\n",
       "  border: 0;\n",
       "  clip: rect(1px 1px 1px 1px);\n",
       "  clip: rect(1px, 1px, 1px, 1px);\n",
       "  height: 1px;\n",
       "  margin: -1px;\n",
       "  overflow: hidden;\n",
       "  padding: 0;\n",
       "  position: absolute;\n",
       "  width: 1px;\n",
       "}\n",
       "\n",
       "#sk-container-id-13 div.sk-dashed-wrapped {\n",
       "  border: 1px dashed var(--sklearn-color-line);\n",
       "  margin: 0 0.4em 0.5em 0.4em;\n",
       "  box-sizing: border-box;\n",
       "  padding-bottom: 0.4em;\n",
       "  background-color: var(--sklearn-color-background);\n",
       "}\n",
       "\n",
       "#sk-container-id-13 div.sk-container {\n",
       "  /* jupyter's `normalize.less` sets `[hidden] { display: none; }`\n",
       "     but bootstrap.min.css set `[hidden] { display: none !important; }`\n",
       "     so we also need the `!important` here to be able to override the\n",
       "     default hidden behavior on the sphinx rendered scikit-learn.org.\n",
       "     See: https://github.com/scikit-learn/scikit-learn/issues/21755 */\n",
       "  display: inline-block !important;\n",
       "  position: relative;\n",
       "}\n",
       "\n",
       "#sk-container-id-13 div.sk-text-repr-fallback {\n",
       "  display: none;\n",
       "}\n",
       "\n",
       "div.sk-parallel-item,\n",
       "div.sk-serial,\n",
       "div.sk-item {\n",
       "  /* draw centered vertical line to link estimators */\n",
       "  background-image: linear-gradient(var(--sklearn-color-text-on-default-background), var(--sklearn-color-text-on-default-background));\n",
       "  background-size: 2px 100%;\n",
       "  background-repeat: no-repeat;\n",
       "  background-position: center center;\n",
       "}\n",
       "\n",
       "/* Parallel-specific style estimator block */\n",
       "\n",
       "#sk-container-id-13 div.sk-parallel-item::after {\n",
       "  content: \"\";\n",
       "  width: 100%;\n",
       "  border-bottom: 2px solid var(--sklearn-color-text-on-default-background);\n",
       "  flex-grow: 1;\n",
       "}\n",
       "\n",
       "#sk-container-id-13 div.sk-parallel {\n",
       "  display: flex;\n",
       "  align-items: stretch;\n",
       "  justify-content: center;\n",
       "  background-color: var(--sklearn-color-background);\n",
       "  position: relative;\n",
       "}\n",
       "\n",
       "#sk-container-id-13 div.sk-parallel-item {\n",
       "  display: flex;\n",
       "  flex-direction: column;\n",
       "}\n",
       "\n",
       "#sk-container-id-13 div.sk-parallel-item:first-child::after {\n",
       "  align-self: flex-end;\n",
       "  width: 50%;\n",
       "}\n",
       "\n",
       "#sk-container-id-13 div.sk-parallel-item:last-child::after {\n",
       "  align-self: flex-start;\n",
       "  width: 50%;\n",
       "}\n",
       "\n",
       "#sk-container-id-13 div.sk-parallel-item:only-child::after {\n",
       "  width: 0;\n",
       "}\n",
       "\n",
       "/* Serial-specific style estimator block */\n",
       "\n",
       "#sk-container-id-13 div.sk-serial {\n",
       "  display: flex;\n",
       "  flex-direction: column;\n",
       "  align-items: center;\n",
       "  background-color: var(--sklearn-color-background);\n",
       "  padding-right: 1em;\n",
       "  padding-left: 1em;\n",
       "}\n",
       "\n",
       "\n",
       "/* Toggleable style: style used for estimator/Pipeline/ColumnTransformer box that is\n",
       "clickable and can be expanded/collapsed.\n",
       "- Pipeline and ColumnTransformer use this feature and define the default style\n",
       "- Estimators will overwrite some part of the style using the `sk-estimator` class\n",
       "*/\n",
       "\n",
       "/* Pipeline and ColumnTransformer style (default) */\n",
       "\n",
       "#sk-container-id-13 div.sk-toggleable {\n",
       "  /* Default theme specific background. It is overwritten whether we have a\n",
       "  specific estimator or a Pipeline/ColumnTransformer */\n",
       "  background-color: var(--sklearn-color-background);\n",
       "}\n",
       "\n",
       "/* Toggleable label */\n",
       "#sk-container-id-13 label.sk-toggleable__label {\n",
       "  cursor: pointer;\n",
       "  display: flex;\n",
       "  width: 100%;\n",
       "  margin-bottom: 0;\n",
       "  padding: 0.5em;\n",
       "  box-sizing: border-box;\n",
       "  text-align: center;\n",
       "  align-items: start;\n",
       "  justify-content: space-between;\n",
       "  gap: 0.5em;\n",
       "}\n",
       "\n",
       "#sk-container-id-13 label.sk-toggleable__label .caption {\n",
       "  font-size: 0.6rem;\n",
       "  font-weight: lighter;\n",
       "  color: var(--sklearn-color-text-muted);\n",
       "}\n",
       "\n",
       "#sk-container-id-13 label.sk-toggleable__label-arrow:before {\n",
       "  /* Arrow on the left of the label */\n",
       "  content: \"▸\";\n",
       "  float: left;\n",
       "  margin-right: 0.25em;\n",
       "  color: var(--sklearn-color-icon);\n",
       "}\n",
       "\n",
       "#sk-container-id-13 label.sk-toggleable__label-arrow:hover:before {\n",
       "  color: var(--sklearn-color-text);\n",
       "}\n",
       "\n",
       "/* Toggleable content - dropdown */\n",
       "\n",
       "#sk-container-id-13 div.sk-toggleable__content {\n",
       "  max-height: 0;\n",
       "  max-width: 0;\n",
       "  overflow: hidden;\n",
       "  text-align: left;\n",
       "  /* unfitted */\n",
       "  background-color: var(--sklearn-color-unfitted-level-0);\n",
       "}\n",
       "\n",
       "#sk-container-id-13 div.sk-toggleable__content.fitted {\n",
       "  /* fitted */\n",
       "  background-color: var(--sklearn-color-fitted-level-0);\n",
       "}\n",
       "\n",
       "#sk-container-id-13 div.sk-toggleable__content pre {\n",
       "  margin: 0.2em;\n",
       "  border-radius: 0.25em;\n",
       "  color: var(--sklearn-color-text);\n",
       "  /* unfitted */\n",
       "  background-color: var(--sklearn-color-unfitted-level-0);\n",
       "}\n",
       "\n",
       "#sk-container-id-13 div.sk-toggleable__content.fitted pre {\n",
       "  /* unfitted */\n",
       "  background-color: var(--sklearn-color-fitted-level-0);\n",
       "}\n",
       "\n",
       "#sk-container-id-13 input.sk-toggleable__control:checked~div.sk-toggleable__content {\n",
       "  /* Expand drop-down */\n",
       "  max-height: 200px;\n",
       "  max-width: 100%;\n",
       "  overflow: auto;\n",
       "}\n",
       "\n",
       "#sk-container-id-13 input.sk-toggleable__control:checked~label.sk-toggleable__label-arrow:before {\n",
       "  content: \"▾\";\n",
       "}\n",
       "\n",
       "/* Pipeline/ColumnTransformer-specific style */\n",
       "\n",
       "#sk-container-id-13 div.sk-label input.sk-toggleable__control:checked~label.sk-toggleable__label {\n",
       "  color: var(--sklearn-color-text);\n",
       "  background-color: var(--sklearn-color-unfitted-level-2);\n",
       "}\n",
       "\n",
       "#sk-container-id-13 div.sk-label.fitted input.sk-toggleable__control:checked~label.sk-toggleable__label {\n",
       "  background-color: var(--sklearn-color-fitted-level-2);\n",
       "}\n",
       "\n",
       "/* Estimator-specific style */\n",
       "\n",
       "/* Colorize estimator box */\n",
       "#sk-container-id-13 div.sk-estimator input.sk-toggleable__control:checked~label.sk-toggleable__label {\n",
       "  /* unfitted */\n",
       "  background-color: var(--sklearn-color-unfitted-level-2);\n",
       "}\n",
       "\n",
       "#sk-container-id-13 div.sk-estimator.fitted input.sk-toggleable__control:checked~label.sk-toggleable__label {\n",
       "  /* fitted */\n",
       "  background-color: var(--sklearn-color-fitted-level-2);\n",
       "}\n",
       "\n",
       "#sk-container-id-13 div.sk-label label.sk-toggleable__label,\n",
       "#sk-container-id-13 div.sk-label label {\n",
       "  /* The background is the default theme color */\n",
       "  color: var(--sklearn-color-text-on-default-background);\n",
       "}\n",
       "\n",
       "/* On hover, darken the color of the background */\n",
       "#sk-container-id-13 div.sk-label:hover label.sk-toggleable__label {\n",
       "  color: var(--sklearn-color-text);\n",
       "  background-color: var(--sklearn-color-unfitted-level-2);\n",
       "}\n",
       "\n",
       "/* Label box, darken color on hover, fitted */\n",
       "#sk-container-id-13 div.sk-label.fitted:hover label.sk-toggleable__label.fitted {\n",
       "  color: var(--sklearn-color-text);\n",
       "  background-color: var(--sklearn-color-fitted-level-2);\n",
       "}\n",
       "\n",
       "/* Estimator label */\n",
       "\n",
       "#sk-container-id-13 div.sk-label label {\n",
       "  font-family: monospace;\n",
       "  font-weight: bold;\n",
       "  display: inline-block;\n",
       "  line-height: 1.2em;\n",
       "}\n",
       "\n",
       "#sk-container-id-13 div.sk-label-container {\n",
       "  text-align: center;\n",
       "}\n",
       "\n",
       "/* Estimator-specific */\n",
       "#sk-container-id-13 div.sk-estimator {\n",
       "  font-family: monospace;\n",
       "  border: 1px dotted var(--sklearn-color-border-box);\n",
       "  border-radius: 0.25em;\n",
       "  box-sizing: border-box;\n",
       "  margin-bottom: 0.5em;\n",
       "  /* unfitted */\n",
       "  background-color: var(--sklearn-color-unfitted-level-0);\n",
       "}\n",
       "\n",
       "#sk-container-id-13 div.sk-estimator.fitted {\n",
       "  /* fitted */\n",
       "  background-color: var(--sklearn-color-fitted-level-0);\n",
       "}\n",
       "\n",
       "/* on hover */\n",
       "#sk-container-id-13 div.sk-estimator:hover {\n",
       "  /* unfitted */\n",
       "  background-color: var(--sklearn-color-unfitted-level-2);\n",
       "}\n",
       "\n",
       "#sk-container-id-13 div.sk-estimator.fitted:hover {\n",
       "  /* fitted */\n",
       "  background-color: var(--sklearn-color-fitted-level-2);\n",
       "}\n",
       "\n",
       "/* Specification for estimator info (e.g. \"i\" and \"?\") */\n",
       "\n",
       "/* Common style for \"i\" and \"?\" */\n",
       "\n",
       ".sk-estimator-doc-link,\n",
       "a:link.sk-estimator-doc-link,\n",
       "a:visited.sk-estimator-doc-link {\n",
       "  float: right;\n",
       "  font-size: smaller;\n",
       "  line-height: 1em;\n",
       "  font-family: monospace;\n",
       "  background-color: var(--sklearn-color-background);\n",
       "  border-radius: 1em;\n",
       "  height: 1em;\n",
       "  width: 1em;\n",
       "  text-decoration: none !important;\n",
       "  margin-left: 0.5em;\n",
       "  text-align: center;\n",
       "  /* unfitted */\n",
       "  border: var(--sklearn-color-unfitted-level-1) 1pt solid;\n",
       "  color: var(--sklearn-color-unfitted-level-1);\n",
       "}\n",
       "\n",
       ".sk-estimator-doc-link.fitted,\n",
       "a:link.sk-estimator-doc-link.fitted,\n",
       "a:visited.sk-estimator-doc-link.fitted {\n",
       "  /* fitted */\n",
       "  border: var(--sklearn-color-fitted-level-1) 1pt solid;\n",
       "  color: var(--sklearn-color-fitted-level-1);\n",
       "}\n",
       "\n",
       "/* On hover */\n",
       "div.sk-estimator:hover .sk-estimator-doc-link:hover,\n",
       ".sk-estimator-doc-link:hover,\n",
       "div.sk-label-container:hover .sk-estimator-doc-link:hover,\n",
       ".sk-estimator-doc-link:hover {\n",
       "  /* unfitted */\n",
       "  background-color: var(--sklearn-color-unfitted-level-3);\n",
       "  color: var(--sklearn-color-background);\n",
       "  text-decoration: none;\n",
       "}\n",
       "\n",
       "div.sk-estimator.fitted:hover .sk-estimator-doc-link.fitted:hover,\n",
       ".sk-estimator-doc-link.fitted:hover,\n",
       "div.sk-label-container:hover .sk-estimator-doc-link.fitted:hover,\n",
       ".sk-estimator-doc-link.fitted:hover {\n",
       "  /* fitted */\n",
       "  background-color: var(--sklearn-color-fitted-level-3);\n",
       "  color: var(--sklearn-color-background);\n",
       "  text-decoration: none;\n",
       "}\n",
       "\n",
       "/* Span, style for the box shown on hovering the info icon */\n",
       ".sk-estimator-doc-link span {\n",
       "  display: none;\n",
       "  z-index: 9999;\n",
       "  position: relative;\n",
       "  font-weight: normal;\n",
       "  right: .2ex;\n",
       "  padding: .5ex;\n",
       "  margin: .5ex;\n",
       "  width: min-content;\n",
       "  min-width: 20ex;\n",
       "  max-width: 50ex;\n",
       "  color: var(--sklearn-color-text);\n",
       "  box-shadow: 2pt 2pt 4pt #999;\n",
       "  /* unfitted */\n",
       "  background: var(--sklearn-color-unfitted-level-0);\n",
       "  border: .5pt solid var(--sklearn-color-unfitted-level-3);\n",
       "}\n",
       "\n",
       ".sk-estimator-doc-link.fitted span {\n",
       "  /* fitted */\n",
       "  background: var(--sklearn-color-fitted-level-0);\n",
       "  border: var(--sklearn-color-fitted-level-3);\n",
       "}\n",
       "\n",
       ".sk-estimator-doc-link:hover span {\n",
       "  display: block;\n",
       "}\n",
       "\n",
       "/* \"?\"-specific style due to the `<a>` HTML tag */\n",
       "\n",
       "#sk-container-id-13 a.estimator_doc_link {\n",
       "  float: right;\n",
       "  font-size: 1rem;\n",
       "  line-height: 1em;\n",
       "  font-family: monospace;\n",
       "  background-color: var(--sklearn-color-background);\n",
       "  border-radius: 1rem;\n",
       "  height: 1rem;\n",
       "  width: 1rem;\n",
       "  text-decoration: none;\n",
       "  /* unfitted */\n",
       "  color: var(--sklearn-color-unfitted-level-1);\n",
       "  border: var(--sklearn-color-unfitted-level-1) 1pt solid;\n",
       "}\n",
       "\n",
       "#sk-container-id-13 a.estimator_doc_link.fitted {\n",
       "  /* fitted */\n",
       "  border: var(--sklearn-color-fitted-level-1) 1pt solid;\n",
       "  color: var(--sklearn-color-fitted-level-1);\n",
       "}\n",
       "\n",
       "/* On hover */\n",
       "#sk-container-id-13 a.estimator_doc_link:hover {\n",
       "  /* unfitted */\n",
       "  background-color: var(--sklearn-color-unfitted-level-3);\n",
       "  color: var(--sklearn-color-background);\n",
       "  text-decoration: none;\n",
       "}\n",
       "\n",
       "#sk-container-id-13 a.estimator_doc_link.fitted:hover {\n",
       "  /* fitted */\n",
       "  background-color: var(--sklearn-color-fitted-level-3);\n",
       "}\n",
       "</style><div id=\"sk-container-id-13\" class=\"sk-top-container\"><div class=\"sk-text-repr-fallback\"><pre>DecisionTreeClassifier(class_weight=&#x27;balanced&#x27;, criterion=&#x27;entropy&#x27;,\n",
       "                       max_depth=495, min_impurity_decrease=0.01,\n",
       "                       min_samples_split=40, random_state=42)</pre><b>In a Jupyter environment, please rerun this cell to show the HTML representation or trust the notebook. <br />On GitHub, the HTML representation is unable to render, please try loading this page with nbviewer.org.</b></div><div class=\"sk-container\" hidden><div class=\"sk-item\"><div class=\"sk-estimator fitted sk-toggleable\"><input class=\"sk-toggleable__control sk-hidden--visually\" id=\"sk-estimator-id-28\" type=\"checkbox\" checked><label for=\"sk-estimator-id-28\" class=\"sk-toggleable__label fitted sk-toggleable__label-arrow\"><div><div>DecisionTreeClassifier</div></div><div><a class=\"sk-estimator-doc-link fitted\" rel=\"noreferrer\" target=\"_blank\" href=\"https://scikit-learn.org/1.6/modules/generated/sklearn.tree.DecisionTreeClassifier.html\">?<span>Documentation for DecisionTreeClassifier</span></a><span class=\"sk-estimator-doc-link fitted\">i<span>Fitted</span></span></div></label><div class=\"sk-toggleable__content fitted\"><pre>DecisionTreeClassifier(class_weight=&#x27;balanced&#x27;, criterion=&#x27;entropy&#x27;,\n",
       "                       max_depth=495, min_impurity_decrease=0.01,\n",
       "                       min_samples_split=40, random_state=42)</pre></div> </div></div></div></div>"
      ],
      "text/plain": [
       "DecisionTreeClassifier(class_weight='balanced', criterion='entropy',\n",
       "                       max_depth=495, min_impurity_decrease=0.01,\n",
       "                       min_samples_split=40, random_state=42)"
      ]
     },
     "execution_count": 66,
     "metadata": {},
     "output_type": "execute_result"
    }
   ],
   "source": [
    "# tre = tree.DecisionTreeClassifier(class_weight='balanced', criterion='entropy',\n",
    "#                        max_depth=495, min_impurity_decrease=0.01,\n",
    "#                        min_samples_split=40, random_state=42)\n",
    "\n",
    "# tre.fit(X_train_resampled, y_train_resampled)"
   ]
  },
  {
   "cell_type": "code",
   "execution_count": null,
   "id": "a8b2506c",
   "metadata": {},
   "outputs": [],
   "source": [
    "# save_model(grid_search.best_estimator_, 'dtree_1')"
   ]
  },
  {
   "cell_type": "code",
   "execution_count": null,
   "id": "01b4478c",
   "metadata": {},
   "outputs": [
    {
     "name": "stdout",
     "output_type": "stream",
     "text": [
      "Target FPR: 0.050, Closest FPR: 0.063, Threshold: 0.8519\n",
      "Positive predictions at threshold: 14908 / 225000\n"
     ]
    },
    {
     "data": {
      "text/plain": [
       "0.3424657534246575"
      ]
     },
     "execution_count": 68,
     "metadata": {},
     "output_type": "execute_result"
    }
   ],
   "source": [
    "get_recall(tre, X_val, y_val)"
   ]
  },
  {
   "cell_type": "markdown",
   "id": "ef7c719b",
   "metadata": {},
   "source": [
    "## 3. Другие алгоритмы"
   ]
  },
  {
   "cell_type": "markdown",
   "id": "00e37351",
   "metadata": {},
   "source": [
    "Т.к. в кибермошеннических атаках часто используются одни и те же действия и инструменты, есть мысль, что довольно точно себя покажет кластеризация.\n",
    "\n",
    "Попробуем следующие алгоритмы: kmeans, методы на принципе \"naive bayes\" и SVM. "
   ]
  },
  {
   "cell_type": "markdown",
   "id": "e020c2a8",
   "metadata": {},
   "source": [
    "### K-Nearest Neighbours"
   ]
  },
  {
   "cell_type": "code",
   "execution_count": null,
   "id": "77287131",
   "metadata": {},
   "outputs": [
    {
     "data": {
      "text/html": [
       "<style>#sk-container-id-6 {\n",
       "  /* Definition of color scheme common for light and dark mode */\n",
       "  --sklearn-color-text: #000;\n",
       "  --sklearn-color-text-muted: #666;\n",
       "  --sklearn-color-line: gray;\n",
       "  /* Definition of color scheme for unfitted estimators */\n",
       "  --sklearn-color-unfitted-level-0: #fff5e6;\n",
       "  --sklearn-color-unfitted-level-1: #f6e4d2;\n",
       "  --sklearn-color-unfitted-level-2: #ffe0b3;\n",
       "  --sklearn-color-unfitted-level-3: chocolate;\n",
       "  /* Definition of color scheme for fitted estimators */\n",
       "  --sklearn-color-fitted-level-0: #f0f8ff;\n",
       "  --sklearn-color-fitted-level-1: #d4ebff;\n",
       "  --sklearn-color-fitted-level-2: #b3dbfd;\n",
       "  --sklearn-color-fitted-level-3: cornflowerblue;\n",
       "\n",
       "  /* Specific color for light theme */\n",
       "  --sklearn-color-text-on-default-background: var(--sg-text-color, var(--theme-code-foreground, var(--jp-content-font-color1, black)));\n",
       "  --sklearn-color-background: var(--sg-background-color, var(--theme-background, var(--jp-layout-color0, white)));\n",
       "  --sklearn-color-border-box: var(--sg-text-color, var(--theme-code-foreground, var(--jp-content-font-color1, black)));\n",
       "  --sklearn-color-icon: #696969;\n",
       "\n",
       "  @media (prefers-color-scheme: dark) {\n",
       "    /* Redefinition of color scheme for dark theme */\n",
       "    --sklearn-color-text-on-default-background: var(--sg-text-color, var(--theme-code-foreground, var(--jp-content-font-color1, white)));\n",
       "    --sklearn-color-background: var(--sg-background-color, var(--theme-background, var(--jp-layout-color0, #111)));\n",
       "    --sklearn-color-border-box: var(--sg-text-color, var(--theme-code-foreground, var(--jp-content-font-color1, white)));\n",
       "    --sklearn-color-icon: #878787;\n",
       "  }\n",
       "}\n",
       "\n",
       "#sk-container-id-6 {\n",
       "  color: var(--sklearn-color-text);\n",
       "}\n",
       "\n",
       "#sk-container-id-6 pre {\n",
       "  padding: 0;\n",
       "}\n",
       "\n",
       "#sk-container-id-6 input.sk-hidden--visually {\n",
       "  border: 0;\n",
       "  clip: rect(1px 1px 1px 1px);\n",
       "  clip: rect(1px, 1px, 1px, 1px);\n",
       "  height: 1px;\n",
       "  margin: -1px;\n",
       "  overflow: hidden;\n",
       "  padding: 0;\n",
       "  position: absolute;\n",
       "  width: 1px;\n",
       "}\n",
       "\n",
       "#sk-container-id-6 div.sk-dashed-wrapped {\n",
       "  border: 1px dashed var(--sklearn-color-line);\n",
       "  margin: 0 0.4em 0.5em 0.4em;\n",
       "  box-sizing: border-box;\n",
       "  padding-bottom: 0.4em;\n",
       "  background-color: var(--sklearn-color-background);\n",
       "}\n",
       "\n",
       "#sk-container-id-6 div.sk-container {\n",
       "  /* jupyter's `normalize.less` sets `[hidden] { display: none; }`\n",
       "     but bootstrap.min.css set `[hidden] { display: none !important; }`\n",
       "     so we also need the `!important` here to be able to override the\n",
       "     default hidden behavior on the sphinx rendered scikit-learn.org.\n",
       "     See: https://github.com/scikit-learn/scikit-learn/issues/21755 */\n",
       "  display: inline-block !important;\n",
       "  position: relative;\n",
       "}\n",
       "\n",
       "#sk-container-id-6 div.sk-text-repr-fallback {\n",
       "  display: none;\n",
       "}\n",
       "\n",
       "div.sk-parallel-item,\n",
       "div.sk-serial,\n",
       "div.sk-item {\n",
       "  /* draw centered vertical line to link estimators */\n",
       "  background-image: linear-gradient(var(--sklearn-color-text-on-default-background), var(--sklearn-color-text-on-default-background));\n",
       "  background-size: 2px 100%;\n",
       "  background-repeat: no-repeat;\n",
       "  background-position: center center;\n",
       "}\n",
       "\n",
       "/* Parallel-specific style estimator block */\n",
       "\n",
       "#sk-container-id-6 div.sk-parallel-item::after {\n",
       "  content: \"\";\n",
       "  width: 100%;\n",
       "  border-bottom: 2px solid var(--sklearn-color-text-on-default-background);\n",
       "  flex-grow: 1;\n",
       "}\n",
       "\n",
       "#sk-container-id-6 div.sk-parallel {\n",
       "  display: flex;\n",
       "  align-items: stretch;\n",
       "  justify-content: center;\n",
       "  background-color: var(--sklearn-color-background);\n",
       "  position: relative;\n",
       "}\n",
       "\n",
       "#sk-container-id-6 div.sk-parallel-item {\n",
       "  display: flex;\n",
       "  flex-direction: column;\n",
       "}\n",
       "\n",
       "#sk-container-id-6 div.sk-parallel-item:first-child::after {\n",
       "  align-self: flex-end;\n",
       "  width: 50%;\n",
       "}\n",
       "\n",
       "#sk-container-id-6 div.sk-parallel-item:last-child::after {\n",
       "  align-self: flex-start;\n",
       "  width: 50%;\n",
       "}\n",
       "\n",
       "#sk-container-id-6 div.sk-parallel-item:only-child::after {\n",
       "  width: 0;\n",
       "}\n",
       "\n",
       "/* Serial-specific style estimator block */\n",
       "\n",
       "#sk-container-id-6 div.sk-serial {\n",
       "  display: flex;\n",
       "  flex-direction: column;\n",
       "  align-items: center;\n",
       "  background-color: var(--sklearn-color-background);\n",
       "  padding-right: 1em;\n",
       "  padding-left: 1em;\n",
       "}\n",
       "\n",
       "\n",
       "/* Toggleable style: style used for estimator/Pipeline/ColumnTransformer box that is\n",
       "clickable and can be expanded/collapsed.\n",
       "- Pipeline and ColumnTransformer use this feature and define the default style\n",
       "- Estimators will overwrite some part of the style using the `sk-estimator` class\n",
       "*/\n",
       "\n",
       "/* Pipeline and ColumnTransformer style (default) */\n",
       "\n",
       "#sk-container-id-6 div.sk-toggleable {\n",
       "  /* Default theme specific background. It is overwritten whether we have a\n",
       "  specific estimator or a Pipeline/ColumnTransformer */\n",
       "  background-color: var(--sklearn-color-background);\n",
       "}\n",
       "\n",
       "/* Toggleable label */\n",
       "#sk-container-id-6 label.sk-toggleable__label {\n",
       "  cursor: pointer;\n",
       "  display: flex;\n",
       "  width: 100%;\n",
       "  margin-bottom: 0;\n",
       "  padding: 0.5em;\n",
       "  box-sizing: border-box;\n",
       "  text-align: center;\n",
       "  align-items: start;\n",
       "  justify-content: space-between;\n",
       "  gap: 0.5em;\n",
       "}\n",
       "\n",
       "#sk-container-id-6 label.sk-toggleable__label .caption {\n",
       "  font-size: 0.6rem;\n",
       "  font-weight: lighter;\n",
       "  color: var(--sklearn-color-text-muted);\n",
       "}\n",
       "\n",
       "#sk-container-id-6 label.sk-toggleable__label-arrow:before {\n",
       "  /* Arrow on the left of the label */\n",
       "  content: \"▸\";\n",
       "  float: left;\n",
       "  margin-right: 0.25em;\n",
       "  color: var(--sklearn-color-icon);\n",
       "}\n",
       "\n",
       "#sk-container-id-6 label.sk-toggleable__label-arrow:hover:before {\n",
       "  color: var(--sklearn-color-text);\n",
       "}\n",
       "\n",
       "/* Toggleable content - dropdown */\n",
       "\n",
       "#sk-container-id-6 div.sk-toggleable__content {\n",
       "  max-height: 0;\n",
       "  max-width: 0;\n",
       "  overflow: hidden;\n",
       "  text-align: left;\n",
       "  /* unfitted */\n",
       "  background-color: var(--sklearn-color-unfitted-level-0);\n",
       "}\n",
       "\n",
       "#sk-container-id-6 div.sk-toggleable__content.fitted {\n",
       "  /* fitted */\n",
       "  background-color: var(--sklearn-color-fitted-level-0);\n",
       "}\n",
       "\n",
       "#sk-container-id-6 div.sk-toggleable__content pre {\n",
       "  margin: 0.2em;\n",
       "  border-radius: 0.25em;\n",
       "  color: var(--sklearn-color-text);\n",
       "  /* unfitted */\n",
       "  background-color: var(--sklearn-color-unfitted-level-0);\n",
       "}\n",
       "\n",
       "#sk-container-id-6 div.sk-toggleable__content.fitted pre {\n",
       "  /* unfitted */\n",
       "  background-color: var(--sklearn-color-fitted-level-0);\n",
       "}\n",
       "\n",
       "#sk-container-id-6 input.sk-toggleable__control:checked~div.sk-toggleable__content {\n",
       "  /* Expand drop-down */\n",
       "  max-height: 200px;\n",
       "  max-width: 100%;\n",
       "  overflow: auto;\n",
       "}\n",
       "\n",
       "#sk-container-id-6 input.sk-toggleable__control:checked~label.sk-toggleable__label-arrow:before {\n",
       "  content: \"▾\";\n",
       "}\n",
       "\n",
       "/* Pipeline/ColumnTransformer-specific style */\n",
       "\n",
       "#sk-container-id-6 div.sk-label input.sk-toggleable__control:checked~label.sk-toggleable__label {\n",
       "  color: var(--sklearn-color-text);\n",
       "  background-color: var(--sklearn-color-unfitted-level-2);\n",
       "}\n",
       "\n",
       "#sk-container-id-6 div.sk-label.fitted input.sk-toggleable__control:checked~label.sk-toggleable__label {\n",
       "  background-color: var(--sklearn-color-fitted-level-2);\n",
       "}\n",
       "\n",
       "/* Estimator-specific style */\n",
       "\n",
       "/* Colorize estimator box */\n",
       "#sk-container-id-6 div.sk-estimator input.sk-toggleable__control:checked~label.sk-toggleable__label {\n",
       "  /* unfitted */\n",
       "  background-color: var(--sklearn-color-unfitted-level-2);\n",
       "}\n",
       "\n",
       "#sk-container-id-6 div.sk-estimator.fitted input.sk-toggleable__control:checked~label.sk-toggleable__label {\n",
       "  /* fitted */\n",
       "  background-color: var(--sklearn-color-fitted-level-2);\n",
       "}\n",
       "\n",
       "#sk-container-id-6 div.sk-label label.sk-toggleable__label,\n",
       "#sk-container-id-6 div.sk-label label {\n",
       "  /* The background is the default theme color */\n",
       "  color: var(--sklearn-color-text-on-default-background);\n",
       "}\n",
       "\n",
       "/* On hover, darken the color of the background */\n",
       "#sk-container-id-6 div.sk-label:hover label.sk-toggleable__label {\n",
       "  color: var(--sklearn-color-text);\n",
       "  background-color: var(--sklearn-color-unfitted-level-2);\n",
       "}\n",
       "\n",
       "/* Label box, darken color on hover, fitted */\n",
       "#sk-container-id-6 div.sk-label.fitted:hover label.sk-toggleable__label.fitted {\n",
       "  color: var(--sklearn-color-text);\n",
       "  background-color: var(--sklearn-color-fitted-level-2);\n",
       "}\n",
       "\n",
       "/* Estimator label */\n",
       "\n",
       "#sk-container-id-6 div.sk-label label {\n",
       "  font-family: monospace;\n",
       "  font-weight: bold;\n",
       "  display: inline-block;\n",
       "  line-height: 1.2em;\n",
       "}\n",
       "\n",
       "#sk-container-id-6 div.sk-label-container {\n",
       "  text-align: center;\n",
       "}\n",
       "\n",
       "/* Estimator-specific */\n",
       "#sk-container-id-6 div.sk-estimator {\n",
       "  font-family: monospace;\n",
       "  border: 1px dotted var(--sklearn-color-border-box);\n",
       "  border-radius: 0.25em;\n",
       "  box-sizing: border-box;\n",
       "  margin-bottom: 0.5em;\n",
       "  /* unfitted */\n",
       "  background-color: var(--sklearn-color-unfitted-level-0);\n",
       "}\n",
       "\n",
       "#sk-container-id-6 div.sk-estimator.fitted {\n",
       "  /* fitted */\n",
       "  background-color: var(--sklearn-color-fitted-level-0);\n",
       "}\n",
       "\n",
       "/* on hover */\n",
       "#sk-container-id-6 div.sk-estimator:hover {\n",
       "  /* unfitted */\n",
       "  background-color: var(--sklearn-color-unfitted-level-2);\n",
       "}\n",
       "\n",
       "#sk-container-id-6 div.sk-estimator.fitted:hover {\n",
       "  /* fitted */\n",
       "  background-color: var(--sklearn-color-fitted-level-2);\n",
       "}\n",
       "\n",
       "/* Specification for estimator info (e.g. \"i\" and \"?\") */\n",
       "\n",
       "/* Common style for \"i\" and \"?\" */\n",
       "\n",
       ".sk-estimator-doc-link,\n",
       "a:link.sk-estimator-doc-link,\n",
       "a:visited.sk-estimator-doc-link {\n",
       "  float: right;\n",
       "  font-size: smaller;\n",
       "  line-height: 1em;\n",
       "  font-family: monospace;\n",
       "  background-color: var(--sklearn-color-background);\n",
       "  border-radius: 1em;\n",
       "  height: 1em;\n",
       "  width: 1em;\n",
       "  text-decoration: none !important;\n",
       "  margin-left: 0.5em;\n",
       "  text-align: center;\n",
       "  /* unfitted */\n",
       "  border: var(--sklearn-color-unfitted-level-1) 1pt solid;\n",
       "  color: var(--sklearn-color-unfitted-level-1);\n",
       "}\n",
       "\n",
       ".sk-estimator-doc-link.fitted,\n",
       "a:link.sk-estimator-doc-link.fitted,\n",
       "a:visited.sk-estimator-doc-link.fitted {\n",
       "  /* fitted */\n",
       "  border: var(--sklearn-color-fitted-level-1) 1pt solid;\n",
       "  color: var(--sklearn-color-fitted-level-1);\n",
       "}\n",
       "\n",
       "/* On hover */\n",
       "div.sk-estimator:hover .sk-estimator-doc-link:hover,\n",
       ".sk-estimator-doc-link:hover,\n",
       "div.sk-label-container:hover .sk-estimator-doc-link:hover,\n",
       ".sk-estimator-doc-link:hover {\n",
       "  /* unfitted */\n",
       "  background-color: var(--sklearn-color-unfitted-level-3);\n",
       "  color: var(--sklearn-color-background);\n",
       "  text-decoration: none;\n",
       "}\n",
       "\n",
       "div.sk-estimator.fitted:hover .sk-estimator-doc-link.fitted:hover,\n",
       ".sk-estimator-doc-link.fitted:hover,\n",
       "div.sk-label-container:hover .sk-estimator-doc-link.fitted:hover,\n",
       ".sk-estimator-doc-link.fitted:hover {\n",
       "  /* fitted */\n",
       "  background-color: var(--sklearn-color-fitted-level-3);\n",
       "  color: var(--sklearn-color-background);\n",
       "  text-decoration: none;\n",
       "}\n",
       "\n",
       "/* Span, style for the box shown on hovering the info icon */\n",
       ".sk-estimator-doc-link span {\n",
       "  display: none;\n",
       "  z-index: 9999;\n",
       "  position: relative;\n",
       "  font-weight: normal;\n",
       "  right: .2ex;\n",
       "  padding: .5ex;\n",
       "  margin: .5ex;\n",
       "  width: min-content;\n",
       "  min-width: 20ex;\n",
       "  max-width: 50ex;\n",
       "  color: var(--sklearn-color-text);\n",
       "  box-shadow: 2pt 2pt 4pt #999;\n",
       "  /* unfitted */\n",
       "  background: var(--sklearn-color-unfitted-level-0);\n",
       "  border: .5pt solid var(--sklearn-color-unfitted-level-3);\n",
       "}\n",
       "\n",
       ".sk-estimator-doc-link.fitted span {\n",
       "  /* fitted */\n",
       "  background: var(--sklearn-color-fitted-level-0);\n",
       "  border: var(--sklearn-color-fitted-level-3);\n",
       "}\n",
       "\n",
       ".sk-estimator-doc-link:hover span {\n",
       "  display: block;\n",
       "}\n",
       "\n",
       "/* \"?\"-specific style due to the `<a>` HTML tag */\n",
       "\n",
       "#sk-container-id-6 a.estimator_doc_link {\n",
       "  float: right;\n",
       "  font-size: 1rem;\n",
       "  line-height: 1em;\n",
       "  font-family: monospace;\n",
       "  background-color: var(--sklearn-color-background);\n",
       "  border-radius: 1rem;\n",
       "  height: 1rem;\n",
       "  width: 1rem;\n",
       "  text-decoration: none;\n",
       "  /* unfitted */\n",
       "  color: var(--sklearn-color-unfitted-level-1);\n",
       "  border: var(--sklearn-color-unfitted-level-1) 1pt solid;\n",
       "}\n",
       "\n",
       "#sk-container-id-6 a.estimator_doc_link.fitted {\n",
       "  /* fitted */\n",
       "  border: var(--sklearn-color-fitted-level-1) 1pt solid;\n",
       "  color: var(--sklearn-color-fitted-level-1);\n",
       "}\n",
       "\n",
       "/* On hover */\n",
       "#sk-container-id-6 a.estimator_doc_link:hover {\n",
       "  /* unfitted */\n",
       "  background-color: var(--sklearn-color-unfitted-level-3);\n",
       "  color: var(--sklearn-color-background);\n",
       "  text-decoration: none;\n",
       "}\n",
       "\n",
       "#sk-container-id-6 a.estimator_doc_link.fitted:hover {\n",
       "  /* fitted */\n",
       "  background-color: var(--sklearn-color-fitted-level-3);\n",
       "}\n",
       "</style><div id=\"sk-container-id-6\" class=\"sk-top-container\"><div class=\"sk-text-repr-fallback\"><pre>KNeighborsClassifier(algorithm=&#x27;brute&#x27;, metric=&#x27;euclidean&#x27;, n_neighbors=55, p=3,\n",
       "                     weights=&#x27;distance&#x27;)</pre><b>In a Jupyter environment, please rerun this cell to show the HTML representation or trust the notebook. <br />On GitHub, the HTML representation is unable to render, please try loading this page with nbviewer.org.</b></div><div class=\"sk-container\" hidden><div class=\"sk-item\"><div class=\"sk-estimator fitted sk-toggleable\"><input class=\"sk-toggleable__control sk-hidden--visually\" id=\"sk-estimator-id-6\" type=\"checkbox\" checked><label for=\"sk-estimator-id-6\" class=\"sk-toggleable__label fitted sk-toggleable__label-arrow\"><div><div>KNeighborsClassifier</div></div><div><a class=\"sk-estimator-doc-link fitted\" rel=\"noreferrer\" target=\"_blank\" href=\"https://scikit-learn.org/1.6/modules/generated/sklearn.neighbors.KNeighborsClassifier.html\">?<span>Documentation for KNeighborsClassifier</span></a><span class=\"sk-estimator-doc-link fitted\">i<span>Fitted</span></span></div></label><div class=\"sk-toggleable__content fitted\"><pre>KNeighborsClassifier(algorithm=&#x27;brute&#x27;, metric=&#x27;euclidean&#x27;, n_neighbors=55, p=3,\n",
       "                     weights=&#x27;distance&#x27;)</pre></div> </div></div></div></div>"
      ],
      "text/plain": [
       "KNeighborsClassifier(algorithm='brute', metric='euclidean', n_neighbors=55, p=3,\n",
       "                     weights='distance')"
      ]
     },
     "execution_count": 34,
     "metadata": {},
     "output_type": "execute_result"
    }
   ],
   "source": [
    "k_neighbours = neighbors.KNeighborsClassifier(algorithm='brute', \n",
    "                                              weights='distance', \n",
    "                                              metric='euclidean',\n",
    "                                              n_neighbors=55,\n",
    "                                              p=3)\n",
    "k_neighbours.fit(X_train_lin, y_train_lin)\n",
    "# param_grid = {\n",
    "#     'n_neighbors': list(range(3, 50, 10)),\n",
    "#     'p': [1, 1.5, 2, 3, 4, 5]\n",
    "# }\n",
    "\n",
    "# grid_search = model_selection.RandomizedSearchCV(\n",
    "#     estimator=k_neighbours, param_distributions=param_grid, n_iter=6,\n",
    "#     scoring=recall_at_5_fpr, cv=2,\n",
    "#     verbose=2, return_train_score=True, error_score='raise'\n",
    "# )\n",
    "\n",
    "k_neighbours.fit(X_train_lin, y_train_lin)"
   ]
  },
  {
   "cell_type": "code",
   "execution_count": 33,
   "id": "0d9adc4f",
   "metadata": {},
   "outputs": [],
   "source": [
    "neigh_pred = k_neighbours.predict_proba(X_val_lin)"
   ]
  },
  {
   "cell_type": "code",
   "execution_count": null,
   "id": "6bf87697",
   "metadata": {},
   "outputs": [
    {
     "name": "stdout",
     "output_type": "stream",
     "text": [
      "Recall for best KNeigbours: 21 %\n"
     ]
    }
   ],
   "source": [
    "print('Recall for best KNeigbours (p=1, n=5): {} %'\\\n",
    "     .format(round(get_recall(y_val_lin, neigh_pred)*100)))"
   ]
  },
  {
   "cell_type": "code",
   "execution_count": 25,
   "id": "9ee3182f",
   "metadata": {},
   "outputs": [
    {
     "name": "stdout",
     "output_type": "stream",
     "text": [
      "Recall for best KNeigbours (p=1, n=25): 30 %\n"
     ]
    }
   ],
   "source": [
    "print('Recall for best KNeigbours (p=1, n=25): {} %'\\\n",
    "     .format(round(get_recall(y_val_lin, neigh_pred)*100)))"
   ]
  },
  {
   "cell_type": "code",
   "execution_count": 32,
   "id": "ad64af5a",
   "metadata": {},
   "outputs": [
    {
     "name": "stdout",
     "output_type": "stream",
     "text": [
      "Recall for best KNeigbours (p=2, n=55): 33 %\n"
     ]
    }
   ],
   "source": [
    "print('Recall for best KNeigbours (p=2, n=55): {} %'\\\n",
    "     .format(round(get_recall(y_val_lin, neigh_pred)*100)))"
   ]
  },
  {
   "cell_type": "code",
   "execution_count": 35,
   "id": "e968183f",
   "metadata": {},
   "outputs": [
    {
     "name": "stdout",
     "output_type": "stream",
     "text": [
      "Recall for best KNeigbours (p=3, n=55): 33 %\n"
     ]
    }
   ],
   "source": [
    "print('Recall for best KNeigbours (p=3, n=55): {} %'\\\n",
    "     .format(round(get_recall(y_val_lin, neigh_pred)*100)))"
   ]
  },
  {
   "cell_type": "markdown",
   "id": "96f12505",
   "metadata": {},
   "source": [
    "Видим, что алгоритм показывает метрику на уровне решающего дерева. Попробуем другой алгоритм."
   ]
  },
  {
   "cell_type": "markdown",
   "id": "a3740e37",
   "metadata": {},
   "source": [
    "### Naive Bayes"
   ]
  },
  {
   "cell_type": "code",
   "execution_count": 77,
   "id": "85eec483",
   "metadata": {},
   "outputs": [
    {
     "name": "stdout",
     "output_type": "stream",
     "text": [
      "Recall for best Naive Bayes (Bernoulli distr): 37 %\n"
     ]
    }
   ],
   "source": [
    "naive_baye = naive_bayes.BernoulliNB()\n",
    "naive_baye.fit(X_train_resampled, y_train_resampled)\n",
    "\n",
    "cluster_pred = naive_baye.predict_proba(X_val)\n",
    "#cluster_pred[:, 0], cluster_pred[:, 1] = cluster_pred[:, 1], cluster_pred[:, 0]\n",
    "print('Recall for best Naive Bayes (Bernoulli distr): {} %'\\\n",
    "    .format(round(get_recall(y_val, cluster_pred)*100)))"
   ]
  },
  {
   "cell_type": "code",
   "execution_count": 76,
   "id": "1091b47d",
   "metadata": {},
   "outputs": [
    {
     "name": "stdout",
     "output_type": "stream",
     "text": [
      "Recall for best Naive Bayes (Gaussian distr): 36 %\n"
     ]
    }
   ],
   "source": [
    "naive_baye = naive_bayes.GaussianNB()\n",
    "naive_baye.fit(X_train_resampled, y_train_resampled)\n",
    "\n",
    "cluster_pred = naive_baye.predict_proba(X_val)\n",
    "#cluster_pred[:, 0], cluster_pred[:, 1] = cluster_pred[:, 1], cluster_pred[:, 0]\n",
    "print('Recall for best Naive Bayes (Gaussian distr): {} %'\\\n",
    "    .format(round(get_recall(y_val, cluster_pred)*100)))"
   ]
  },
  {
   "cell_type": "markdown",
   "id": "129bc9ee",
   "metadata": {},
   "source": [
    "Как видим, байесовские классификаторы на распределении Бернулли и Гаусса показывают себя даже лучше одиночного дерева."
   ]
  },
  {
   "cell_type": "markdown",
   "id": "fa1fc0ed",
   "metadata": {},
   "source": [
    "Давайте здесь же попробуем BayesianGaussianMixture - алгоритм из модуля mixture библиотеки sklearn, который подбирает кластеры по распределениям:"
   ]
  },
  {
   "cell_type": "code",
   "execution_count": null,
   "id": "1bfcf939",
   "metadata": {},
   "outputs": [
    {
     "name": "stdout",
     "output_type": "stream",
     "text": [
      "Recall for best Bayes-Gaussian mixture: 7 %\n"
     ]
    }
   ],
   "source": [
    "bayes_gauss_mixture = mixture.BayesianGaussianMixture(\n",
    "    n_components=2, covariance_type='tied', max_iter=300, \n",
    "    init_params='k-means++', random_state=rs\n",
    ")\n",
    "\n",
    "bayes_gauss_mixture.fit(X_train_resampled)\n",
    "cluster_pred = bayes_gauss_mixture.predict_proba(X_val)\n",
    "print('Recall for best Bayes-Gaussian mixture: {} %'\\\n",
    "    .format(round(get_recall(y_val, cluster_pred)*100)))"
   ]
  },
  {
   "cell_type": "markdown",
   "id": "67191706",
   "metadata": {},
   "source": [
    "Лучший результат - на оверсемпле с ковариационной матрицей \"tied' (т.е. распределения кластеров связаны, имеют одинаковую форму). В остальных случаях получался 0"
   ]
  },
  {
   "cell_type": "markdown",
   "id": "0289d836",
   "metadata": {},
   "source": [
    "### SVM"
   ]
  },
  {
   "cell_type": "markdown",
   "id": "8a286be1",
   "metadata": {},
   "source": [
    "Последний - метод опорных векторов. Хотел использовать нелинейные версии, но они слишком длительны по времени."
   ]
  },
  {
   "cell_type": "code",
   "execution_count": null,
   "id": "98ab678c",
   "metadata": {},
   "outputs": [
    {
     "name": "stdout",
     "output_type": "stream",
     "text": [
      "Recall (linear SVM): 33.40 %\n"
     ]
    }
   ],
   "source": [
    "from sklearn.svm import LinearSVC\n",
    "from sklearn.calibration import CalibratedClassifierCV\n",
    "\n",
    "svm_linear = LinearSVC(C=0.2, class_weight='balanced', max_iter=1000, random_state=rs)\n",
    "calibrated_svm = CalibratedClassifierCV(svm_linear, cv=5)\n",
    "calibrated_svm.fit(X_train_resampled, y_train_resampled)\n",
    "\n",
    "cluster_pred = calibrated_svm.predict_proba(X_val)\n",
    "print('Recall (linear SVM): {:.2f} %'.format(get_recall(y_val, cluster_pred)*100))"
   ]
  },
  {
   "cell_type": "markdown",
   "id": "668aa65f",
   "metadata": {},
   "source": [
    "Результат на уровне дерева решений."
   ]
  },
  {
   "cell_type": "markdown",
   "id": "97afb121",
   "metadata": {},
   "source": [
    "Итого - кластеризация в данном случае показывает себя на уровне одиночного дерева и логистической регрессии."
   ]
  },
  {
   "cell_type": "markdown",
   "id": "a719bffa",
   "metadata": {},
   "source": [
    "# 5. Использование продвинутых методов: ансамблевые модели"
   ]
  },
  {
   "cell_type": "markdown",
   "id": "b1aaf52e",
   "metadata": {},
   "source": [
    "В ансамблиевых моделях будем подбирать гиперпараметры с помощью optuna:"
   ]
  },
  {
   "cell_type": "code",
   "execution_count": 21,
   "id": "eb25698e",
   "metadata": {},
   "outputs": [],
   "source": [
    "import optuna"
   ]
  },
  {
   "cell_type": "markdown",
   "id": "4230108f",
   "metadata": {},
   "source": [
    "## Random Forest Classifier"
   ]
  },
  {
   "cell_type": "markdown",
   "id": "468ac392",
   "metadata": {},
   "source": [
    "Пару замечаний:\n",
    "1. "
   ]
  },
  {
   "cell_type": "code",
   "execution_count": 52,
   "id": "2aa8f4ca",
   "metadata": {},
   "outputs": [
    {
     "name": "stdout",
     "output_type": "stream",
     "text": [
      "Recall for Random Forest: 35.01 %\n"
     ]
    }
   ],
   "source": [
    "model = ensemble.RandomForestClassifier(\n",
    "    criterion='log_loss', \n",
    "    max_depth=30, \n",
    "    class_weight='balanced', \n",
    "    min_samples_leaf=200, \n",
    "    min_impurity_decrease=0.001, \n",
    "    random_state=rs\n",
    ")\n",
    "model.fit(X_train_resampled, y_train_resampled)\n",
    "\n",
    "rf_pred = model.predict_proba(X_val)\n",
    "print('Recall for Random Forest: {:.2f} %'.format(get_recall(y_val, rf_pred)*100))"
   ]
  },
  {
   "cell_type": "code",
   "execution_count": null,
   "id": "54d5c626",
   "metadata": {},
   "outputs": [],
   "source": [
    "model.feature_importances_"
   ]
  },
  {
   "cell_type": "code",
   "execution_count": 27,
   "id": "75de8443",
   "metadata": {},
   "outputs": [],
   "source": [
    "def make_optuna_objective(model, param_grid, X_train, y_train, X_val, y_val):\n",
    "    \"\"\"Функция для определения оптимизирующей функции для optuna\n",
    "\n",
    "    Аргументы:\n",
    "        model (): любая модель, поддерживающая sklearn API, в частности методы fit и fit_predict\n",
    "        param_grid (dict): список параметров\n",
    "        X_train (np.array): обучающая тренировочная выборка\n",
    "        y_train (np.array): обучающая тренировочная целевая переменная\n",
    "        X_val (np.array): валидационная тренировочная выборка\n",
    "        y_val (np.array): валидационная тренировочная целевая переменная\n",
    "    \"\"\"\n",
    "    # функция для подбора параметров для optuna\n",
    "    def suggest(trial, name, space):\n",
    "        if isinstance(space, tuple):\n",
    "            if len(space) == 3: \n",
    "               # int пространство: (low, high, step) \n",
    "               return trial.suggest_int(name, *space) \n",
    "            elif isinstance(space[0], float): \n",
    "                # float пространство: (low, high)\n",
    "                return trial.suggest_float(name, *space)\n",
    "        elif isinstance(space, list):\n",
    "            # пространство категориальных\n",
    "            return trial.suggest_categorical(name, space)\n",
    "        # для фиксированных значений\n",
    "        else:\n",
    "            return space\n",
    "        \n",
    "    # оптимизирующая функция\n",
    "    def optuna_optimize_rf(trial):\n",
    "        # сетка параметров\n",
    "        param_grid_trial = {\n",
    "            key: suggest(trial, key, space)\n",
    "            for key, space in param_grid.items()\n",
    "        }\n",
    "        \n",
    "        # обучаем модель\n",
    "        model_train = model(**param_grid_trial)\n",
    "        model_train.fit(X_train, y_train)\n",
    "        # получаем показатель метрики для данного trial\n",
    "        score = get_recall(y_val, model_train.predict_proba(X_val))\n",
    "        \n",
    "        return score\n",
    "    \n",
    "    return optuna_optimize_rf"
   ]
  },
  {
   "cell_type": "code",
   "execution_count": null,
   "id": "6d6ce34a",
   "metadata": {},
   "outputs": [
    {
     "name": "stderr",
     "output_type": "stream",
     "text": [
      "[I 2025-08-07 14:31:51,167] A new study created in memory with name: Random Forest Classifier\n",
      "[I 2025-08-07 14:34:31,189] Trial 0 finished with value: 0.3311845286059629 and parameters: {'n_estimators': 150, 'max_depth': 45, 'min_samples_leaf': 140, 'min_impurity_decrease': 0.01800050218001419}. Best is trial 0 with value: 0.3311845286059629.\n",
      "[I 2025-08-07 14:37:17,777] Trial 1 finished with value: 0.3432715551974214 and parameters: {'n_estimators': 100, 'max_depth': 25, 'min_samples_leaf': 380, 'min_impurity_decrease': 0.003424802669483067}. Best is trial 1 with value: 0.3432715551974214.\n",
      "[I 2025-08-07 14:42:18,879] Trial 2 finished with value: 0.3295729250604351 and parameters: {'n_estimators': 250, 'max_depth': 45, 'min_samples_leaf': 220, 'min_impurity_decrease': 0.012867427637255695}. Best is trial 1 with value: 0.3432715551974214.\n",
      "[I 2025-08-07 14:48:17,420] Trial 3 finished with value: 0.34286865431103947 and parameters: {'n_estimators': 200, 'max_depth': 35, 'min_samples_leaf': 100, 'min_impurity_decrease': 0.0025916799664465304}. Best is trial 1 with value: 0.3432715551974214.\n",
      "[I 2025-08-07 14:50:25,530] Trial 4 finished with value: 0.33440773569701854 and parameters: {'n_estimators': 100, 'max_depth': 15, 'min_samples_leaf': 260, 'min_impurity_decrease': 0.010485463275844754}. Best is trial 1 with value: 0.3432715551974214.\n",
      "[I 2025-08-07 14:53:47,474] Trial 5 finished with value: 0.32997582594681707 and parameters: {'n_estimators': 200, 'max_depth': 15, 'min_samples_leaf': 140, 'min_impurity_decrease': 0.021328239604327285}. Best is trial 1 with value: 0.3432715551974214.\n",
      "[I 2025-08-07 14:56:22,040] Trial 6 finished with value: 0.3348106365834005 and parameters: {'n_estimators': 100, 'max_depth': 15, 'min_samples_leaf': 260, 'min_impurity_decrease': 0.004750067749540675}. Best is trial 1 with value: 0.3432715551974214.\n",
      "[I 2025-08-07 14:59:57,784] Trial 7 finished with value: 0.3340048348106366 and parameters: {'n_estimators': 150, 'max_depth': 15, 'min_samples_leaf': 140, 'min_impurity_decrease': 0.005978732165466736}. Best is trial 1 with value: 0.3432715551974214.\n",
      "[I 2025-08-07 15:02:13,583] Trial 8 finished with value: 0.32473811442385175 and parameters: {'n_estimators': 150, 'max_depth': 45, 'min_samples_leaf': 180, 'min_impurity_decrease': 0.027985358016027192}. Best is trial 1 with value: 0.3432715551974214.\n",
      "[I 2025-08-07 15:04:08,138] Trial 9 finished with value: 0.32917002417405317 and parameters: {'n_estimators': 100, 'max_depth': 15, 'min_samples_leaf': 220, 'min_impurity_decrease': 0.014397703548827995}. Best is trial 1 with value: 0.3432715551974214.\n"
     ]
    }
   ],
   "source": [
    "param_grid_rf = {\n",
    "    'n_estimators': (150, 350, 50),\n",
    "    'max_depth': (35, 55, 10),\n",
    "    'min_samples_leaf':  (100, 400, 40),\n",
    "    'min_impurity_decrease': (0.0005, 0.0008),\n",
    "    'class_weight': 'balanced',\n",
    "    'random_state': rs,\n",
    "    'criterion': 'log_loss'\n",
    "}\n",
    "\n",
    "rf_optuna = make_optuna_objective(\n",
    "    model=ensemble.RandomForestClassifier,\n",
    "    param_grid=param_grid_rf,\n",
    "    X_train=X_train_resampled,\n",
    "    y_train=y_train_resampled,\n",
    "    X_val=X_val,\n",
    "    y_val=y_val\n",
    ")\n",
    "\n",
    "study_rf = optuna.create_study(study_name='Random Forest Classifier', direction='maximize')\n",
    "study_rf.optimize(rf_optuna, n_trials=10)"
   ]
  },
  {
   "cell_type": "code",
   "execution_count": 60,
   "id": "f7bf649b",
   "metadata": {},
   "outputs": [],
   "source": [
    "param_dict = study_rf.best_params\n",
    "param_dict.update({'criterion': 'log_loss', 'random_state': rs})"
   ]
  },
  {
   "cell_type": "code",
   "execution_count": 62,
   "id": "01f07342",
   "metadata": {},
   "outputs": [
    {
     "data": {
      "text/plain": [
       "{'n_estimators': 100,\n",
       " 'max_depth': 25,\n",
       " 'min_samples_leaf': 380,\n",
       " 'min_impurity_decrease': 0.003424802669483067,\n",
       " 'criterion': 'log_loss',\n",
       " 'random_state': 42}"
      ]
     },
     "execution_count": 62,
     "metadata": {},
     "output_type": "execute_result"
    }
   ],
   "source": [
    "param_dict"
   ]
  },
  {
   "cell_type": "code",
   "execution_count": 51,
   "id": "5b2b6ee5",
   "metadata": {},
   "outputs": [
    {
     "data": {
      "application/vnd.plotly.v1+json": {
       "config": {
        "plotlyServerURL": "https://plot.ly"
       },
       "data": [
        {
         "mode": "markers",
         "name": "recall @ 5\\% fpr",
         "type": "scatter",
         "x": [
          0,
          1,
          2,
          3,
          4,
          5,
          6,
          7,
          8,
          9
         ],
         "y": [
          0.3311845286059629,
          0.3432715551974214,
          0.3295729250604351,
          0.34286865431103947,
          0.33440773569701854,
          0.32997582594681707,
          0.3348106365834005,
          0.3340048348106366,
          0.32473811442385175,
          0.32917002417405317
         ]
        },
        {
         "mode": "lines",
         "name": "Best Value",
         "type": "scatter",
         "x": [
          0,
          1,
          2,
          3,
          4,
          5,
          6,
          7,
          8,
          9
         ],
         "y": [
          0.3311845286059629,
          0.3432715551974214,
          0.3432715551974214,
          0.3432715551974214,
          0.3432715551974214,
          0.3432715551974214,
          0.3432715551974214,
          0.3432715551974214,
          0.3432715551974214,
          0.3432715551974214
         ]
        },
        {
         "marker": {
          "color": "#cccccc"
         },
         "mode": "markers",
         "name": "Infeasible Trial",
         "showlegend": false,
         "type": "scatter",
         "x": [],
         "y": []
        }
       ],
       "layout": {
        "template": {
         "data": {
          "bar": [
           {
            "error_x": {
             "color": "#2a3f5f"
            },
            "error_y": {
             "color": "#2a3f5f"
            },
            "marker": {
             "line": {
              "color": "#E5ECF6",
              "width": 0.5
             },
             "pattern": {
              "fillmode": "overlay",
              "size": 10,
              "solidity": 0.2
             }
            },
            "type": "bar"
           }
          ],
          "barpolar": [
           {
            "marker": {
             "line": {
              "color": "#E5ECF6",
              "width": 0.5
             },
             "pattern": {
              "fillmode": "overlay",
              "size": 10,
              "solidity": 0.2
             }
            },
            "type": "barpolar"
           }
          ],
          "carpet": [
           {
            "aaxis": {
             "endlinecolor": "#2a3f5f",
             "gridcolor": "white",
             "linecolor": "white",
             "minorgridcolor": "white",
             "startlinecolor": "#2a3f5f"
            },
            "baxis": {
             "endlinecolor": "#2a3f5f",
             "gridcolor": "white",
             "linecolor": "white",
             "minorgridcolor": "white",
             "startlinecolor": "#2a3f5f"
            },
            "type": "carpet"
           }
          ],
          "choropleth": [
           {
            "colorbar": {
             "outlinewidth": 0,
             "ticks": ""
            },
            "type": "choropleth"
           }
          ],
          "contour": [
           {
            "colorbar": {
             "outlinewidth": 0,
             "ticks": ""
            },
            "colorscale": [
             [
              0,
              "#0d0887"
             ],
             [
              0.1111111111111111,
              "#46039f"
             ],
             [
              0.2222222222222222,
              "#7201a8"
             ],
             [
              0.3333333333333333,
              "#9c179e"
             ],
             [
              0.4444444444444444,
              "#bd3786"
             ],
             [
              0.5555555555555556,
              "#d8576b"
             ],
             [
              0.6666666666666666,
              "#ed7953"
             ],
             [
              0.7777777777777778,
              "#fb9f3a"
             ],
             [
              0.8888888888888888,
              "#fdca26"
             ],
             [
              1,
              "#f0f921"
             ]
            ],
            "type": "contour"
           }
          ],
          "contourcarpet": [
           {
            "colorbar": {
             "outlinewidth": 0,
             "ticks": ""
            },
            "type": "contourcarpet"
           }
          ],
          "heatmap": [
           {
            "colorbar": {
             "outlinewidth": 0,
             "ticks": ""
            },
            "colorscale": [
             [
              0,
              "#0d0887"
             ],
             [
              0.1111111111111111,
              "#46039f"
             ],
             [
              0.2222222222222222,
              "#7201a8"
             ],
             [
              0.3333333333333333,
              "#9c179e"
             ],
             [
              0.4444444444444444,
              "#bd3786"
             ],
             [
              0.5555555555555556,
              "#d8576b"
             ],
             [
              0.6666666666666666,
              "#ed7953"
             ],
             [
              0.7777777777777778,
              "#fb9f3a"
             ],
             [
              0.8888888888888888,
              "#fdca26"
             ],
             [
              1,
              "#f0f921"
             ]
            ],
            "type": "heatmap"
           }
          ],
          "heatmapgl": [
           {
            "colorbar": {
             "outlinewidth": 0,
             "ticks": ""
            },
            "colorscale": [
             [
              0,
              "#0d0887"
             ],
             [
              0.1111111111111111,
              "#46039f"
             ],
             [
              0.2222222222222222,
              "#7201a8"
             ],
             [
              0.3333333333333333,
              "#9c179e"
             ],
             [
              0.4444444444444444,
              "#bd3786"
             ],
             [
              0.5555555555555556,
              "#d8576b"
             ],
             [
              0.6666666666666666,
              "#ed7953"
             ],
             [
              0.7777777777777778,
              "#fb9f3a"
             ],
             [
              0.8888888888888888,
              "#fdca26"
             ],
             [
              1,
              "#f0f921"
             ]
            ],
            "type": "heatmapgl"
           }
          ],
          "histogram": [
           {
            "marker": {
             "pattern": {
              "fillmode": "overlay",
              "size": 10,
              "solidity": 0.2
             }
            },
            "type": "histogram"
           }
          ],
          "histogram2d": [
           {
            "colorbar": {
             "outlinewidth": 0,
             "ticks": ""
            },
            "colorscale": [
             [
              0,
              "#0d0887"
             ],
             [
              0.1111111111111111,
              "#46039f"
             ],
             [
              0.2222222222222222,
              "#7201a8"
             ],
             [
              0.3333333333333333,
              "#9c179e"
             ],
             [
              0.4444444444444444,
              "#bd3786"
             ],
             [
              0.5555555555555556,
              "#d8576b"
             ],
             [
              0.6666666666666666,
              "#ed7953"
             ],
             [
              0.7777777777777778,
              "#fb9f3a"
             ],
             [
              0.8888888888888888,
              "#fdca26"
             ],
             [
              1,
              "#f0f921"
             ]
            ],
            "type": "histogram2d"
           }
          ],
          "histogram2dcontour": [
           {
            "colorbar": {
             "outlinewidth": 0,
             "ticks": ""
            },
            "colorscale": [
             [
              0,
              "#0d0887"
             ],
             [
              0.1111111111111111,
              "#46039f"
             ],
             [
              0.2222222222222222,
              "#7201a8"
             ],
             [
              0.3333333333333333,
              "#9c179e"
             ],
             [
              0.4444444444444444,
              "#bd3786"
             ],
             [
              0.5555555555555556,
              "#d8576b"
             ],
             [
              0.6666666666666666,
              "#ed7953"
             ],
             [
              0.7777777777777778,
              "#fb9f3a"
             ],
             [
              0.8888888888888888,
              "#fdca26"
             ],
             [
              1,
              "#f0f921"
             ]
            ],
            "type": "histogram2dcontour"
           }
          ],
          "mesh3d": [
           {
            "colorbar": {
             "outlinewidth": 0,
             "ticks": ""
            },
            "type": "mesh3d"
           }
          ],
          "parcoords": [
           {
            "line": {
             "colorbar": {
              "outlinewidth": 0,
              "ticks": ""
             }
            },
            "type": "parcoords"
           }
          ],
          "pie": [
           {
            "automargin": true,
            "type": "pie"
           }
          ],
          "scatter": [
           {
            "fillpattern": {
             "fillmode": "overlay",
             "size": 10,
             "solidity": 0.2
            },
            "type": "scatter"
           }
          ],
          "scatter3d": [
           {
            "line": {
             "colorbar": {
              "outlinewidth": 0,
              "ticks": ""
             }
            },
            "marker": {
             "colorbar": {
              "outlinewidth": 0,
              "ticks": ""
             }
            },
            "type": "scatter3d"
           }
          ],
          "scattercarpet": [
           {
            "marker": {
             "colorbar": {
              "outlinewidth": 0,
              "ticks": ""
             }
            },
            "type": "scattercarpet"
           }
          ],
          "scattergeo": [
           {
            "marker": {
             "colorbar": {
              "outlinewidth": 0,
              "ticks": ""
             }
            },
            "type": "scattergeo"
           }
          ],
          "scattergl": [
           {
            "marker": {
             "colorbar": {
              "outlinewidth": 0,
              "ticks": ""
             }
            },
            "type": "scattergl"
           }
          ],
          "scattermapbox": [
           {
            "marker": {
             "colorbar": {
              "outlinewidth": 0,
              "ticks": ""
             }
            },
            "type": "scattermapbox"
           }
          ],
          "scatterpolar": [
           {
            "marker": {
             "colorbar": {
              "outlinewidth": 0,
              "ticks": ""
             }
            },
            "type": "scatterpolar"
           }
          ],
          "scatterpolargl": [
           {
            "marker": {
             "colorbar": {
              "outlinewidth": 0,
              "ticks": ""
             }
            },
            "type": "scatterpolargl"
           }
          ],
          "scatterternary": [
           {
            "marker": {
             "colorbar": {
              "outlinewidth": 0,
              "ticks": ""
             }
            },
            "type": "scatterternary"
           }
          ],
          "surface": [
           {
            "colorbar": {
             "outlinewidth": 0,
             "ticks": ""
            },
            "colorscale": [
             [
              0,
              "#0d0887"
             ],
             [
              0.1111111111111111,
              "#46039f"
             ],
             [
              0.2222222222222222,
              "#7201a8"
             ],
             [
              0.3333333333333333,
              "#9c179e"
             ],
             [
              0.4444444444444444,
              "#bd3786"
             ],
             [
              0.5555555555555556,
              "#d8576b"
             ],
             [
              0.6666666666666666,
              "#ed7953"
             ],
             [
              0.7777777777777778,
              "#fb9f3a"
             ],
             [
              0.8888888888888888,
              "#fdca26"
             ],
             [
              1,
              "#f0f921"
             ]
            ],
            "type": "surface"
           }
          ],
          "table": [
           {
            "cells": {
             "fill": {
              "color": "#EBF0F8"
             },
             "line": {
              "color": "white"
             }
            },
            "header": {
             "fill": {
              "color": "#C8D4E3"
             },
             "line": {
              "color": "white"
             }
            },
            "type": "table"
           }
          ]
         },
         "layout": {
          "annotationdefaults": {
           "arrowcolor": "#2a3f5f",
           "arrowhead": 0,
           "arrowwidth": 1
          },
          "autotypenumbers": "strict",
          "coloraxis": {
           "colorbar": {
            "outlinewidth": 0,
            "ticks": ""
           }
          },
          "colorscale": {
           "diverging": [
            [
             0,
             "#8e0152"
            ],
            [
             0.1,
             "#c51b7d"
            ],
            [
             0.2,
             "#de77ae"
            ],
            [
             0.3,
             "#f1b6da"
            ],
            [
             0.4,
             "#fde0ef"
            ],
            [
             0.5,
             "#f7f7f7"
            ],
            [
             0.6,
             "#e6f5d0"
            ],
            [
             0.7,
             "#b8e186"
            ],
            [
             0.8,
             "#7fbc41"
            ],
            [
             0.9,
             "#4d9221"
            ],
            [
             1,
             "#276419"
            ]
           ],
           "sequential": [
            [
             0,
             "#0d0887"
            ],
            [
             0.1111111111111111,
             "#46039f"
            ],
            [
             0.2222222222222222,
             "#7201a8"
            ],
            [
             0.3333333333333333,
             "#9c179e"
            ],
            [
             0.4444444444444444,
             "#bd3786"
            ],
            [
             0.5555555555555556,
             "#d8576b"
            ],
            [
             0.6666666666666666,
             "#ed7953"
            ],
            [
             0.7777777777777778,
             "#fb9f3a"
            ],
            [
             0.8888888888888888,
             "#fdca26"
            ],
            [
             1,
             "#f0f921"
            ]
           ],
           "sequentialminus": [
            [
             0,
             "#0d0887"
            ],
            [
             0.1111111111111111,
             "#46039f"
            ],
            [
             0.2222222222222222,
             "#7201a8"
            ],
            [
             0.3333333333333333,
             "#9c179e"
            ],
            [
             0.4444444444444444,
             "#bd3786"
            ],
            [
             0.5555555555555556,
             "#d8576b"
            ],
            [
             0.6666666666666666,
             "#ed7953"
            ],
            [
             0.7777777777777778,
             "#fb9f3a"
            ],
            [
             0.8888888888888888,
             "#fdca26"
            ],
            [
             1,
             "#f0f921"
            ]
           ]
          },
          "colorway": [
           "#636efa",
           "#EF553B",
           "#00cc96",
           "#ab63fa",
           "#FFA15A",
           "#19d3f3",
           "#FF6692",
           "#B6E880",
           "#FF97FF",
           "#FECB52"
          ],
          "font": {
           "color": "#2a3f5f"
          },
          "geo": {
           "bgcolor": "white",
           "lakecolor": "white",
           "landcolor": "#E5ECF6",
           "showlakes": true,
           "showland": true,
           "subunitcolor": "white"
          },
          "hoverlabel": {
           "align": "left"
          },
          "hovermode": "closest",
          "mapbox": {
           "style": "light"
          },
          "paper_bgcolor": "white",
          "plot_bgcolor": "#E5ECF6",
          "polar": {
           "angularaxis": {
            "gridcolor": "white",
            "linecolor": "white",
            "ticks": ""
           },
           "bgcolor": "#E5ECF6",
           "radialaxis": {
            "gridcolor": "white",
            "linecolor": "white",
            "ticks": ""
           }
          },
          "scene": {
           "xaxis": {
            "backgroundcolor": "#E5ECF6",
            "gridcolor": "white",
            "gridwidth": 2,
            "linecolor": "white",
            "showbackground": true,
            "ticks": "",
            "zerolinecolor": "white"
           },
           "yaxis": {
            "backgroundcolor": "#E5ECF6",
            "gridcolor": "white",
            "gridwidth": 2,
            "linecolor": "white",
            "showbackground": true,
            "ticks": "",
            "zerolinecolor": "white"
           },
           "zaxis": {
            "backgroundcolor": "#E5ECF6",
            "gridcolor": "white",
            "gridwidth": 2,
            "linecolor": "white",
            "showbackground": true,
            "ticks": "",
            "zerolinecolor": "white"
           }
          },
          "shapedefaults": {
           "line": {
            "color": "#2a3f5f"
           }
          },
          "ternary": {
           "aaxis": {
            "gridcolor": "white",
            "linecolor": "white",
            "ticks": ""
           },
           "baxis": {
            "gridcolor": "white",
            "linecolor": "white",
            "ticks": ""
           },
           "bgcolor": "#E5ECF6",
           "caxis": {
            "gridcolor": "white",
            "linecolor": "white",
            "ticks": ""
           }
          },
          "title": {
           "x": 0.05
          },
          "xaxis": {
           "automargin": true,
           "gridcolor": "white",
           "linecolor": "white",
           "ticks": "",
           "title": {
            "standoff": 15
           },
           "zerolinecolor": "white",
           "zerolinewidth": 2
          },
          "yaxis": {
           "automargin": true,
           "gridcolor": "white",
           "linecolor": "white",
           "ticks": "",
           "title": {
            "standoff": 15
           },
           "zerolinecolor": "white",
           "zerolinewidth": 2
          }
         }
        },
        "title": {
         "text": "Optimization History Plot"
        },
        "xaxis": {
         "title": {
          "text": "Trial"
         }
        },
        "yaxis": {
         "title": {
          "text": "recall @ 5\\% fpr"
         }
        }
       }
      }
     },
     "metadata": {},
     "output_type": "display_data"
    }
   ],
   "source": [
    "optuna.visualization.plot_optimization_history(study_rf, target_name='recall @ 5\\% fpr')"
   ]
  },
  {
   "cell_type": "markdown",
   "id": "f25fe04c",
   "metadata": {},
   "source": [
    "Ну здесь увидел маленькие показатели, на уровне той же логистической регрессии, которая тратит на порядок меньше ресурсов. Решил, что неправильно выбрал данные, поэтому обучим небольшой RandomForest на наших данных, и возьмем лучшие 32 признака из них:"
   ]
  },
  {
   "cell_type": "code",
   "execution_count": null,
   "id": "4d97b1e2",
   "metadata": {},
   "outputs": [
    {
     "name": "stdout",
     "output_type": "stream",
     "text": [
      "Recall for Random Forest: 35.97 %\n",
      "\n",
      "Feature importances:\n",
      "\n",
      " [4.26682264e-02 1.23400096e-02 2.32082753e-02 0.00000000e+00\n",
      " 0.00000000e+00 5.55006429e-03 0.00000000e+00 0.00000000e+00\n",
      " 0.00000000e+00 0.00000000e+00 0.00000000e+00 3.72198213e-02\n",
      " 2.52723820e-03 2.25536288e-02 7.59183807e-04 1.28292416e-03\n",
      " 2.54872539e-02 7.66525461e-03 0.00000000e+00 0.00000000e+00\n",
      " 0.00000000e+00 2.60470447e-02 2.06719219e-03 0.00000000e+00\n",
      " 4.73702718e-03 0.00000000e+00 0.00000000e+00 0.00000000e+00\n",
      " 0.00000000e+00 0.00000000e+00 0.00000000e+00 1.25378010e-01\n",
      " 1.55536099e-01 1.90939700e-03 6.07694098e-03 1.36092942e-04\n",
      " 1.28648124e-03 9.63962784e-02 4.47688155e-02 4.31532429e-03\n",
      " 4.29418205e-03 4.38844773e-03 6.66540535e-02 2.10969879e-02\n",
      " 1.10557974e-01 7.70697311e-03 1.20967962e-02 0.00000000e+00\n",
      " 1.16706196e-02 9.17311896e-03 3.03553988e-04 2.58123927e-02\n",
      " 1.07471560e-02 0.00000000e+00 0.00000000e+00 1.11097255e-03\n",
      " 0.00000000e+00 2.85077237e-04 8.78505363e-03 0.00000000e+00\n",
      " 0.00000000e+00 4.54747135e-03 1.93981264e-02 7.94613383e-04\n",
      " 1.01012275e-03 0.00000000e+00 1.56799864e-03 0.00000000e+00\n",
      " 0.00000000e+00 1.14795407e-02 6.16527139e-04 9.83063178e-03\n",
      " 4.64764361e-03 1.50738099e-03 0.00000000e+00 0.00000000e+00\n",
      " 0.00000000e+00 0.00000000e+00]\n"
     ]
    }
   ],
   "source": [
    "X, y = data.drop('fraud_bool', axis=1), data['fraud_bool']\n",
    "X_f_train, X_f_test, y_f_train, y_f_test = train_test_split(X, y, test_size=0.25, random_state=rs)\n",
    "\n",
    "f_selection_model = ensemble.RandomForestClassifier(\n",
    "    **{'n_estimators': 150,\n",
    "    'max_depth': 45,\n",
    "    'min_samples_leaf': 380,\n",
    "    'min_impurity_decrease': 0.00017,\n",
    "    'criterion': 'log_loss',\n",
    "    'random_state': 42}\n",
    ")\n",
    "f_selection_model.fit(X_f_train, y_f_train)\n",
    "\n",
    "rf_pred = f_selection_model.predict_proba(X_f_test)\n",
    "print('Recall for Random Forest: {:.2f} %'.format(get_recall(y_f_test, rf_pred)*100))\n",
    "print('\\nFeature importances:\\n\\n', f_selection_model.feature_importances_)"
   ]
  },
  {
   "cell_type": "code",
   "execution_count": 26,
   "id": "12896015",
   "metadata": {},
   "outputs": [
    {
     "ename": "NameError",
     "evalue": "name 'X_f_train' is not defined",
     "output_type": "error",
     "traceback": [
      "\u001b[1;31m---------------------------------------------------------------------------\u001b[0m",
      "\u001b[1;31mNameError\u001b[0m                                 Traceback (most recent call last)",
      "Cell \u001b[1;32mIn[26], line 1\u001b[0m\n\u001b[1;32m----> 1\u001b[0m \u001b[38;5;28;01mdel\u001b[39;00m(\u001b[43mX_f_train\u001b[49m, X_f_test, y_f_train, y_f_test)\n",
      "\u001b[1;31mNameError\u001b[0m: name 'X_f_train' is not defined"
     ]
    }
   ],
   "source": [
    "del(X_f_train, X_f_test, y_f_train, y_f_test)"
   ]
  },
  {
   "cell_type": "code",
   "execution_count": 68,
   "id": "3ecb3a51",
   "metadata": {},
   "outputs": [
    {
     "data": {
      "text/plain": [
       "{'income': 0.04266822644850516,\n",
       " 'name_email_similarity': 0.012340009592618694,\n",
       " 'current_address_months_count': 0.02320827529406699,\n",
       " 'intended_balcon_amount': 0.0055500642884294595,\n",
       " 'credit_risk_score': 0.037219821303250814,\n",
       " 'email_is_free': 0.0025272381998924466,\n",
       " 'phone_home_valid': 0.022553628768104548,\n",
       " 'bank_months_count': 0.0012829241551066911,\n",
       " 'has_other_cards': 0.02548725386339376,\n",
       " 'proposed_credit_limit': 0.007665254607758069,\n",
       " 'keep_alive_session': 0.02604704473129529,\n",
       " 'device_distinct_emails_8w': 0.0020671921905482367,\n",
       " 'only_one_valid': 0.004737027181686091,\n",
       " 'housing_status_BA': 0.1253780104341245,\n",
       " 'CA_BA': 0.15553609893159373,\n",
       " 'housing_status_BE': 0.001909396997933975,\n",
       " 'CA_AC': 0.006076940982867111,\n",
       " 'payment_type_AC': 0.001286481242925689,\n",
       " 'device_os_windows': 0.09639627842819029,\n",
       " 'windows_AC': 0.04476881552149621,\n",
       " 'device_os_linux': 0.00431532429164111,\n",
       " 'device_os_other': 0.004294182053633944,\n",
       " 'windows_AB': 0.004388447729553166,\n",
       " 'AC_BA': 0.06665405352617572,\n",
       " 'AB_BA': 0.021096987923009416,\n",
       " 'BA_windows': 0.11055797386258022,\n",
       " 'n_e_cat_similarity': 0.007706973112179631,\n",
       " 'n_e_norm_similarity': 0.012096796198398934,\n",
       " 'cur_address_months_binned_first_spike': 0.011670619620208529,\n",
       " 'cur_address_months_binned_danger_spike': 0.009173118958821785,\n",
       " 'cur_address': 0.025812392738760015,\n",
       " 'cur_address_fraud_zone': 0.010747156003984636,\n",
       " 'bank_months_count_qt': 0.0011109725500098565,\n",
       " 'cur_address_months_binned_end_spike': 0.008785053629994778,\n",
       " 'is_credit_limit_high': 0.004547471351835241,\n",
       " 'max_account_sum': 0.01939812636368493,\n",
       " 'intended_balcon_peak_1': 0.0010101227467095655,\n",
       " 'new_email_entrance': 0.0015679986394768024,\n",
       " 'bank_branch_count_8w': 0.0114795406671941,\n",
       " 'zip_transaction_ratio': 0.009830631779266328,\n",
       " 'max_zip_sum': 0.004647643607565584,\n",
       " 'zip_sum_ratio': 0.001507380985773796}"
      ]
     },
     "execution_count": 68,
     "metadata": {},
     "output_type": "execute_result"
    }
   ],
   "source": [
    "results_dict = {f_selection_model.feature_names_in_[key]: f_selection_model.feature_importances_[key] for key in range(len(f_selection_model.feature_names_in_)) if f_selection_model.feature_importances_[key] > 0.001}\n",
    "results_dict"
   ]
  },
  {
   "cell_type": "code",
   "execution_count": 72,
   "id": "625f3553",
   "metadata": {},
   "outputs": [
    {
     "data": {
      "text/plain": [
       "42"
      ]
     },
     "execution_count": 72,
     "metadata": {},
     "output_type": "execute_result"
    }
   ],
   "source": [
    "len(results_dict)"
   ]
  },
  {
   "cell_type": "code",
   "execution_count": 71,
   "id": "4e2b891c",
   "metadata": {},
   "outputs": [
    {
     "data": {
      "text/plain": [
       "['name_email_similarity',\n",
       " 'current_address_months_count',\n",
       " 'email_is_free',\n",
       " 'bank_months_count',\n",
       " 'keep_alive_session',\n",
       " 'CA_AC',\n",
       " 'payment_type_AC',\n",
       " 'windows_AC',\n",
       " 'windows_AB',\n",
       " 'AC_BA',\n",
       " 'AB_BA',\n",
       " 'n_e_cat_similarity',\n",
       " 'cur_address_months_binned_first_spike',\n",
       " 'cur_address_fraud_zone',\n",
       " 'cur_address_months_binned_end_spike',\n",
       " 'is_credit_limit_high',\n",
       " 'new_email_entrance']"
      ]
     },
     "execution_count": 71,
     "metadata": {},
     "output_type": "execute_result"
    }
   ],
   "source": [
    "[key for key in results_dict.keys() if key not in df.columns]"
   ]
  },
  {
   "cell_type": "markdown",
   "id": "7685000a",
   "metadata": {},
   "source": [
    "Видим примерно те же результаты, хотя чуть больше признаков. "
   ]
  },
  {
   "cell_type": "markdown",
   "id": "5b508f80",
   "metadata": {},
   "source": [
    "## GradientBoosting"
   ]
  },
  {
   "cell_type": "code",
   "execution_count": null,
   "id": "4347a69f",
   "metadata": {},
   "outputs": [],
   "source": [
    "param_grid_gb = {\n",
    "    'n_estimators': (100, 300, 50),\n",
    "    'max_depth': (5, 12, 1),\n",
    "    'num_leaves': (20, 100, 10),\n",
    "    'reg_alpha': (1e-3, 1.0),\n",
    "    'reg_lambda': (1e-3, 1.0),\n",
    "    'min_gain_to_split': (0.0, 0.1),\n",
    "    'min_data_in_leaf': (20, 100, 10),\n",
    "    'class_weight': 'balanced',\n",
    "    'random_state': rs,\n",
    "}\n",
    "\n",
    "gb_optuna = make_optuna_objective(\n",
    "    model=lgbm.LGBMClassifier,\n",
    "    param_grid=param_grid_gb,\n",
    "    X_train=X_train_resampled,\n",
    "    y_train=y_train_resampled,\n",
    "    X_val=X_val,\n",
    "    y_val=y_val\n",
    ")\n",
    "\n",
    "\n",
    "study_gb = optuna.create_study(study_name='Gradient Boosting (lgbm)', direction='maximize')\n",
    "study_gb.optimize(gb_optuna, n_trials=25)"
   ]
  },
  {
   "cell_type": "code",
   "execution_count": 30,
   "id": "07799447",
   "metadata": {},
   "outputs": [
    {
     "data": {
      "application/vnd.plotly.v1+json": {
       "config": {
        "plotlyServerURL": "https://plot.ly"
       },
       "data": [
        {
         "mode": "markers",
         "name": "recall @ 5\\% fpr",
         "type": "scatter",
         "x": [
          0,
          1,
          2,
          3,
          4,
          5,
          6,
          7,
          8,
          9,
          10,
          11,
          12,
          13,
          14,
          15,
          16,
          17,
          18,
          19,
          20,
          21,
          22,
          23,
          24
         ],
         "y": [
          0.3509266720386785,
          0.36422240128928285,
          0.363013698630137,
          0.36663980660757456,
          0.37107171635777597,
          0.35374697824335216,
          0.35495568090249796,
          0.3517324738114424,
          0.36261079774375504,
          0.36341659951651895,
          0.3726833199033038,
          0.3670427074939565,
          0.36341659951651895,
          0.3775181305398872,
          0.36865431103948426,
          0.36946011281224816,
          0.36663980660757456,
          0.36583400483481066,
          0.35576148267526186,
          0.3726833199033038,
          0.36946011281224816,
          0.3718775181305399,
          0.3698630136986301,
          0.37026591458501207,
          0.3718775181305399
         ]
        },
        {
         "mode": "lines",
         "name": "Best Value",
         "type": "scatter",
         "x": [
          0,
          1,
          2,
          3,
          4,
          5,
          6,
          7,
          8,
          9,
          10,
          11,
          12,
          13,
          14,
          15,
          16,
          17,
          18,
          19,
          20,
          21,
          22,
          23,
          24
         ],
         "y": [
          0.3509266720386785,
          0.36422240128928285,
          0.36422240128928285,
          0.36663980660757456,
          0.37107171635777597,
          0.37107171635777597,
          0.37107171635777597,
          0.37107171635777597,
          0.37107171635777597,
          0.37107171635777597,
          0.3726833199033038,
          0.3726833199033038,
          0.3726833199033038,
          0.3775181305398872,
          0.3775181305398872,
          0.3775181305398872,
          0.3775181305398872,
          0.3775181305398872,
          0.3775181305398872,
          0.3775181305398872,
          0.3775181305398872,
          0.3775181305398872,
          0.3775181305398872,
          0.3775181305398872,
          0.3775181305398872
         ]
        },
        {
         "marker": {
          "color": "#cccccc"
         },
         "mode": "markers",
         "name": "Infeasible Trial",
         "showlegend": false,
         "type": "scatter",
         "x": [],
         "y": []
        }
       ],
       "layout": {
        "template": {
         "data": {
          "bar": [
           {
            "error_x": {
             "color": "#2a3f5f"
            },
            "error_y": {
             "color": "#2a3f5f"
            },
            "marker": {
             "line": {
              "color": "#E5ECF6",
              "width": 0.5
             },
             "pattern": {
              "fillmode": "overlay",
              "size": 10,
              "solidity": 0.2
             }
            },
            "type": "bar"
           }
          ],
          "barpolar": [
           {
            "marker": {
             "line": {
              "color": "#E5ECF6",
              "width": 0.5
             },
             "pattern": {
              "fillmode": "overlay",
              "size": 10,
              "solidity": 0.2
             }
            },
            "type": "barpolar"
           }
          ],
          "carpet": [
           {
            "aaxis": {
             "endlinecolor": "#2a3f5f",
             "gridcolor": "white",
             "linecolor": "white",
             "minorgridcolor": "white",
             "startlinecolor": "#2a3f5f"
            },
            "baxis": {
             "endlinecolor": "#2a3f5f",
             "gridcolor": "white",
             "linecolor": "white",
             "minorgridcolor": "white",
             "startlinecolor": "#2a3f5f"
            },
            "type": "carpet"
           }
          ],
          "choropleth": [
           {
            "colorbar": {
             "outlinewidth": 0,
             "ticks": ""
            },
            "type": "choropleth"
           }
          ],
          "contour": [
           {
            "colorbar": {
             "outlinewidth": 0,
             "ticks": ""
            },
            "colorscale": [
             [
              0,
              "#0d0887"
             ],
             [
              0.1111111111111111,
              "#46039f"
             ],
             [
              0.2222222222222222,
              "#7201a8"
             ],
             [
              0.3333333333333333,
              "#9c179e"
             ],
             [
              0.4444444444444444,
              "#bd3786"
             ],
             [
              0.5555555555555556,
              "#d8576b"
             ],
             [
              0.6666666666666666,
              "#ed7953"
             ],
             [
              0.7777777777777778,
              "#fb9f3a"
             ],
             [
              0.8888888888888888,
              "#fdca26"
             ],
             [
              1,
              "#f0f921"
             ]
            ],
            "type": "contour"
           }
          ],
          "contourcarpet": [
           {
            "colorbar": {
             "outlinewidth": 0,
             "ticks": ""
            },
            "type": "contourcarpet"
           }
          ],
          "heatmap": [
           {
            "colorbar": {
             "outlinewidth": 0,
             "ticks": ""
            },
            "colorscale": [
             [
              0,
              "#0d0887"
             ],
             [
              0.1111111111111111,
              "#46039f"
             ],
             [
              0.2222222222222222,
              "#7201a8"
             ],
             [
              0.3333333333333333,
              "#9c179e"
             ],
             [
              0.4444444444444444,
              "#bd3786"
             ],
             [
              0.5555555555555556,
              "#d8576b"
             ],
             [
              0.6666666666666666,
              "#ed7953"
             ],
             [
              0.7777777777777778,
              "#fb9f3a"
             ],
             [
              0.8888888888888888,
              "#fdca26"
             ],
             [
              1,
              "#f0f921"
             ]
            ],
            "type": "heatmap"
           }
          ],
          "heatmapgl": [
           {
            "colorbar": {
             "outlinewidth": 0,
             "ticks": ""
            },
            "colorscale": [
             [
              0,
              "#0d0887"
             ],
             [
              0.1111111111111111,
              "#46039f"
             ],
             [
              0.2222222222222222,
              "#7201a8"
             ],
             [
              0.3333333333333333,
              "#9c179e"
             ],
             [
              0.4444444444444444,
              "#bd3786"
             ],
             [
              0.5555555555555556,
              "#d8576b"
             ],
             [
              0.6666666666666666,
              "#ed7953"
             ],
             [
              0.7777777777777778,
              "#fb9f3a"
             ],
             [
              0.8888888888888888,
              "#fdca26"
             ],
             [
              1,
              "#f0f921"
             ]
            ],
            "type": "heatmapgl"
           }
          ],
          "histogram": [
           {
            "marker": {
             "pattern": {
              "fillmode": "overlay",
              "size": 10,
              "solidity": 0.2
             }
            },
            "type": "histogram"
           }
          ],
          "histogram2d": [
           {
            "colorbar": {
             "outlinewidth": 0,
             "ticks": ""
            },
            "colorscale": [
             [
              0,
              "#0d0887"
             ],
             [
              0.1111111111111111,
              "#46039f"
             ],
             [
              0.2222222222222222,
              "#7201a8"
             ],
             [
              0.3333333333333333,
              "#9c179e"
             ],
             [
              0.4444444444444444,
              "#bd3786"
             ],
             [
              0.5555555555555556,
              "#d8576b"
             ],
             [
              0.6666666666666666,
              "#ed7953"
             ],
             [
              0.7777777777777778,
              "#fb9f3a"
             ],
             [
              0.8888888888888888,
              "#fdca26"
             ],
             [
              1,
              "#f0f921"
             ]
            ],
            "type": "histogram2d"
           }
          ],
          "histogram2dcontour": [
           {
            "colorbar": {
             "outlinewidth": 0,
             "ticks": ""
            },
            "colorscale": [
             [
              0,
              "#0d0887"
             ],
             [
              0.1111111111111111,
              "#46039f"
             ],
             [
              0.2222222222222222,
              "#7201a8"
             ],
             [
              0.3333333333333333,
              "#9c179e"
             ],
             [
              0.4444444444444444,
              "#bd3786"
             ],
             [
              0.5555555555555556,
              "#d8576b"
             ],
             [
              0.6666666666666666,
              "#ed7953"
             ],
             [
              0.7777777777777778,
              "#fb9f3a"
             ],
             [
              0.8888888888888888,
              "#fdca26"
             ],
             [
              1,
              "#f0f921"
             ]
            ],
            "type": "histogram2dcontour"
           }
          ],
          "mesh3d": [
           {
            "colorbar": {
             "outlinewidth": 0,
             "ticks": ""
            },
            "type": "mesh3d"
           }
          ],
          "parcoords": [
           {
            "line": {
             "colorbar": {
              "outlinewidth": 0,
              "ticks": ""
             }
            },
            "type": "parcoords"
           }
          ],
          "pie": [
           {
            "automargin": true,
            "type": "pie"
           }
          ],
          "scatter": [
           {
            "fillpattern": {
             "fillmode": "overlay",
             "size": 10,
             "solidity": 0.2
            },
            "type": "scatter"
           }
          ],
          "scatter3d": [
           {
            "line": {
             "colorbar": {
              "outlinewidth": 0,
              "ticks": ""
             }
            },
            "marker": {
             "colorbar": {
              "outlinewidth": 0,
              "ticks": ""
             }
            },
            "type": "scatter3d"
           }
          ],
          "scattercarpet": [
           {
            "marker": {
             "colorbar": {
              "outlinewidth": 0,
              "ticks": ""
             }
            },
            "type": "scattercarpet"
           }
          ],
          "scattergeo": [
           {
            "marker": {
             "colorbar": {
              "outlinewidth": 0,
              "ticks": ""
             }
            },
            "type": "scattergeo"
           }
          ],
          "scattergl": [
           {
            "marker": {
             "colorbar": {
              "outlinewidth": 0,
              "ticks": ""
             }
            },
            "type": "scattergl"
           }
          ],
          "scattermapbox": [
           {
            "marker": {
             "colorbar": {
              "outlinewidth": 0,
              "ticks": ""
             }
            },
            "type": "scattermapbox"
           }
          ],
          "scatterpolar": [
           {
            "marker": {
             "colorbar": {
              "outlinewidth": 0,
              "ticks": ""
             }
            },
            "type": "scatterpolar"
           }
          ],
          "scatterpolargl": [
           {
            "marker": {
             "colorbar": {
              "outlinewidth": 0,
              "ticks": ""
             }
            },
            "type": "scatterpolargl"
           }
          ],
          "scatterternary": [
           {
            "marker": {
             "colorbar": {
              "outlinewidth": 0,
              "ticks": ""
             }
            },
            "type": "scatterternary"
           }
          ],
          "surface": [
           {
            "colorbar": {
             "outlinewidth": 0,
             "ticks": ""
            },
            "colorscale": [
             [
              0,
              "#0d0887"
             ],
             [
              0.1111111111111111,
              "#46039f"
             ],
             [
              0.2222222222222222,
              "#7201a8"
             ],
             [
              0.3333333333333333,
              "#9c179e"
             ],
             [
              0.4444444444444444,
              "#bd3786"
             ],
             [
              0.5555555555555556,
              "#d8576b"
             ],
             [
              0.6666666666666666,
              "#ed7953"
             ],
             [
              0.7777777777777778,
              "#fb9f3a"
             ],
             [
              0.8888888888888888,
              "#fdca26"
             ],
             [
              1,
              "#f0f921"
             ]
            ],
            "type": "surface"
           }
          ],
          "table": [
           {
            "cells": {
             "fill": {
              "color": "#EBF0F8"
             },
             "line": {
              "color": "white"
             }
            },
            "header": {
             "fill": {
              "color": "#C8D4E3"
             },
             "line": {
              "color": "white"
             }
            },
            "type": "table"
           }
          ]
         },
         "layout": {
          "annotationdefaults": {
           "arrowcolor": "#2a3f5f",
           "arrowhead": 0,
           "arrowwidth": 1
          },
          "autotypenumbers": "strict",
          "coloraxis": {
           "colorbar": {
            "outlinewidth": 0,
            "ticks": ""
           }
          },
          "colorscale": {
           "diverging": [
            [
             0,
             "#8e0152"
            ],
            [
             0.1,
             "#c51b7d"
            ],
            [
             0.2,
             "#de77ae"
            ],
            [
             0.3,
             "#f1b6da"
            ],
            [
             0.4,
             "#fde0ef"
            ],
            [
             0.5,
             "#f7f7f7"
            ],
            [
             0.6,
             "#e6f5d0"
            ],
            [
             0.7,
             "#b8e186"
            ],
            [
             0.8,
             "#7fbc41"
            ],
            [
             0.9,
             "#4d9221"
            ],
            [
             1,
             "#276419"
            ]
           ],
           "sequential": [
            [
             0,
             "#0d0887"
            ],
            [
             0.1111111111111111,
             "#46039f"
            ],
            [
             0.2222222222222222,
             "#7201a8"
            ],
            [
             0.3333333333333333,
             "#9c179e"
            ],
            [
             0.4444444444444444,
             "#bd3786"
            ],
            [
             0.5555555555555556,
             "#d8576b"
            ],
            [
             0.6666666666666666,
             "#ed7953"
            ],
            [
             0.7777777777777778,
             "#fb9f3a"
            ],
            [
             0.8888888888888888,
             "#fdca26"
            ],
            [
             1,
             "#f0f921"
            ]
           ],
           "sequentialminus": [
            [
             0,
             "#0d0887"
            ],
            [
             0.1111111111111111,
             "#46039f"
            ],
            [
             0.2222222222222222,
             "#7201a8"
            ],
            [
             0.3333333333333333,
             "#9c179e"
            ],
            [
             0.4444444444444444,
             "#bd3786"
            ],
            [
             0.5555555555555556,
             "#d8576b"
            ],
            [
             0.6666666666666666,
             "#ed7953"
            ],
            [
             0.7777777777777778,
             "#fb9f3a"
            ],
            [
             0.8888888888888888,
             "#fdca26"
            ],
            [
             1,
             "#f0f921"
            ]
           ]
          },
          "colorway": [
           "#636efa",
           "#EF553B",
           "#00cc96",
           "#ab63fa",
           "#FFA15A",
           "#19d3f3",
           "#FF6692",
           "#B6E880",
           "#FF97FF",
           "#FECB52"
          ],
          "font": {
           "color": "#2a3f5f"
          },
          "geo": {
           "bgcolor": "white",
           "lakecolor": "white",
           "landcolor": "#E5ECF6",
           "showlakes": true,
           "showland": true,
           "subunitcolor": "white"
          },
          "hoverlabel": {
           "align": "left"
          },
          "hovermode": "closest",
          "mapbox": {
           "style": "light"
          },
          "paper_bgcolor": "white",
          "plot_bgcolor": "#E5ECF6",
          "polar": {
           "angularaxis": {
            "gridcolor": "white",
            "linecolor": "white",
            "ticks": ""
           },
           "bgcolor": "#E5ECF6",
           "radialaxis": {
            "gridcolor": "white",
            "linecolor": "white",
            "ticks": ""
           }
          },
          "scene": {
           "xaxis": {
            "backgroundcolor": "#E5ECF6",
            "gridcolor": "white",
            "gridwidth": 2,
            "linecolor": "white",
            "showbackground": true,
            "ticks": "",
            "zerolinecolor": "white"
           },
           "yaxis": {
            "backgroundcolor": "#E5ECF6",
            "gridcolor": "white",
            "gridwidth": 2,
            "linecolor": "white",
            "showbackground": true,
            "ticks": "",
            "zerolinecolor": "white"
           },
           "zaxis": {
            "backgroundcolor": "#E5ECF6",
            "gridcolor": "white",
            "gridwidth": 2,
            "linecolor": "white",
            "showbackground": true,
            "ticks": "",
            "zerolinecolor": "white"
           }
          },
          "shapedefaults": {
           "line": {
            "color": "#2a3f5f"
           }
          },
          "ternary": {
           "aaxis": {
            "gridcolor": "white",
            "linecolor": "white",
            "ticks": ""
           },
           "baxis": {
            "gridcolor": "white",
            "linecolor": "white",
            "ticks": ""
           },
           "bgcolor": "#E5ECF6",
           "caxis": {
            "gridcolor": "white",
            "linecolor": "white",
            "ticks": ""
           }
          },
          "title": {
           "x": 0.05
          },
          "xaxis": {
           "automargin": true,
           "gridcolor": "white",
           "linecolor": "white",
           "ticks": "",
           "title": {
            "standoff": 15
           },
           "zerolinecolor": "white",
           "zerolinewidth": 2
          },
          "yaxis": {
           "automargin": true,
           "gridcolor": "white",
           "linecolor": "white",
           "ticks": "",
           "title": {
            "standoff": 15
           },
           "zerolinecolor": "white",
           "zerolinewidth": 2
          }
         }
        },
        "title": {
         "text": "Optimization History Plot"
        },
        "xaxis": {
         "title": {
          "text": "Trial"
         }
        },
        "yaxis": {
         "title": {
          "text": "recall @ 5\\% fpr"
         }
        }
       }
      }
     },
     "metadata": {},
     "output_type": "display_data"
    }
   ],
   "source": [
    "optuna.visualization.plot_optimization_history(study_gb, target_name='recall @ 5\\% fpr')"
   ]
  },
  {
   "cell_type": "code",
   "execution_count": 31,
   "id": "3103dc7c",
   "metadata": {},
   "outputs": [
    {
     "data": {
      "text/plain": [
       "{'n_estimators': 300,\n",
       " 'max_depth': 12,\n",
       " 'num_leaves': 80,\n",
       " 'reg_alpha': 0.1997799598953282,\n",
       " 'reg_lambda': 0.9936086042807553,\n",
       " 'min_gain_to_split': 0.03708299877911875,\n",
       " 'min_data_in_leaf': 70}"
      ]
     },
     "execution_count": 31,
     "metadata": {},
     "output_type": "execute_result"
    }
   ],
   "source": [
    "study_gb.best_params"
   ]
  },
  {
   "cell_type": "code",
   "execution_count": null,
   "id": "d7182934",
   "metadata": {},
   "outputs": [
    {
     "name": "stderr",
     "output_type": "stream",
     "text": [
      "[I 2025-08-07 17:49:53,730] A new study created in memory with name: Gradient Boosting (lgbm)\n",
      "[I 2025-08-07 17:50:14,122] Trial 0 finished with value: 0.37107171635777597 and parameters: {'n_estimators': 500, 'max_depth': 12, 'num_leaves': 60, 'reg_alpha': 0.756483535908177, 'reg_lambda': 0.7190505609180924, 'min_gain_to_split': 0.030476974600283195, 'min_data_in_leaf': 110}. Best is trial 0 with value: 0.37107171635777597.\n",
      "[I 2025-08-07 17:50:29,722] Trial 1 finished with value: 0.37308622078968573 and parameters: {'n_estimators': 350, 'max_depth': 12, 'num_leaves': 60, 'reg_alpha': 0.3500147376075564, 'reg_lambda': 0.7634494709412958, 'min_gain_to_split': 0.08515746922093015, 'min_data_in_leaf': 190}. Best is trial 1 with value: 0.37308622078968573.\n",
      "[I 2025-08-07 17:50:48,844] Trial 2 finished with value: 0.3726833199033038 and parameters: {'n_estimators': 450, 'max_depth': 14, 'num_leaves': 60, 'reg_alpha': 0.38362074966190013, 'reg_lambda': 0.7462407960838964, 'min_gain_to_split': 0.05347321990797682, 'min_data_in_leaf': 110}. Best is trial 1 with value: 0.37308622078968573.\n",
      "[I 2025-08-07 17:51:10,856] Trial 3 finished with value: 0.37026591458501207 and parameters: {'n_estimators': 450, 'max_depth': 14, 'num_leaves': 100, 'reg_alpha': 0.9718298127287532, 'reg_lambda': 0.7107011414151481, 'min_gain_to_split': 0.04556241355383295, 'min_data_in_leaf': 110}. Best is trial 1 with value: 0.37308622078968573.\n",
      "[I 2025-08-07 17:51:29,591] Trial 4 finished with value: 0.37630942788074134 and parameters: {'n_estimators': 350, 'max_depth': 14, 'num_leaves': 120, 'reg_alpha': 0.3845930623046354, 'reg_lambda': 0.6163257967915489, 'min_gain_to_split': 0.037040777680330685, 'min_data_in_leaf': 110}. Best is trial 4 with value: 0.37630942788074134.\n",
      "[I 2025-08-07 17:51:52,222] Trial 5 finished with value: 0.3827558420628525 and parameters: {'n_estimators': 550, 'max_depth': 14, 'num_leaves': 60, 'reg_alpha': 0.48997186883861527, 'reg_lambda': 0.6021007921079893, 'min_gain_to_split': 0.04044458989387897, 'min_data_in_leaf': 110}. Best is trial 5 with value: 0.3827558420628525.\n",
      "[I 2025-08-07 17:52:18,255] Trial 6 finished with value: 0.3742949234488316 and parameters: {'n_estimators': 500, 'max_depth': 12, 'num_leaves': 120, 'reg_alpha': 0.2683625879067244, 'reg_lambda': 0.9486923229430371, 'min_gain_to_split': 0.06230440772771872, 'min_data_in_leaf': 110}. Best is trial 5 with value: 0.3827558420628525.\n",
      "[I 2025-08-07 17:52:43,233] Trial 7 finished with value: 0.3682514101531023 and parameters: {'n_estimators': 500, 'max_depth': 12, 'num_leaves': 120, 'reg_alpha': 0.6722392060190276, 'reg_lambda': 0.9220585892040912, 'min_gain_to_split': 0.09215994332703711, 'min_data_in_leaf': 70}. Best is trial 5 with value: 0.3827558420628525.\n",
      "[I 2025-08-07 17:52:58,066] Trial 8 finished with value: 0.3722804190169218 and parameters: {'n_estimators': 300, 'max_depth': 16, 'num_leaves': 60, 'reg_alpha': 0.6078271530185211, 'reg_lambda': 0.7897256862494064, 'min_gain_to_split': 0.03318768210846479, 'min_data_in_leaf': 110}. Best is trial 5 with value: 0.3827558420628525.\n",
      "[I 2025-08-07 17:53:18,599] Trial 9 finished with value: 0.36946011281224816 and parameters: {'n_estimators': 450, 'max_depth': 14, 'num_leaves': 80, 'reg_alpha': 0.3173412676140903, 'reg_lambda': 0.5732302249088824, 'min_gain_to_split': 0.07446870737901382, 'min_data_in_leaf': 150}. Best is trial 5 with value: 0.3827558420628525.\n",
      "[I 2025-08-07 17:53:50,688] Trial 10 finished with value: 0.3561643835616438 and parameters: {'n_estimators': 600, 'max_depth': 10, 'num_leaves': 140, 'reg_alpha': 0.5000521404616061, 'reg_lambda': 0.5035879777713455, 'min_gain_to_split': 0.05247945865562041, 'min_data_in_leaf': 190}. Best is trial 5 with value: 0.3827558420628525.\n",
      "[I 2025-08-07 17:54:18,755] Trial 11 finished with value: 0.36341659951651895 and parameters: {'n_estimators': 600, 'max_depth': 16, 'num_leaves': 100, 'reg_alpha': 0.47518001344936, 'reg_lambda': 0.6173669058970307, 'min_gain_to_split': 0.04299057661348624, 'min_data_in_leaf': 70}. Best is trial 5 with value: 0.3827558420628525.\n",
      "[I 2025-08-07 17:54:38,844] Trial 12 finished with value: 0.3726833199033038 and parameters: {'n_estimators': 350, 'max_depth': 16, 'num_leaves': 140, 'reg_alpha': 0.5053997221124884, 'reg_lambda': 0.6273887583559469, 'min_gain_to_split': 0.03826314829819324, 'min_data_in_leaf': 150}. Best is trial 5 with value: 0.3827558420628525.\n",
      "[I 2025-08-07 17:54:58,797] Trial 13 finished with value: 0.3726833199033038 and parameters: {'n_estimators': 350, 'max_depth': 14, 'num_leaves': 120, 'reg_alpha': 0.8047409410593462, 'reg_lambda': 0.571254120895997, 'min_gain_to_split': 0.06384714651791468, 'min_data_in_leaf': 150}. Best is trial 5 with value: 0.3827558420628525.\n",
      "[I 2025-08-07 17:55:22,332] Trial 14 finished with value: 0.3690572119258662 and parameters: {'n_estimators': 550, 'max_depth': 10, 'num_leaves': 80, 'reg_alpha': 0.22098630627538549, 'reg_lambda': 0.6565024769617929, 'min_gain_to_split': 0.05204606911257513, 'min_data_in_leaf': 70}. Best is trial 5 with value: 0.3827558420628525.\n",
      "[I 2025-08-07 17:55:41,166] Trial 15 finished with value: 0.3690572119258662 and parameters: {'n_estimators': 400, 'max_depth': 14, 'num_leaves': 80, 'reg_alpha': 0.4240692908622548, 'reg_lambda': 0.5024334860861537, 'min_gain_to_split': 0.0735844322973637, 'min_data_in_leaf': 150}. Best is trial 5 with value: 0.3827558420628525.\n",
      "[I 2025-08-07 17:55:58,121] Trial 16 finished with value: 0.3742949234488316 and parameters: {'n_estimators': 300, 'max_depth': 16, 'num_leaves': 120, 'reg_alpha': 0.5832313883341722, 'reg_lambda': 0.668637788224145, 'min_gain_to_split': 0.041740881854157315, 'min_data_in_leaf': 70}. Best is trial 5 with value: 0.3827558420628525.\n",
      "[I 2025-08-07 17:56:23,954] Trial 17 finished with value: 0.3783239323126511 and parameters: {'n_estimators': 550, 'max_depth': 14, 'num_leaves': 100, 'reg_alpha': 0.5757540429247165, 'reg_lambda': 0.5796624280800116, 'min_gain_to_split': 0.03009016163919284, 'min_data_in_leaf': 110}. Best is trial 5 with value: 0.3827558420628525.\n",
      "[I 2025-08-07 17:56:47,998] Trial 18 finished with value: 0.3759065269943594 and parameters: {'n_estimators': 550, 'max_depth': 12, 'num_leaves': 80, 'reg_alpha': 0.7137087171584979, 'reg_lambda': 0.8618834146711821, 'min_gain_to_split': 0.048992943359803406, 'min_data_in_leaf': 150}. Best is trial 5 with value: 0.3827558420628525.\n",
      "[I 2025-08-07 17:57:13,488] Trial 19 finished with value: 0.3646253021756648 and parameters: {'n_estimators': 550, 'max_depth': 16, 'num_leaves': 100, 'reg_alpha': 0.8538256698185065, 'reg_lambda': 0.5520458575186296, 'min_gain_to_split': 0.03131561523670134, 'min_data_in_leaf': 70}. Best is trial 5 with value: 0.3827558420628525.\n",
      "[I 2025-08-07 17:57:41,865] Trial 20 finished with value: 0.36502820306204675 and parameters: {'n_estimators': 600, 'max_depth': 14, 'num_leaves': 100, 'reg_alpha': 0.6085307615064623, 'reg_lambda': 0.8507590018242579, 'min_gain_to_split': 0.057950564948514735, 'min_data_in_leaf': 110}. Best is trial 5 with value: 0.3827558420628525.\n",
      "[I 2025-08-07 17:58:03,798] Trial 21 finished with value: 0.3670427074939565 and parameters: {'n_estimators': 400, 'max_depth': 14, 'num_leaves': 140, 'reg_alpha': 0.43911785581104135, 'reg_lambda': 0.6076849137313575, 'min_gain_to_split': 0.036518607985103646, 'min_data_in_leaf': 110}. Best is trial 5 with value: 0.3827558420628525.\n",
      "[I 2025-08-07 17:58:32,049] Trial 22 finished with value: 0.3670427074939565 and parameters: {'n_estimators': 550, 'max_depth': 14, 'num_leaves': 120, 'reg_alpha': 0.552548006630358, 'reg_lambda': 0.6757497645108888, 'min_gain_to_split': 0.03945663240304356, 'min_data_in_leaf': 110}. Best is trial 5 with value: 0.3827558420628525.\n",
      "[I 2025-08-07 17:58:52,543] Trial 23 finished with value: 0.36946011281224816 and parameters: {'n_estimators': 400, 'max_depth': 14, 'num_leaves': 100, 'reg_alpha': 0.3851012799254115, 'reg_lambda': 0.5436905125418654, 'min_gain_to_split': 0.04484091315897946, 'min_data_in_leaf': 110}. Best is trial 5 with value: 0.3827558420628525.\n",
      "[I 2025-08-07 17:59:16,639] Trial 24 finished with value: 0.3751007252215955 and parameters: {'n_estimators': 500, 'max_depth': 12, 'num_leaves': 80, 'reg_alpha': 0.6626381595174605, 'reg_lambda': 0.5967025267724555, 'min_gain_to_split': 0.03003201132636222, 'min_data_in_leaf': 150}. Best is trial 5 with value: 0.3827558420628525.\n"
     ]
    }
   ],
   "source": [
    "param_grid_gb = {\n",
    "    'n_estimators': (400, 600, 50),\n",
    "    'max_depth': (10, 16, 2),\n",
    "    'num_leaves': (60, 150, 20),\n",
    "    'reg_alpha': (0.2, 2.2),\n",
    "    'reg_lambda': (0.5, 2.2),\n",
    "    'min_gain_to_split': (0.03, 0.1),\n",
    "    'min_data_in_leaf': (70, 200, 40),\n",
    "    'class_weight': 'balanced',\n",
    "    'random_state': rs,\n",
    "    'verbose': -1\n",
    "}\n",
    "\n",
    "gb_optuna = make_optuna_objective(\n",
    "    model=lgbm.LGBMClassifier,\n",
    "    param_grid=param_grid_gb,\n",
    "    X_train=X_train_resampled,\n",
    "    y_train=y_train_resampled,\n",
    "    X_val=X_val,\n",
    "    y_val=y_val\n",
    ")\n",
    "\n",
    "\n",
    "study_gb_2 = optuna.create_study(study_name='Gradient Boosting (lgbm)', direction='maximize')\n",
    "study_gb_2.optimize(gb_optuna, n_trials=25)"
   ]
  },
  {
   "cell_type": "code",
   "execution_count": 49,
   "id": "06c5ccc1",
   "metadata": {},
   "outputs": [],
   "source": [
    "gb_best_params = study_gb_2.best_params\n",
    "gb_best_params.update({'class_weight': 'balanced',\n",
    "    'random_state': rs,\n",
    "    'verbose': -1})"
   ]
  },
  {
   "cell_type": "code",
   "execution_count": null,
   "id": "6997aca1",
   "metadata": {},
   "outputs": [
    {
     "name": "stdout",
     "output_type": "stream",
     "text": [
      "Recall for Random Forest: 36.06 %\n"
     ]
    }
   ],
   "source": [
    "gb_clf = lgbm.LGBMClassifier(**gb_best_params)\n",
    "gb_clf.fit(X_train_resampled, y_train_resampled)\n",
    "\n",
    "gb_pred = gb_clf.predict_proba(X_val)\n",
    "print('Recall for Random Forest: {:.2f} %'.format(get_recall(y_val, gb_pred)*100))\n"
   ]
  },
  {
   "cell_type": "markdown",
   "id": "a4ae13e1",
   "metadata": {},
   "source": [
    "Итак, пока что градиентный бустинг показал себя лучше себя. Но это был градиентный бустинг из lgbm. Попробуем catboost от Яндекса:"
   ]
  },
  {
   "cell_type": "markdown",
   "id": "6dca94ed",
   "metadata": {},
   "source": [
    "*P.S. оказалось, что якобы линейный датасет показывает себя лучше предназначенного для деревьев. Поэтому оставили его.*"
   ]
  },
  {
   "cell_type": "markdown",
   "id": "27ff77bc",
   "metadata": {},
   "source": [
    "*P.P.S. решил попробовать отобранные с помощью SelectKBset признаки, результат упал на пару процентов.*"
   ]
  },
  {
   "cell_type": "code",
   "execution_count": null,
   "id": "ee01c225",
   "metadata": {},
   "outputs": [],
   "source": [
    "# X_train_k, X_val_k, y_train_k, y_val_k = train_test_split(data[kbest_features], data['fraud_bool'], \n",
    "#                                                   test_size=0.3,\n",
    "#                                                   stratify=data['fraud_bool'], \n",
    "#                                                   random_state=rs)"
   ]
  },
  {
   "cell_type": "code",
   "execution_count": 23,
   "id": "dbd02636",
   "metadata": {},
   "outputs": [],
   "source": [
    "# def optuna_optimize_catboost(trial):\n",
    "#     \"\"\"\n",
    "#     Функция подбора гиперпараметров для CatBoost\n",
    "#     \"\"\"\n",
    "#     params = {\n",
    "#         'iterations': trial.suggest_int('iterations', 400, 500, 100),             \n",
    "#         'depth': trial.suggest_int('depth', 4, 14, 4),                           \n",
    "#         'learning_rate': trial.suggest_float('learning_rate', 0.01, 0.15),               \n",
    "#         'l2_leaf_reg': trial.suggest_float('l2_leaf_reg', 0.5, 10),                     \n",
    "#         'random_strength': trial.suggest_float('random_strength', 0.0, 1.0),                       \n",
    "#         'border_count': trial.suggest_int('border_count', 32, 254, 50),                  \n",
    "#         'grow_policy': trial.suggest_categorical('grow_policy', ['SymmetricTree', 'Depthwise', 'Lossguide']),  \n",
    "#         'bootstrap_type': trial.suggest_categorical('bootstrap_type', ['Bayesian', 'Bernoulli', 'MVS']),          \n",
    "#         'class_weights': [1, 90],                \n",
    "#         'random_state': rs,\n",
    "#         'verbose': 0\n",
    "#     }\n",
    "    \n",
    "#     if params['bootstrap_type'] == 'Bayesian':\n",
    "#         params['bagging_temperature'] = trial.suggest_float('bagging_temperature', 0.0, 1.0)\n",
    "        \n",
    "    \n",
    "#     model = cat.CatBoostClassifier(**params)\n",
    "\n",
    "#     model.fit(\n",
    "#         X_train_k, y_train_k,\n",
    "#         eval_set=(X_val_k, y_val_k),\n",
    "#         early_stopping_rounds=50,\n",
    "#         verbose=0\n",
    "#     )\n",
    "\n",
    "#     y_pred_proba = model.predict_proba(X_val_k)\n",
    "    \n",
    "#     score = get_recall(y_val_k, y_pred_proba)\n",
    "#     return score\n",
    "\n",
    "# study_cat = optuna.create_study(study_name='CatBoost', direction=\"maximize\")\n",
    "# study_cat.optimize(optuna_optimize_catboost, n_trials=50)"
   ]
  },
  {
   "cell_type": "code",
   "execution_count": 38,
   "id": "3d91d369",
   "metadata": {},
   "outputs": [
    {
     "name": "stderr",
     "output_type": "stream",
     "text": [
      "[I 2025-08-10 15:11:56,558] A new study created in memory with name: CatBoost\n",
      "[I 2025-08-10 15:12:03,646] Trial 0 finished with value: 0.44721998388396456 and parameters: {'iterations': 500, 'depth': 8, 'learning_rate': 0.1027130600814946, 'l2_leaf_reg': 9.62838556031353, 'random_strength': 0.04336716031433763, 'border_count': 82, 'grow_policy': 'SymmetricTree', 'bootstrap_type': 'MVS'}. Best is trial 0 with value: 0.44721998388396456.\n",
      "[I 2025-08-10 15:12:22,566] Trial 1 finished with value: 0.4564867042707494 and parameters: {'iterations': 500, 'depth': 4, 'learning_rate': 0.08248735310429404, 'l2_leaf_reg': 9.782873748106118, 'random_strength': 0.933762866293711, 'border_count': 182, 'grow_policy': 'Depthwise', 'bootstrap_type': 'Bayesian', 'bagging_temperature': 0.9780925002666725}. Best is trial 1 with value: 0.4564867042707494.\n",
      "[I 2025-08-10 15:12:34,032] Trial 2 finished with value: 0.43110394842868655 and parameters: {'iterations': 400, 'depth': 8, 'learning_rate': 0.0803802391293854, 'l2_leaf_reg': 9.727496745592887, 'random_strength': 0.672801031160113, 'border_count': 132, 'grow_policy': 'Depthwise', 'bootstrap_type': 'MVS'}. Best is trial 1 with value: 0.4564867042707494.\n",
      "[I 2025-08-10 15:12:49,743] Trial 3 finished with value: 0.4129734085414988 and parameters: {'iterations': 400, 'depth': 12, 'learning_rate': 0.06818478379828201, 'l2_leaf_reg': 8.056710437199033, 'random_strength': 0.46694672551274297, 'border_count': 132, 'grow_policy': 'SymmetricTree', 'bootstrap_type': 'MVS'}. Best is trial 1 with value: 0.4564867042707494.\n",
      "[I 2025-08-10 15:12:57,013] Trial 4 finished with value: 0.44399677679290894 and parameters: {'iterations': 500, 'depth': 8, 'learning_rate': 0.07793482151719593, 'l2_leaf_reg': 1.8819496340865105, 'random_strength': 0.9634770577144128, 'border_count': 182, 'grow_policy': 'SymmetricTree', 'bootstrap_type': 'MVS'}. Best is trial 1 with value: 0.4564867042707494.\n",
      "[I 2025-08-10 15:13:20,788] Trial 5 finished with value: 0.4532634971796938 and parameters: {'iterations': 400, 'depth': 12, 'learning_rate': 0.06023905353577854, 'l2_leaf_reg': 7.864279803929281, 'random_strength': 0.32805597466945335, 'border_count': 32, 'grow_policy': 'Lossguide', 'bootstrap_type': 'Bernoulli'}. Best is trial 1 with value: 0.4564867042707494.\n",
      "[I 2025-08-10 15:13:43,824] Trial 6 finished with value: 0.45165189363416597 and parameters: {'iterations': 400, 'depth': 4, 'learning_rate': 0.08117165648599704, 'l2_leaf_reg': 0.9486746022344432, 'random_strength': 0.4208445844082156, 'border_count': 182, 'grow_policy': 'Lossguide', 'bootstrap_type': 'Bayesian', 'bagging_temperature': 0.5163018154956313}. Best is trial 1 with value: 0.4564867042707494.\n",
      "[I 2025-08-10 15:13:52,699] Trial 7 finished with value: 0.4137792103142627 and parameters: {'iterations': 400, 'depth': 8, 'learning_rate': 0.11437471065562188, 'l2_leaf_reg': 3.9744118877131926, 'random_strength': 0.2135281181934866, 'border_count': 182, 'grow_policy': 'Depthwise', 'bootstrap_type': 'MVS'}. Best is trial 1 with value: 0.4564867042707494.\n",
      "[I 2025-08-10 15:14:34,843] Trial 8 finished with value: 0.44721998388396456 and parameters: {'iterations': 400, 'depth': 8, 'learning_rate': 0.013654468293716443, 'l2_leaf_reg': 4.853414652737272, 'random_strength': 0.9421640876450981, 'border_count': 232, 'grow_policy': 'Lossguide', 'bootstrap_type': 'MVS'}. Best is trial 1 with value: 0.4564867042707494.\n",
      "[I 2025-08-10 15:14:56,854] Trial 9 finished with value: 0.45165189363416597 and parameters: {'iterations': 500, 'depth': 8, 'learning_rate': 0.05012634529947006, 'l2_leaf_reg': 1.5699747160932553, 'random_strength': 0.24378979584483662, 'border_count': 82, 'grow_policy': 'Lossguide', 'bootstrap_type': 'MVS'}. Best is trial 1 with value: 0.4564867042707494.\n",
      "[I 2025-08-10 15:15:10,509] Trial 10 finished with value: 0.4528605962933118 and parameters: {'iterations': 500, 'depth': 4, 'learning_rate': 0.14857463959148293, 'l2_leaf_reg': 6.4200480563849744, 'random_strength': 0.7305545959371358, 'border_count': 232, 'grow_policy': 'Depthwise', 'bootstrap_type': 'Bayesian', 'bagging_temperature': 0.9973179357464322}. Best is trial 1 with value: 0.4564867042707494.\n",
      "[I 2025-08-10 15:15:46,309] Trial 11 finished with value: 0.4161966156325544 and parameters: {'iterations': 500, 'depth': 12, 'learning_rate': 0.03792709505492083, 'l2_leaf_reg': 7.830258633105493, 'random_strength': 0.7070822255826545, 'border_count': 32, 'grow_policy': 'Depthwise', 'bootstrap_type': 'Bernoulli'}. Best is trial 1 with value: 0.4564867042707494.\n",
      "[I 2025-08-10 15:16:00,810] Trial 12 finished with value: 0.4528605962933118 and parameters: {'iterations': 500, 'depth': 12, 'learning_rate': 0.10675159609524111, 'l2_leaf_reg': 7.908376712372576, 'random_strength': 0.285125983096142, 'border_count': 32, 'grow_policy': 'Lossguide', 'bootstrap_type': 'Bernoulli'}. Best is trial 1 with value: 0.4564867042707494.\n",
      "[I 2025-08-10 15:16:29,942] Trial 13 finished with value: 0.45930701047542305 and parameters: {'iterations': 400, 'depth': 4, 'learning_rate': 0.04428137073406443, 'l2_leaf_reg': 6.472538930319018, 'random_strength': 0.5769001964237737, 'border_count': 82, 'grow_policy': 'Lossguide', 'bootstrap_type': 'Bernoulli'}. Best is trial 13 with value: 0.45930701047542305.\n",
      "[I 2025-08-10 15:16:55,676] Trial 14 finished with value: 0.45688960515713134 and parameters: {'iterations': 400, 'depth': 4, 'learning_rate': 0.028329190028825058, 'l2_leaf_reg': 6.192168422382096, 'random_strength': 0.8184890267940448, 'border_count': 82, 'grow_policy': 'Depthwise', 'bootstrap_type': 'Bayesian', 'bagging_temperature': 0.9258307672982968}. Best is trial 13 with value: 0.45930701047542305.\n",
      "[I 2025-08-10 15:17:24,509] Trial 15 finished with value: 0.4476228847703465 and parameters: {'iterations': 400, 'depth': 4, 'learning_rate': 0.018684641069908713, 'l2_leaf_reg': 5.800691537753625, 'random_strength': 0.5979745959082426, 'border_count': 82, 'grow_policy': 'Lossguide', 'bootstrap_type': 'Bernoulli'}. Best is trial 13 with value: 0.45930701047542305.\n",
      "[I 2025-08-10 15:17:50,068] Trial 16 finished with value: 0.45447219983883963 and parameters: {'iterations': 400, 'depth': 4, 'learning_rate': 0.03183459850271504, 'l2_leaf_reg': 3.151384560255865, 'random_strength': 0.8063212619341396, 'border_count': 82, 'grow_policy': 'Depthwise', 'bootstrap_type': 'Bayesian', 'bagging_temperature': 0.05786822911725131}. Best is trial 13 with value: 0.45930701047542305.\n",
      "[I 2025-08-10 15:18:13,064] Trial 17 finished with value: 0.4564867042707494 and parameters: {'iterations': 400, 'depth': 4, 'learning_rate': 0.04228519344632988, 'l2_leaf_reg': 6.847349111047594, 'random_strength': 0.5910467202044802, 'border_count': 132, 'grow_policy': 'Depthwise', 'bootstrap_type': 'Bernoulli'}. Best is trial 13 with value: 0.45930701047542305.\n",
      "[I 2025-08-10 15:18:47,006] Trial 18 finished with value: 0.4536663980660757 and parameters: {'iterations': 400, 'depth': 4, 'learning_rate': 0.024232077201047544, 'l2_leaf_reg': 4.693187297597291, 'random_strength': 0.8201908753739247, 'border_count': 82, 'grow_policy': 'Lossguide', 'bootstrap_type': 'Bayesian', 'bagging_temperature': 0.6056318455044765}. Best is trial 13 with value: 0.45930701047542305.\n",
      "[I 2025-08-10 15:19:02,431] Trial 19 finished with value: 0.4621273166800967 and parameters: {'iterations': 400, 'depth': 4, 'learning_rate': 0.053411886624551534, 'l2_leaf_reg': 6.4385317946008565, 'random_strength': 0.5846651076180475, 'border_count': 132, 'grow_policy': 'SymmetricTree', 'bootstrap_type': 'Bernoulli'}. Best is trial 19 with value: 0.4621273166800967.\n",
      "[I 2025-08-10 15:19:17,664] Trial 20 finished with value: 0.4629331184528606 and parameters: {'iterations': 400, 'depth': 4, 'learning_rate': 0.05195074195408058, 'l2_leaf_reg': 3.7461595766826457, 'random_strength': 0.566558994292104, 'border_count': 132, 'grow_policy': 'SymmetricTree', 'bootstrap_type': 'Bernoulli'}. Best is trial 20 with value: 0.4629331184528606.\n",
      "[I 2025-08-10 15:19:33,033] Trial 21 finished with value: 0.45850120870265915 and parameters: {'iterations': 400, 'depth': 4, 'learning_rate': 0.05961280612043781, 'l2_leaf_reg': 2.9634911343059795, 'random_strength': 0.5163917401237945, 'border_count': 132, 'grow_policy': 'SymmetricTree', 'bootstrap_type': 'Bernoulli'}. Best is trial 20 with value: 0.4629331184528606.\n",
      "[I 2025-08-10 15:19:48,797] Trial 22 finished with value: 0.4556809024979855 and parameters: {'iterations': 400, 'depth': 4, 'learning_rate': 0.049455892525551895, 'l2_leaf_reg': 3.814441992651967, 'random_strength': 0.5623117270645273, 'border_count': 132, 'grow_policy': 'SymmetricTree', 'bootstrap_type': 'Bernoulli'}. Best is trial 20 with value: 0.4629331184528606.\n",
      "[I 2025-08-10 15:20:04,042] Trial 23 finished with value: 0.4572925060435133 and parameters: {'iterations': 400, 'depth': 4, 'learning_rate': 0.0518840468054975, 'l2_leaf_reg': 5.314599154349668, 'random_strength': 0.39417191465085344, 'border_count': 132, 'grow_policy': 'SymmetricTree', 'bootstrap_type': 'Bernoulli'}. Best is trial 20 with value: 0.4629331184528606.\n",
      "[I 2025-08-10 15:20:19,453] Trial 24 finished with value: 0.4580983078162772 and parameters: {'iterations': 400, 'depth': 4, 'learning_rate': 0.06931220854183008, 'l2_leaf_reg': 4.072713218520664, 'random_strength': 0.6515699571291119, 'border_count': 132, 'grow_policy': 'SymmetricTree', 'bootstrap_type': 'Bernoulli'}. Best is trial 20 with value: 0.4629331184528606.\n",
      "[I 2025-08-10 15:20:31,997] Trial 25 finished with value: 0.4460112812248187 and parameters: {'iterations': 400, 'depth': 8, 'learning_rate': 0.03988435425307847, 'l2_leaf_reg': 6.758565830708326, 'random_strength': 0.4920057306843504, 'border_count': 182, 'grow_policy': 'SymmetricTree', 'bootstrap_type': 'Bernoulli'}. Best is trial 20 with value: 0.4629331184528606.\n",
      "[I 2025-08-10 15:20:47,497] Trial 26 finished with value: 0.4564867042707494 and parameters: {'iterations': 400, 'depth': 4, 'learning_rate': 0.0624548169299291, 'l2_leaf_reg': 5.464117005285608, 'random_strength': 0.39547882076360186, 'border_count': 82, 'grow_policy': 'SymmetricTree', 'bootstrap_type': 'Bernoulli'}. Best is trial 20 with value: 0.4629331184528606.\n",
      "[I 2025-08-10 15:21:02,522] Trial 27 finished with value: 0.4540692989524577 and parameters: {'iterations': 400, 'depth': 4, 'learning_rate': 0.09456180391868096, 'l2_leaf_reg': 2.6827101532547486, 'random_strength': 0.7376911699040883, 'border_count': 32, 'grow_policy': 'SymmetricTree', 'bootstrap_type': 'Bernoulli'}. Best is trial 20 with value: 0.4629331184528606.\n",
      "[I 2025-08-10 15:21:12,933] Trial 28 finished with value: 0.4500402900886382 and parameters: {'iterations': 400, 'depth': 8, 'learning_rate': 0.05246336371839164, 'l2_leaf_reg': 7.1374866476163685, 'random_strength': 0.5464357045854313, 'border_count': 82, 'grow_policy': 'SymmetricTree', 'bootstrap_type': 'Bernoulli'}. Best is trial 20 with value: 0.4629331184528606.\n",
      "[I 2025-08-10 15:21:22,426] Trial 29 finished with value: 0.4621273166800967 and parameters: {'iterations': 400, 'depth': 4, 'learning_rate': 0.1296155232520027, 'l2_leaf_reg': 8.683499085149638, 'random_strength': 0.1890474649509119, 'border_count': 132, 'grow_policy': 'SymmetricTree', 'bootstrap_type': 'Bernoulli'}. Best is trial 20 with value: 0.4629331184528606.\n",
      "[I 2025-08-10 15:21:28,642] Trial 30 finished with value: 0.4391619661563255 and parameters: {'iterations': 400, 'depth': 8, 'learning_rate': 0.13796681386494605, 'l2_leaf_reg': 9.135755651633758, 'random_strength': 0.03409592668196576, 'border_count': 182, 'grow_policy': 'SymmetricTree', 'bootstrap_type': 'Bernoulli'}. Best is trial 20 with value: 0.4629331184528606.\n",
      "[I 2025-08-10 15:21:40,499] Trial 31 finished with value: 0.4540692989524577 and parameters: {'iterations': 400, 'depth': 4, 'learning_rate': 0.1265603745787167, 'l2_leaf_reg': 8.738853218963252, 'random_strength': 0.1361169822370509, 'border_count': 132, 'grow_policy': 'SymmetricTree', 'bootstrap_type': 'Bernoulli'}. Best is trial 20 with value: 0.4629331184528606.\n",
      "[I 2025-08-10 15:21:54,286] Trial 32 finished with value: 0.45930701047542305 and parameters: {'iterations': 400, 'depth': 4, 'learning_rate': 0.0950816715561343, 'l2_leaf_reg': 8.754519655420626, 'random_strength': 0.11494122783460536, 'border_count': 132, 'grow_policy': 'SymmetricTree', 'bootstrap_type': 'Bernoulli'}. Best is trial 20 with value: 0.4629331184528606.\n",
      "[I 2025-08-10 15:22:09,486] Trial 33 finished with value: 0.4580983078162772 and parameters: {'iterations': 400, 'depth': 4, 'learning_rate': 0.07177611527093894, 'l2_leaf_reg': 4.601232604865342, 'random_strength': 0.6207018368024741, 'border_count': 182, 'grow_policy': 'SymmetricTree', 'bootstrap_type': 'Bernoulli'}. Best is trial 20 with value: 0.4629331184528606.\n",
      "[I 2025-08-10 15:22:22,041] Trial 34 finished with value: 0.45608380338436744 and parameters: {'iterations': 400, 'depth': 4, 'learning_rate': 0.1246862297148964, 'l2_leaf_reg': 7.347301868591301, 'random_strength': 0.47383941540515395, 'border_count': 132, 'grow_policy': 'SymmetricTree', 'bootstrap_type': 'Bernoulli'}. Best is trial 20 with value: 0.4629331184528606.\n",
      "[I 2025-08-10 15:22:44,808] Trial 35 finished with value: 0.4589041095890411 and parameters: {'iterations': 400, 'depth': 4, 'learning_rate': 0.0882786337385127, 'l2_leaf_reg': 5.989505470976114, 'random_strength': 0.665257580819417, 'border_count': 132, 'grow_policy': 'Lossguide', 'bootstrap_type': 'Bernoulli'}. Best is trial 20 with value: 0.4629331184528606.\n",
      "[I 2025-08-10 15:23:00,032] Trial 36 finished with value: 0.4548751007252216 and parameters: {'iterations': 400, 'depth': 4, 'learning_rate': 0.034778940445994194, 'l2_leaf_reg': 9.949249022631722, 'random_strength': 0.456040206532237, 'border_count': 82, 'grow_policy': 'SymmetricTree', 'bootstrap_type': 'Bernoulli'}. Best is trial 20 with value: 0.4629331184528606.\n",
      "[I 2025-08-10 15:23:19,067] Trial 37 finished with value: 0.46333601933924257 and parameters: {'iterations': 500, 'depth': 4, 'learning_rate': 0.04466280830372498, 'l2_leaf_reg': 8.449344843605207, 'random_strength': 0.5383707864656376, 'border_count': 132, 'grow_policy': 'SymmetricTree', 'bootstrap_type': 'Bernoulli'}. Best is trial 37 with value: 0.46333601933924257.\n",
      "[I 2025-08-10 15:23:29,008] Trial 38 finished with value: 0.4476228847703465 and parameters: {'iterations': 500, 'depth': 8, 'learning_rate': 0.05884822275628874, 'l2_leaf_reg': 9.213669852201946, 'random_strength': 0.33170416561967725, 'border_count': 182, 'grow_policy': 'SymmetricTree', 'bootstrap_type': 'MVS'}. Best is trial 37 with value: 0.46333601933924257.\n",
      "[I 2025-08-10 15:23:46,408] Trial 39 finished with value: 0.45527800161160353 and parameters: {'iterations': 500, 'depth': 4, 'learning_rate': 0.0737176412277371, 'l2_leaf_reg': 8.302259055290476, 'random_strength': 0.3605755975923356, 'border_count': 132, 'grow_policy': 'SymmetricTree', 'bootstrap_type': 'Bernoulli'}. Best is trial 37 with value: 0.46333601933924257.\n",
      "[I 2025-08-10 15:24:05,525] Trial 40 finished with value: 0.4548751007252216 and parameters: {'iterations': 500, 'depth': 8, 'learning_rate': 0.02164255345647808, 'l2_leaf_reg': 8.436916635890276, 'random_strength': 0.10211365617886084, 'border_count': 132, 'grow_policy': 'SymmetricTree', 'bootstrap_type': 'MVS'}. Best is trial 37 with value: 0.46333601933924257.\n",
      "[I 2025-08-10 15:24:41,008] Trial 41 finished with value: 0.4528605962933118 and parameters: {'iterations': 500, 'depth': 4, 'learning_rate': 0.04647328081422904, 'l2_leaf_reg': 7.474389309741243, 'random_strength': 0.5130650855206556, 'border_count': 132, 'grow_policy': 'Lossguide', 'bootstrap_type': 'Bernoulli'}. Best is trial 37 with value: 0.46333601933924257.\n",
      "[I 2025-08-10 15:24:56,652] Trial 42 finished with value: 0.4572925060435133 and parameters: {'iterations': 400, 'depth': 4, 'learning_rate': 0.06315799882483378, 'l2_leaf_reg': 9.221498430747442, 'random_strength': 0.5547383273762604, 'border_count': 182, 'grow_policy': 'SymmetricTree', 'bootstrap_type': 'Bernoulli'}. Best is trial 37 with value: 0.46333601933924257.\n",
      "[I 2025-08-10 15:25:32,430] Trial 43 finished with value: 0.45688960515713134 and parameters: {'iterations': 500, 'depth': 4, 'learning_rate': 0.04448248495483201, 'l2_leaf_reg': 6.806419013459357, 'random_strength': 0.4357152129319588, 'border_count': 132, 'grow_policy': 'Lossguide', 'bootstrap_type': 'Bernoulli'}. Best is trial 37 with value: 0.46333601933924257.\n",
      "[I 2025-08-10 15:25:47,530] Trial 44 finished with value: 0.45527800161160353 and parameters: {'iterations': 400, 'depth': 4, 'learning_rate': 0.055429782259863884, 'l2_leaf_reg': 6.394896473446031, 'random_strength': 0.6146004196858288, 'border_count': 82, 'grow_policy': 'SymmetricTree', 'bootstrap_type': 'Bernoulli'}. Best is trial 37 with value: 0.46333601933924257.\n",
      "[I 2025-08-10 15:26:06,471] Trial 45 finished with value: 0.44157937147461723 and parameters: {'iterations': 500, 'depth': 4, 'learning_rate': 0.013538722882838538, 'l2_leaf_reg': 7.6261469344168455, 'random_strength': 0.764802969024938, 'border_count': 232, 'grow_policy': 'SymmetricTree', 'bootstrap_type': 'Bernoulli'}. Best is trial 37 with value: 0.46333601933924257.\n",
      "[I 2025-08-10 15:26:26,185] Trial 46 finished with value: 0.45688960515713134 and parameters: {'iterations': 400, 'depth': 4, 'learning_rate': 0.08427254314648114, 'l2_leaf_reg': 0.5296537222015125, 'random_strength': 0.6710926287351299, 'border_count': 32, 'grow_policy': 'Lossguide', 'bootstrap_type': 'Bayesian', 'bagging_temperature': 0.04727078797432882}. Best is trial 37 with value: 0.46333601933924257.\n",
      "[I 2025-08-10 15:26:48,607] Trial 47 finished with value: 0.4238517324738114 and parameters: {'iterations': 400, 'depth': 12, 'learning_rate': 0.030757160990136194, 'l2_leaf_reg': 5.694144117394154, 'random_strength': 0.9074754578700186, 'border_count': 182, 'grow_policy': 'SymmetricTree', 'bootstrap_type': 'Bernoulli'}. Best is trial 37 with value: 0.46333601933924257.\n",
      "[I 2025-08-10 15:27:10,307] Trial 48 finished with value: 0.4589041095890411 and parameters: {'iterations': 500, 'depth': 4, 'learning_rate': 0.07728854692820186, 'l2_leaf_reg': 9.584081745848735, 'random_strength': 0.7054988241757708, 'border_count': 82, 'grow_policy': 'Lossguide', 'bootstrap_type': 'MVS'}. Best is trial 37 with value: 0.46333601933924257.\n",
      "[I 2025-08-10 15:27:23,022] Trial 49 finished with value: 0.4391619661563255 and parameters: {'iterations': 400, 'depth': 8, 'learning_rate': 0.06611890639100385, 'l2_leaf_reg': 4.9978064432242295, 'random_strength': 0.18402756926468034, 'border_count': 132, 'grow_policy': 'Depthwise', 'bootstrap_type': 'Bernoulli'}. Best is trial 37 with value: 0.46333601933924257.\n"
     ]
    }
   ],
   "source": [
    "def optuna_optimize_catboost(trial):\n",
    "    \"\"\"\n",
    "    Функция подбора гиперпараметров для CatBoost\n",
    "    \"\"\"\n",
    "    params = {\n",
    "        'iterations': trial.suggest_int('iterations', 400, 500, 100),             \n",
    "        'depth': trial.suggest_int('depth', 4, 14, 4),                           \n",
    "        'learning_rate': trial.suggest_float('learning_rate', 0.01, 0.15),               \n",
    "        'l2_leaf_reg': trial.suggest_float('l2_leaf_reg', 0.5, 10),                     \n",
    "        'random_strength': trial.suggest_float('random_strength', 0.0, 1.0),                       \n",
    "        'border_count': trial.suggest_int('border_count', 32, 254, 50),                  \n",
    "        'grow_policy': trial.suggest_categorical('grow_policy', ['SymmetricTree', 'Depthwise', 'Lossguide']),  \n",
    "        'bootstrap_type': trial.suggest_categorical('bootstrap_type', ['Bayesian', 'Bernoulli', 'MVS']),          \n",
    "        'class_weights': [1, 90],                \n",
    "        'random_state': rs,\n",
    "        'verbose': 0\n",
    "    }\n",
    "    \n",
    "    if params['bootstrap_type'] == 'Bayesian':\n",
    "        params['bagging_temperature'] = trial.suggest_float('bagging_temperature', 0.0, 1.0)\n",
    "        \n",
    "    \n",
    "    model = cat.CatBoostClassifier(**params)\n",
    "\n",
    "    model.fit(\n",
    "        X_train_lin, y_train_lin,\n",
    "        eval_set=(X_val_lin, y_val_lin),\n",
    "        early_stopping_rounds=50,\n",
    "        verbose=0\n",
    "    )\n",
    "\n",
    "    y_pred_proba = model.predict_proba(X_val_lin)\n",
    "    \n",
    "    score = get_recall(y_val_lin, y_pred_proba)\n",
    "    return score\n",
    "\n",
    "study_cat = optuna.create_study(study_name='CatBoost', direction=\"maximize\")\n",
    "study_cat.optimize(optuna_optimize_catboost, n_trials=50)"
   ]
  },
  {
   "cell_type": "markdown",
   "id": "6696cb50",
   "metadata": {},
   "source": [
    "Ну и абсолютный победитель - CatBoost, показывающий показатель 45-46%. Причем примечательно, что модель показывает результат лучше на \"линейных\" отобранных признаках."
   ]
  },
  {
   "cell_type": "code",
   "execution_count": 39,
   "id": "cb865b17",
   "metadata": {},
   "outputs": [
    {
     "data": {
      "text/plain": [
       "<catboost.core.CatBoostClassifier at 0x14b84a18d10>"
      ]
     },
     "execution_count": 39,
     "metadata": {},
     "output_type": "execute_result"
    }
   ],
   "source": [
    "best_params = study_cat.best_params\n",
    "best_params.update({'class_weights': [1, 9], 'random_state': rs, 'verbose': 0})\n",
    "\n",
    "cat_clf = cat.CatBoostClassifier(**best_params)\n",
    "cat_clf.fit(\n",
    "    X_train_lin, y_train_lin,\n",
    "    eval_set=(X_val_lin, y_val_lin),\n",
    "    early_stopping_rounds=50,\n",
    "    verbose=0\n",
    ")"
   ]
  },
  {
   "cell_type": "code",
   "execution_count": null,
   "id": "36a7c5d2",
   "metadata": {},
   "outputs": [],
   "source": [
    "save_model(cat_clf, 'cat_boost')"
   ]
  },
  {
   "cell_type": "markdown",
   "id": "e6997a50",
   "metadata": {},
   "source": [
    "Осталось проверить нейронные сети. Для этого перешел в другой jupyter notebook для подключения к wsl и работы с tensorflow.keras. "
   ]
  },
  {
   "cell_type": "markdown",
   "id": "7ad1c431",
   "metadata": {},
   "source": [
    "---"
   ]
  },
  {
   "cell_type": "markdown",
   "id": "7b7cea04",
   "metadata": {},
   "source": [
    "---"
   ]
  },
  {
   "cell_type": "markdown",
   "id": "ac4009bb",
   "metadata": {},
   "source": [
    "# 7. Итоги и Выбор модели"
   ]
  },
  {
   "cell_type": "markdown",
   "id": "e9a0a240",
   "metadata": {},
   "source": [
    "### Завершен этап исследований и экспериментов. \n",
    "\n",
    "* Проведен полный, тщательный, разносторонний анализ данных\n",
    "* Выявлены закономерности между признаками и целевой переменной\n",
    "* Спроектированы и отобраны разными способами и методами фичи\n",
    "* Протестированы модели на разных данных, с различными гиперпараметрами, подбор осуществлялся в том числе современными методами, типо Optuna. Среди моделей весь спектр, применимый к данному кейсу - от простешей логистической регресии до нейронных сетей.\n",
    "* Использовалась методология Agile - с переходами в том числе на предыдущие этапы для корректировки полученных ранее результатов.\n",
    "\n",
    "В общем, если коротко - **колоссальная работа**. \n",
    "<br>Лучший результат по метрику \"recall при 5% fpr\" на валидации - 46%.\n",
    "<br>Модель - CatBoost (Градиентный бустинг).\n",
    "<br><br>Вроде бы не очень высокий результат, но интерпретируется он так: если мы допускаем ошибку всего 5% для немошеннических транзакций, то мошеннические транзакции правильно угадываются с вероятностью 46%. Учитывая относительно небольшой размер данных, это достаточный показатель. Конечно, нужно еще провести замер на тесте, но сперва нужно построить пайплайн. <br><br>\n",
    "### Какие преимущества у этого проекта:\n",
    "1. Проведение полного цикла разработки: от аналитики данных до построения моделей и подбора гиперпараметров; использование современной технологии Agile - а значит, более продуманный и \"крепкий\" результат\n",
    "2. Работа с данными: от восстановления данных с помощью модели, проведения статистических тестов до фича-инжиниринга с продуманным отбором признаков\n",
    "3. Перебор множества разных моделей задачи классификации, использование нейронных сетей и т.д.\n",
    "4. Использование продвинутых технологий машинного обучения: lgbm, catboost, keras\n",
    "5. Четкая стуктура проекта: легко ориентироваться в папках, работа выполнена в jupyter notebook для комментариев, пояснений и выводов, какие-то общие функции вынесены в utils.support.py. <br><br>\n",
    "### Какие сложности возникли:\n",
    "1. Специфичность данных - а именно, что одни признаки были анонимные, другие - уже масштабированные/измененные так же в  связи с конфиденциальностью данных. Наверное, это было самое сложное в этой работе. Например, пришлось перебирать комбинации признаков типа \"статус резидента\" или \"тип карты\", поскольку нельзя было логически выдвинуть каких-либо кандидатов. По итогу, они показывали наибольшую информативность.\n",
    "2. Большое количество признаков. Да, 32 признака звучит не так серьезно, особенно для нейронки, но учитывая подход к этой задаче - а именно решение с помощью классического ML - пришлось изучать все признаки по одному, где-то преобразовывать Боксом-Коксом, где-то квантильным преобразованием, где-то находить связи и т.д. Можно увидеть по размеру main.ipynb, что фича инжиниринг занял где-то 60% времени проекта.\n",
    "3. Выбор признаков. Довольно трудно было решиться, какие признаки выбирать: разные методы показывали разные результаты. Подробно о способах, их плюсах и минусах написано в разделе 3 \"Отбор признаков\". И вот, казалось бы, математически, например, для деревьев больше подходили признаки с наибольшим значение mutual_info или SHAP алгоритма, но нет - подошли лидеры по линейным характеристикам, таким, как pointbiserial (хотя каждом топе где-то 10-14 признаков оставились теми же.). Но в любом случае, SelectKBest справился хуже, чем я вручную.\n",
    "4. Дисбаланс данных. Я читал кучу статей на эту тему, но, как говорится, одно дело теория, а другое - практика. В моих данных был всего 1% мошеннических атак, тренировочная выборка всего на 750.000 семплов, поэтому нужно было или учитывать веса классов, или применять оверсемплинг. Пробовал и SMOTE, и SVMSMOTE (SMOTE на основе методов опорных векторов), и ADASYN - надеялся больше всего на последний вариант, т.к. на распределениях увидел, что в разрезе фрод и нефрод несильно отличаются - с разными параметрами количества ближайших соседей, но результат один - ухудшение метрики по сравнению даже с обычным train. Поэтому пришлось просто применять веса к классам, но опять же - недостаточно данных на фрод, от этого и \n",
    "5. GridSearch - не работал. Хотел делать сразу подбор гиперпараметров к моделям, хотя бы небольшой, вдруг где-то бы прирост был +10%. Но на cv были нулевые показатели метрики, поэтому grid_search проcто возвращал последнюю модель. Насколько я понял, на cv был слишком низкий recall для fpr=5%, а также оверсемплинг добавлял слишком много бесполезного шума. Итого пришлось вручную подбирать параметры, на что ушло время.\n",
    "<br><br>\n",
    "### Что и как можно улучшить:\n",
    "1. Низкий показатель - конечно, эталлоного нет, но хотелось бы, чтобы он был повыше. Причины этого - выше.\n",
    "2. Возможно, неинформативность отобранных признаков. Т.е. нужно вернуться к фича-инжинирингу - посмотреть на другие комбинации данных. К сожалению, здесь не получится, например, добавить еще данных из источников из-за анонимности и масштабированности, но попробовать посмотреть на разные отношения или комбинации признаков еще можно.\n",
    "\n"
   ]
  },
  {
   "cell_type": "code",
   "execution_count": 128,
   "id": "acb05bea",
   "metadata": {},
   "outputs": [
    {
     "data": {
      "text/plain": [
       "(525000, 32)"
      ]
     },
     "execution_count": 128,
     "metadata": {},
     "output_type": "execute_result"
    }
   ],
   "source": [
    "X_train_lin.shape"
   ]
  },
  {
   "cell_type": "markdown",
   "id": "40f400b1",
   "metadata": {},
   "source": [
    "Наконец - создаем пайплайн и проверяем на тестовых данных."
   ]
  },
  {
   "cell_type": "markdown",
   "id": "b1f75df0",
   "metadata": {},
   "source": [
    "# 8. Подготовка сервиса: pipeline"
   ]
  },
  {
   "cell_type": "code",
   "execution_count": null,
   "id": "c9ec89b9",
   "metadata": {},
   "outputs": [],
   "source": [
    "# загружаем данные\n",
    "lin_features = open_list('logs/top_linear_features.txt')\n",
    "\n",
    "data = pd.read_csv('data/bank_data.csv', sep=',')\n",
    "data_test = open_data('data/bank_test.csv')\n",
    "\n",
    "best_model = open_model('logs/cat_boost.pkl')\n",
    "best_params = best_model.get_params()"
   ]
  },
  {
   "cell_type": "code",
   "execution_count": 146,
   "id": "a2c55e68",
   "metadata": {},
   "outputs": [
    {
     "data": {
      "text/plain": [
       "Index([945302, 311914, 123776, 652637,  26345, 849175,  62615, 442473, 999736,\n",
       "       636245,\n",
       "       ...\n",
       "       377454, 617114,  63189, 249570, 671176, 426148, 463462, 994980, 492257,\n",
       "       987433],\n",
       "      dtype='int64', length=225000)"
      ]
     },
     "execution_count": 146,
     "metadata": {},
     "output_type": "execute_result"
    }
   ],
   "source": [
    "X_val_lin.index"
   ]
  },
  {
   "cell_type": "code",
   "execution_count": null,
   "id": "96a5d7e8",
   "metadata": {},
   "outputs": [],
   "source": [
    "train_inds = data.index.difference(data_test.index)\n",
    "data_train = data.loc[train_inds]\n",
    "data_test = data.loc[data_test.index]"
   ]
  },
  {
   "cell_type": "code",
   "execution_count": 148,
   "id": "7485cca1",
   "metadata": {},
   "outputs": [],
   "source": [
    "# data_train = data.iloc[[ind for ind in data.index if ind not in data_test.index and ind not in X_val.index]]\n",
    "# data_test = data.iloc[[ind for ind in data.index if ind in data_test.index]]"
   ]
  },
  {
   "cell_type": "code",
   "execution_count": 149,
   "id": "30ca90c1",
   "metadata": {},
   "outputs": [
    {
     "data": {
      "text/plain": [
       "(250000, 32)"
      ]
     },
     "execution_count": 149,
     "metadata": {},
     "output_type": "execute_result"
    }
   ],
   "source": [
    "data_test.shape"
   ]
  },
  {
   "cell_type": "code",
   "execution_count": 150,
   "id": "30687a77",
   "metadata": {},
   "outputs": [
    {
     "data": {
      "text/plain": [
       "{'iterations': 500,\n",
       " 'learning_rate': 0.1128707786736137,\n",
       " 'depth': 4,\n",
       " 'l2_leaf_reg': 3.4780256980614572,\n",
       " 'border_count': 82,\n",
       " 'verbose': 0,\n",
       " 'class_weights': [1, 9],\n",
       " 'random_strength': 0.6177624200217992,\n",
       " 'bagging_temperature': 0.9754464027374743,\n",
       " 'bootstrap_type': 'Bayesian',\n",
       " 'random_state': 42,\n",
       " 'grow_policy': 'Lossguide'}"
      ]
     },
     "execution_count": 150,
     "metadata": {},
     "output_type": "execute_result"
    }
   ],
   "source": [
    "best_params"
   ]
  },
  {
   "cell_type": "code",
   "execution_count": 151,
   "id": "177eda3d",
   "metadata": {},
   "outputs": [],
   "source": [
    "X_test, y_test = data_test.drop('fraud_bool', axis=1), data_test['fraud_bool']\n",
    "X_train, y_train = data_train.drop('fraud_bool', axis=1), data_train['fraud_bool']"
   ]
  },
  {
   "cell_type": "code",
   "execution_count": 152,
   "id": "20310c8b",
   "metadata": {},
   "outputs": [],
   "source": [
    "from sklearn.base import BaseEstimator, TransformerMixin\n",
    "\n",
    "class MissingValuesPreprocessor(BaseEstimator, TransformerMixin):\n",
    "    def __init__(self):\n",
    "        self.medians_ = {}\n",
    "\n",
    "    def fit(self, X, y=None):\n",
    "        df = X.copy()\n",
    "        self.medians_['current_address_months_count'] = df.loc[df['current_address_months_count'] != -1, \n",
    "                                                               'current_address_months_count'].median()\n",
    "        self.medians_['session_length_in_minutes'] = df.loc[df['session_length_in_minutes'] != -1, \n",
    "                                                            'session_length_in_minutes'].median()\n",
    "\n",
    "        return self\n",
    "\n",
    "    def transform(self, X):\n",
    "        df = X.copy()\n",
    "        df['source'] = (df['source'] == 'INTERNET').astype(int)\n",
    "        df.drop('prev_address_months_count', axis=1, inplace=True)\n",
    "\n",
    "        df['current_address_months_count'].replace(-1, self.medians_['current_address_months_count'], inplace=True)\n",
    "        df['session_length_in_minutes'].replace(-1, self.medians_['session_length_in_minutes'], inplace=True)\n",
    "        df['device_distinct_emails_8w'].replace(-1, 1, inplace=True)\n",
    "\n",
    "        return df\n",
    "    \n",
    "    \n",
    "    \n",
    "    \n",
    "class BankMonthsInputer(BaseEstimator, TransformerMixin):\n",
    "    def __init__(self):\n",
    "        self.model = ensemble.RandomForestRegressor(n_estimators=40, \n",
    "                                                        criterion='friedman_mse', \n",
    "                                                        max_depth=8,\n",
    "                                                        min_samples_split=25000\n",
    "                                                        )\n",
    "        self.drop_list = None\n",
    "        \n",
    "    def fit(self, X, y=None):\n",
    "        train_df = X.copy()\n",
    "        cat_list = [x for x in train_df.columns if train_df[x].dtype == 'object']\n",
    "        train_df = train_df[train_df['bank_months_count'] != -1]\n",
    "        self.drop_list = ['bank_months_count', 'device_fraud_count'] + cat_list\n",
    "        \n",
    "        X_train, y_train = train_df.drop(self.drop_list, axis=1), train_df['bank_months_count']\n",
    "        self.model.fit(X_train, y_train)\n",
    "        return self\n",
    "    \n",
    "    def transform(self, X):\n",
    "        df = X.copy()\n",
    "        X_test = df[df['bank_months_count'] == -1]\n",
    "        \n",
    "        if self.drop_list is None:\n",
    "            raise ValueError('Must use fit on train data first!')\n",
    "        \n",
    "        if not X_test.empty:\n",
    "            X_test.drop(self.drop_list, axis=1, inplace=True)\n",
    "            pred = self.model.predict(X_test)\n",
    "            df.loc[df['bank_months_count'] == -1, 'bank_months_count'] = pred\n",
    "        \n",
    "        return df\n",
    "\n",
    "\n",
    "\n",
    "\n",
    "class FeatureEngineering(BaseEstimator, TransformerMixin):\n",
    "    def __init__(self, features_list):\n",
    "        self.features_list = features_list\n",
    "        self.income_map = {}\n",
    "        self.quantile_similarity = None\n",
    "        self.quantile_bank_months = None\n",
    "        self.power_transformer = None\n",
    "        self.pca_velocity = None\n",
    "        # список признаков, связанных со скоростями, которые нужно разложить на главные компоненты\n",
    "        self.vel_features = [\n",
    "            'velocity_6h', 'velocity_24h', 'velocity_4w',\n",
    "            'velocity_day_change', 'velocity_term_month_change',\n",
    "            'velocity_day_ratio', 'velocity_term_month_ratio'\n",
    "        ]\n",
    "        self.bank_branch_bins = None\n",
    "\n",
    "    # функция, кодирующие порядковый признак по возрастанию процента мошеннических атак\n",
    "    def _get_fraud_ranking(self, X, y, feature):\n",
    "        df = X.copy()\n",
    "        \n",
    "        df['fraud_bool'] = y\n",
    "        fraud_percentage_month = df.groupby(feature)['fraud_bool'].mean()\n",
    "        # сортируем и ранжируем по процентам фрод по месяцам\n",
    "        fraud_percentage_month = fraud_percentage_month.sort_values().rank()\n",
    "        # заполняем пропуски\n",
    "        fraud_percentage_month = fraud_percentage_month.fillna(0).astype('uint8') - 1\n",
    "        \n",
    "        return fraud_percentage_month.to_dict()\n",
    "\n",
    "        \n",
    "    def fit(self, X, y):\n",
    "        df = X.copy()\n",
    "\n",
    "        df['velocity_day_change'] = df['velocity_6h'] - df['velocity_24h']\n",
    "        df['velocity_term_month_change'] = df['velocity_6h'] - df['velocity_4w']\n",
    "        df['velocity_day_ratio'] = df['velocity_6h']/df['velocity_24h']\n",
    "        df['velocity_term_month_ratio'] = df['velocity_6h']/df['velocity_4w']\n",
    "        \n",
    "        self.income_map = self._get_fraud_ranking(X, y, 'income')\n",
    "        \n",
    "        self.quantile_similarity = preprocessing.QuantileTransformer(output_distribution='normal')\n",
    "        self.quantile_similarity.fit(df[['name_email_similarity']])\n",
    "        \n",
    "        self.quantile_bank_months = preprocessing.QuantileTransformer(output_distribution='normal')\n",
    "        self.quantile_bank_months.fit(df[['bank_months_count']])\n",
    "        \n",
    "        self.power_transformer = preprocessing.PowerTransformer(method='yeo-johnson')\n",
    "        self.power_transformer.fit(df[['current_address_months_count']])\n",
    "\n",
    "        self.pca_velocity = decomposition.PCA(n_components=4, svd_solver='arpack')\n",
    "        self.pca_velocity.fit(df[self.vel_features])\n",
    "        \n",
    "        # считаем процентили, чтобы гарантированно получить 4 бина\n",
    "        bins = np.percentile(df['bank_branch_count_8w'], [0, 25, 50, 75, 100])\n",
    "        # убираем повторяющиеся границы (если они есть)\n",
    "        self.bank_branch_bins = np.unique(bins)\n",
    "        \n",
    "        return self\n",
    "\n",
    "\n",
    "    def transform(self, X):\n",
    "        df = X.copy()\n",
    "        # создаем фичи, связанные со скоростями\n",
    "        df['velocity_day_change'] = df['velocity_6h'] - df['velocity_24h']\n",
    "        df['velocity_term_month_change'] = df['velocity_6h'] - df['velocity_4w']\n",
    "        df['velocity_day_ratio'] = df['velocity_6h']/df['velocity_24h']\n",
    "        df['velocity_term_month_ratio'] = df['velocity_6h']/df['velocity_4w']\n",
    "        \n",
    "        # бинарные признаки-флаги\n",
    "        df['only_one_valid'] = df['phone_home_valid'] ^ df['phone_mobile_valid']\n",
    "        \n",
    "        df['housing_status_BA'] = (df['housing_status'] == 'BA').astype('uint8')\n",
    "        df['housing_status_BE'] = (df['housing_status'] == 'BE').astype('uint8')\n",
    "        df['payment_type_AA'] = (df['payment_type'] == 'AA').astype('uint8')\n",
    "        df['device_os_windows'] = (df['device_os'] == 'windows').astype('uint8')\n",
    "        df['device_os_linux'] = (df['device_os'] == 'linux').astype('uint8')\n",
    "        df['device_os_other'] = (df['device_os'] == 'other').astype('uint8')\n",
    "        \n",
    "        df['CA_BA'] = ((X['employment_status']=='CA') & (X['housing_status']=='BA')).astype('uint8')\n",
    "        df['BA_windows'] = ((X['housing_status']=='BA') & (df['device_os'] == 'windows')).astype('uint8')\n",
    "        \n",
    "        df['intended_balcon_peak_1'] = ((df['intended_balcon_amount'] > 0 )\n",
    "                                  & (df['intended_balcon_amount'] < 60)).astype('uint8')\n",
    "        df['cur_address_months_binned_danger_spike'] = ((df['current_address_months_count'] > 25) &\n",
    "                                                          (df['current_address_months_count'] <= 200))\\\n",
    "                                                              .astype('uint8') \n",
    "                                                              \n",
    "        # рекодируем income по train\n",
    "        df['income'] = df['income'].map(self.income_map).fillna(0).astype('uint8')\n",
    "        \n",
    "        # преобразовываем величины\n",
    "        df['n_e_norm_similarity'] = self.quantile_similarity.transform(df[['name_email_similarity']])\n",
    "        df['bank_months_count_qt'] = self.quantile_bank_months.transform(df[['bank_months_count']])\n",
    "        df['cur_address'] = self.power_transformer.transform(df[['current_address_months_count']])\n",
    "        df['zip_logged'] = np.log(df['zip_count_4w']+1)\n",
    "        df['birth_distinct_emails_logged'] = np.log(df['date_of_birth_distinct_emails_4w']+1)\n",
    "        \n",
    "        # находим пиковое значение bank_branch_count\n",
    "        labels = [f\"q{i+1}\" for i in range(len(self.bank_branch_bins) - 1)]\n",
    "        \n",
    "        bank_branch_count_q = pd.cut(X['bank_branch_count_8w'], bins=self.bank_branch_bins, \n",
    "                                        labels=labels, include_lowest=True)\n",
    "        bank_branch_frame = pd.get_dummies(bank_branch_count_q).astype('uint8')\n",
    "\n",
    "        q1 = bank_branch_frame.get('q1', pd.Series(0, index=df.index))\n",
    "        q3 = bank_branch_frame.get('q3', pd.Series(0, index=df.index))\n",
    "        \n",
    "        if not q1.any() or q3.any():\n",
    "            print('WARNING: слипшиеся квантили для bank_branch_count_8w')\n",
    "        # создаем бинарный индикатор пикового значения\n",
    "        df['bank_branch_peak'] = (q1 | q3).astype('uint8')\n",
    "        \n",
    "        # создаем фичи-формулы\n",
    "        df['max_account_sum'] = df['bank_months_count'] * df['proposed_credit_limit']\n",
    "        df['zip_transaction_ratio'] = df['zip_count_4w'] * 2 / (df['bank_branch_count_8w']+1)\n",
    "        df['max_zip_sum'] = df['zip_count_4w'] * df['proposed_credit_limit']\n",
    "        df['zip_sum_ratio'] = df['zip_count_4w'] / df['proposed_credit_limit']\n",
    "        \n",
    "        # берем две главные компоненты признаков-скоростей\n",
    "        transformed_vel = self.pca_velocity.transform(df[self.vel_features])\n",
    "        df['vel_1'], df['vel_2'] = transformed_vel[:, 0], transformed_vel[:, 1]\n",
    "    \n",
    "        # возвращаем итоговый датафрейм\n",
    "        return df[self.features_list]"
   ]
  },
  {
   "cell_type": "code",
   "execution_count": 153,
   "id": "07d1f08c",
   "metadata": {},
   "outputs": [
    {
     "name": "stdout",
     "output_type": "stream",
     "text": [
      "WARNING: слипшиеся квантили для bank_branch_count_8w\n",
      "WARNING: слипшиеся квантили для bank_branch_count_8w\n",
      "WARNING: слипшиеся квантили для bank_branch_count_8w\n",
      "Recall@FPR=5 for train: 58.31 %\n",
      "Recall@FPR=5 for test: 48.28 %\n"
     ]
    }
   ],
   "source": [
    "from sklearn.pipeline import Pipeline\n",
    "\n",
    "pipe = Pipeline([\n",
    "    ('MissingValuesPreprocessor', MissingValuesPreprocessor()),\n",
    "    ('BankMonthsInputer', BankMonthsInputer()),\n",
    "    ('FeatureEngineering', FeatureEngineering(lin_features)),\n",
    "    ('CatBoost', cat.CatBoostClassifier(**best_params))\n",
    "])\n",
    "\n",
    "pipe.fit(X_train, y_train)\n",
    "\n",
    "y_pred_train = pipe.predict_proba(X_train)\n",
    "y_pred_test = pipe.predict_proba(X_test)\n",
    "\n",
    "print('Recall@FPR=5 for train: {:.2f} %'.format(get_recall(y_train, y_pred_train)*100))\n",
    "print('Recall@FPR=5 for test: {:.2f} %'.format(get_recall(y_test, y_pred_test)*100))"
   ]
  },
  {
   "cell_type": "markdown",
   "id": "2571c4cc",
   "metadata": {},
   "source": [
    "Здесь попробовал обучить пайплайн как на обычных train данных (т.е. не включая валидационную выборку), так и на полном train. Для первого результат был:"
   ]
  },
  {
   "cell_type": "markdown",
   "id": "6c0295e2",
   "metadata": {},
   "source": [
    "Recall@FPR=5 for train: 58.38 %\n",
    "\n",
    "Recall@FPR=5 for test: 47.77 %"
   ]
  },
  {
   "cell_type": "markdown",
   "id": "0c129251",
   "metadata": {},
   "source": [
    "Для второго, как видно выше - результат лучше.\n",
    "Итоговый, лучший результат по метрике - \n",
    "<br><br>\n",
    "Recall@FPR=5 for train: 58.31 %<br>\n",
    "Recall@FPR=5 for test: 48.28 %"
   ]
  },
  {
   "cell_type": "code",
   "execution_count": 165,
   "id": "0834cac4",
   "metadata": {},
   "outputs": [],
   "source": [
    "save_model(pipe, 'final_pipeline')"
   ]
  },
  {
   "cell_type": "code",
   "execution_count": 1,
   "id": "b104fcc9",
   "metadata": {},
   "outputs": [
    {
     "name": "stdout",
     "output_type": "stream",
     "text": [
      "absl-py==2.2.1Note: you may need to restart the kernel to use updated packages.\n",
      "\n",
      "aiohappyeyeballs==2.6.1\n",
      "aiohttp==3.11.16\n",
      "aiosignal==1.3.2\n",
      "alembic==1.13.2\n",
      "annotated-types==0.7.0\n",
      "anyio==4.10.0\n",
      "arch==7.2.0\n",
      "asttokens==2.4.1\n",
      "astunparse==1.6.3\n",
      "attrs==23.2.0\n",
      "bayesian_changepoint_detection==0.2.dev1\n",
      "beautifulsoup4==4.12.3\n",
      "bokeh==3.6.0\n",
      "Brotli==1.1.0\n",
      "captum==0.8.0\n",
      "catboost==1.2.5\n",
      "category-encoders==2.6.3\n",
      "certifi==2024.2.2\n",
      "chardet==5.2.0\n",
      "charset-normalizer==3.3.2\n",
      "clarabel==0.9.0\n",
      "click==8.1.7\n",
      "cloudpickle==3.0.0\n",
      "clustergram==0.8.1\n",
      "cmdstanpy==1.2.5\n",
      "colorama==0.4.6\n",
      "coloredlogs==15.0.1\n",
      "colorlog==6.8.2\n",
      "comet-ml==3.43.2\n",
      "comm==0.2.2\n",
      "configobj==5.0.8\n",
      "contourpy==1.3.2\n",
      "country-converter==1.2\n",
      "cvxpy==1.6.0\n",
      "cycler==0.12.1\n",
      "Cython==3.0.12\n",
      "dacite==1.8.1\n",
      "dash==2.17.1\n",
      "dash-bootstrap-components==1.3.1\n",
      "dash-core-components==2.0.0\n",
      "dash-html-components==2.0.0\n",
      "dash-table==5.0.0\n",
      "dash_colorscales==0.0.4\n",
      "dash_daq==0.5.0\n",
      "debugpy==1.8.1\n",
      "decorator==5.1.1\n",
      "dtale==3.12.0\n",
      "dulwich==0.22.1\n",
      "et-xmlfile==1.1.0\n",
      "everett==3.1.0\n",
      "executing==2.0.1\n",
      "fastapi==0.116.1\n",
      "fastjsonschema==2.19.1\n",
      "filelock==3.16.1\n",
      "Flask==2.2.5\n",
      "Flask-Compress==1.15\n",
      "flask-ngrok==0.0.25\n",
      "flatbuffers==25.2.10\n",
      "fonttools==4.57.0\n",
      "frozenlist==1.5.0\n",
      "fsspec==2024.10.0\n",
      "future==1.0.0\n",
      "gast==0.6.0\n",
      "gensim==4.3.2\n",
      "geographiclib==2.0\n",
      "geopandas==1.0.1\n",
      "geopy==2.4.1\n",
      "google-pasta==0.2.0\n",
      "graphviz==0.20.3\n",
      "greenlet==3.0.3\n",
      "grpcio==1.71.0\n",
      "h11==0.16.0\n",
      "h5py==3.13.0\n",
      "holidays==0.70\n",
      "html5lib==1.1\n",
      "htmlmin==0.1.12\n",
      "httptools==0.6.4\n",
      "humanfriendly==10.0\n",
      "hyperopt==0.2.7\n",
      "idna==3.7\n",
      "ImageHash==4.3.1\n",
      "imbalanced-learn==0.12.3\n",
      "importlib_metadata==7.1.0\n",
      "importlib_resources==6.5.2\n",
      "ipykernel==6.29.4\n",
      "ipython==8.23.0\n",
      "ipywidgets==8.1.3\n",
      "itsdangerous==2.2.0\n",
      "jedi==0.19.1\n",
      "Jinja2==3.1.4\n",
      "joblib==1.4.2\n",
      "jsonschema==4.21.1\n",
      "jsonschema-specifications==2023.12.1\n",
      "jupyter_client==8.6.1\n",
      "jupyter_core==5.7.2\n",
      "jupyterlab_widgets==3.0.11\n",
      "kaleido==0.2.1\n",
      "keras==3.9.1\n",
      "kiwisolver==1.4.8\n",
      "libclang==18.1.1\n",
      "lightgbm==4.5.0\n",
      "lightning-utilities==0.14.3\n",
      "llvmlite==0.42.0\n",
      "lxml==5.2.2\n",
      "lz4==4.3.3\n",
      "Mako==1.3.5\n",
      "Markdown==3.7\n",
      "markdown-it-py==3.0.0\n",
      "MarkupSafe==2.1.5\n",
      "matplotlib==3.10.1\n",
      "matplotlib-inline==0.1.6\n",
      "mdurl==0.1.2\n",
      "missingno==0.5.2\n",
      "ml_dtypes==0.5.1\n",
      "mpmath==1.3.0\n",
      "multidict==6.4.3\n",
      "multimethod==1.11.2\n",
      "namex==0.0.8\n",
      "nbformat==5.10.4\n",
      "nest-asyncio==1.6.0\n",
      "networkx==3.3\n",
      "neuralprophet==0.8.0\n",
      "nltk==3.9.1\n",
      "numba==0.59.1\n",
      "numpy==1.26.0\n",
      "nyoka==5.5.0\n",
      "onnx==1.17.0\n",
      "onnxconverter-common==1.14.0\n",
      "onnxruntime==1.21.1\n",
      "openpyxl==3.1.2\n",
      "opt_einsum==3.4.0\n",
      "optree==0.14.1\n",
      "optuna==3.6.1\n",
      "osqp==0.6.7.post3\n",
      "packaging==24.2\n",
      "pandas==2.2.3\n",
      "parso==0.8.4\n",
      "patsy==0.5.6\n",
      "phik==0.12.4\n",
      "pillow==11.2.1\n",
      "platformdirs==4.2.0\n",
      "plotly==5.21.0\n",
      "pmdarima==2.0.4\n",
      "prompt-toolkit==3.0.43\n",
      "propcache==0.3.1\n",
      "prophet==1.1.6\n",
      "protobuf==3.20.2\n",
      "psutil==5.9.8\n",
      "psycopg2==2.9.9\n",
      "PuLP==2.9.0\n",
      "pure-eval==0.2.2\n",
      "py4j==0.10.9.7\n",
      "pydantic==2.7.4\n",
      "pydantic_core==2.18.4\n",
      "Pygments==2.17.2\n",
      "pynndescent==0.5.13\n",
      "pyogrio==0.9.0\n",
      "pyparsing==3.2.3\n",
      "pyproj==3.6.1\n",
      "pyreadline3==3.5.4\n",
      "python-box==6.1.0\n",
      "python-dateutil==2.9.0.post0\n",
      "python-dotenv==1.1.1\n",
      "pytorch-lightning==1.9.5\n",
      "pytz==2025.2\n",
      "PyWavelets==1.6.0\n",
      "pywin32==306\n",
      "PyYAML==6.0.1\n",
      "pyzmq==25.1.2\n",
      "qdldl==0.1.7.post4\n",
      "referencing==0.34.0\n",
      "regex==2024.5.15\n",
      "requests==2.32.0\n",
      "requests-toolbelt==1.0.0\n",
      "retrying==1.3.4\n",
      "rich==13.7.1\n",
      "rpds-py==0.18.0\n",
      "ruptures==1.1.9\n",
      "schedule==1.2.1\n",
      "scikit-learn==1.6.1\n",
      "scikit-surprise==1.1.4\n",
      "scipy==1.15.2\n",
      "scs==3.2.7\n",
      "seaborn==0.13.2\n",
      "semantic-version==2.10.0\n",
      "sentry-sdk==2.7.1\n",
      "setuptools==78.1.0\n",
      "shap==0.48.0\n",
      "shapely==2.0.5\n",
      "simplejson==3.19.2\n",
      "six==1.17.0\n",
      "skl2onnx==1.18.0\n",
      "slicer==0.0.8\n",
      "smart-open==7.0.4\n",
      "sniffio==1.3.1\n",
      "soupsieve==2.5\n",
      "SQLAlchemy==2.0.32\n",
      "squarify==0.4.3\n",
      "stack-data==0.6.3\n",
      "stanio==0.5.1\n",
      "starlette==0.47.2\n",
      "statsmodels==0.14.2\n",
      "strsimpy==0.2.1\n",
      "sympy==1.13.1\n",
      "tangled-up-in-unicode==0.2.0\n",
      "tenacity==8.2.3\n",
      "tensorboard==2.19.0\n",
      "tensorboard-data-server==0.7.2\n",
      "tensorflow==2.19.0\n",
      "termcolor==2.4.0\n",
      "threadpoolctl==3.6.0\n",
      "torch==2.5.0\n",
      "torchmetrics==1.7.1\n",
      "tornado==6.4\n",
      "tqdm==4.66.4\n",
      "traitlets==5.14.2\n",
      "typeguard==4.3.0\n",
      "typing_extensions==4.12.2\n",
      "tzdata==2025.2\n",
      "umap-learn==0.5.6\n",
      "urllib3==2.2.1\n",
      "uvicorn==0.29.0\n",
      "visions==0.7.6\n",
      "watchfiles==1.1.0\n",
      "wcwidth==0.2.13\n",
      "webencodings==0.5.1\n",
      "websockets==15.0.1\n",
      "Werkzeug==3.0.3\n",
      "wheel==0.45.1\n",
      "widgetsnbextension==4.0.11\n",
      "wordcloud==1.9.3\n",
      "wrapt==1.16.0\n",
      "wurlitzer==3.1.1\n",
      "xarray==2024.6.0\n",
      "xgboost==2.1.1\n",
      "xlrd==2.0.1\n",
      "xyzservices==2024.9.0\n",
      "yarl==1.19.0\n",
      "ydata-profiling==4.9.0\n",
      "yellowbrick==1.5\n",
      "zipp==3.19.2\n",
      "zstandard==0.22.0\n"
     ]
    }
   ],
   "source": [
    "%pip freeze"
   ]
  },
  {
   "cell_type": "markdown",
   "id": "3e6c3ec0",
   "metadata": {},
   "source": [
    "---"
   ]
  },
  {
   "cell_type": "markdown",
   "id": "20748dc7",
   "metadata": {},
   "source": [
    "Ну, наконец, последний, бонусный пункт - это любительский, небольшой сервер для предсказания фрода по какой-то строке, или даже целому датафрейму на FastAPI. Для этого достаточно установить зависимости (желательно в отдельной среде) и запустить приложение app.py."
   ]
  }
 ],
 "metadata": {
  "kernelspec": {
   "display_name": "Python 3",
   "language": "python",
   "name": "python3"
  },
  "language_info": {
   "codemirror_mode": {
    "name": "ipython",
    "version": 3
   },
   "file_extension": ".py",
   "mimetype": "text/x-python",
   "name": "python",
   "nbconvert_exporter": "python",
   "pygments_lexer": "ipython3",
   "version": "3.12.2"
  }
 },
 "nbformat": 4,
 "nbformat_minor": 5
}
